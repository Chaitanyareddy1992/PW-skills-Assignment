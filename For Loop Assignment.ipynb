{
 "cells": [
  {
   "cell_type": "markdown",
   "id": "b7f72f69",
   "metadata": {},
   "source": [
    "## 1.Write a Python program to print the numbers from 1 to 10 using a for loop."
   ]
  },
  {
   "cell_type": "code",
   "execution_count": 1,
   "id": "5d11bbfc",
   "metadata": {},
   "outputs": [
    {
     "name": "stdout",
     "output_type": "stream",
     "text": [
      "1\n",
      "2\n",
      "3\n",
      "4\n",
      "5\n",
      "6\n",
      "7\n",
      "8\n",
      "9\n",
      "10\n"
     ]
    }
   ],
   "source": [
    "for i in range(1,11):\n",
    "    print(i)"
   ]
  },
  {
   "cell_type": "markdown",
   "id": "89e87b7e",
   "metadata": {},
   "source": [
    "## 2.Create a program that calculates the sum of all numbers in a list using a for loop."
   ]
  },
  {
   "cell_type": "code",
   "execution_count": 3,
   "id": "523ca88a",
   "metadata": {},
   "outputs": [
    {
     "name": "stdout",
     "output_type": "stream",
     "text": [
      "Sum of all elements in given list: 84\n"
     ]
    }
   ],
   "source": [
    "total = 0\n",
    "# create a list\n",
    "list1 = [11, 15, 17, 18, 23]\n",
    "# Iterate through each element in a list and add them in variable\n",
    "for element in range(0, len(list1)): \n",
    "    total = total + list1[element]\n",
    "   # print total value \n",
    "print(\"Sum of all elements in given list:\",total)    "
   ]
  },
  {
   "cell_type": "markdown",
   "id": "6c276543",
   "metadata": {},
   "source": [
    "## 3.Write a program to print the characters of a string in reverse order using a for loop"
   ]
  },
  {
   "cell_type": "code",
   "execution_count": 6,
   "id": "e8fa829f",
   "metadata": {},
   "outputs": [
    {
     "name": "stdout",
     "output_type": "stream",
     "text": [
      "The Original string is: Data career\n",
      "The reverse string is: reerac ataD\n"
     ]
    }
   ],
   "source": [
    "def reverse_string(str):\n",
    "  # Declare empty string to store reverse values  \n",
    "    str1 = \"\"\n",
    "    for i in str:\n",
    "        str1 = i +str1\n",
    "        # it will return reverse string\n",
    "    return str1\n",
    "# Enter string\n",
    "str = \"Data career\"\n",
    "print(\"The Original string is:\", str)\n",
    "print(\"The reverse string is:\", reverse_string(str))"
   ]
  },
  {
   "cell_type": "markdown",
   "id": "f5f9cfd0",
   "metadata": {},
   "source": [
    "## 4.Develop a program that finds the factorial of a given number using a for loop"
   ]
  },
  {
   "cell_type": "code",
   "execution_count": 7,
   "id": "2492688a",
   "metadata": {},
   "outputs": [
    {
     "name": "stdout",
     "output_type": "stream",
     "text": [
      "Enter a number: 5\n",
      "Factorial of the given number is: 120\n"
     ]
    }
   ],
   "source": [
    "n = int(input(\"Enter a number: \"))\n",
    "factorial = 1\n",
    "if n >= 1:\n",
    "    for i in range(1, n+1):\n",
    "        factorial = factorial * i\n",
    "print(\"Factorial of the given number is:\", factorial)        "
   ]
  },
  {
   "cell_type": "markdown",
   "id": "64705364",
   "metadata": {},
   "source": [
    "## 5.Create a program to print the multiplication table of a given number using a for loop"
   ]
  },
  {
   "cell_type": "code",
   "execution_count": 8,
   "id": "b0e8e141",
   "metadata": {},
   "outputs": [
    {
     "name": "stdout",
     "output_type": "stream",
     "text": [
      "enter the numberyou want to generate a multiplication table for, then hit the `enter` key: 5\n",
      "5 * 1 = 5\n",
      "5 * 2 = 10\n",
      "5 * 3 = 15\n",
      "5 * 4 = 20\n",
      "5 * 5 = 25\n",
      "5 * 6 = 30\n",
      "5 * 7 = 35\n",
      "5 * 8 = 40\n",
      "5 * 9 = 45\n",
      "5 * 10 = 50\n"
     ]
    }
   ],
   "source": [
    "n = int(input(\"enter the numberyou want to generate a multiplication table for, then hit the `enter` key: \"))\n",
    "ourRange = range(1,11)\n",
    "for x in ourRange:\n",
    "    result = n * x\n",
    "    print(n, \"*\",x,\"=\",result)"
   ]
  },
  {
   "cell_type": "markdown",
   "id": "8c0db584",
   "metadata": {},
   "source": [
    "## 6.Write a program that counts the number of even and odd numbers in a list using a for loop"
   ]
  },
  {
   "cell_type": "code",
   "execution_count": 9,
   "id": "bc042f2e",
   "metadata": {},
   "outputs": [
    {
     "name": "stdout",
     "output_type": "stream",
     "text": [
      "Even number in the list: 4\n",
      "Odd number in the list: 3\n"
     ]
    }
   ],
   "source": [
    "list1 = [10, 20, 19, 5, 50, 16, 17]\n",
    "\n",
    "even_count, odd_count = 0, 0\n",
    "# Iterating each nuber in list\n",
    "for num in list1:\n",
    "    # checking condition\n",
    "    if num % 2 == 0:\n",
    "        even_count += 1\n",
    "    else:\n",
    "        odd_count += 1\n",
    "\n",
    "print(\"Even number in the list:\", even_count)\n",
    "print(\"Odd number in the list:\", odd_count)"
   ]
  },
  {
   "cell_type": "markdown",
   "id": "85de66e5",
   "metadata": {},
   "source": [
    "## 7.Develop a program that prints the squares of numbers from 1 to 5 using a for loop"
   ]
  },
  {
   "cell_type": "code",
   "execution_count": 10,
   "id": "3e9ca9e1",
   "metadata": {},
   "outputs": [
    {
     "name": "stdout",
     "output_type": "stream",
     "text": [
      "1\n",
      "4\n",
      "9\n",
      "16\n",
      "25\n"
     ]
    }
   ],
   "source": [
    "number = 5\n",
    "for index in range(1, number+1):\n",
    "    print(index**2)"
   ]
  },
  {
   "cell_type": "markdown",
   "id": "f159a5d3",
   "metadata": {},
   "source": [
    "## 8.Create a program to find the length of a string without using the len() function"
   ]
  },
  {
   "cell_type": "code",
   "execution_count": 11,
   "id": "dc5dee53",
   "metadata": {},
   "outputs": [
    {
     "name": "stdout",
     "output_type": "stream",
     "text": [
      "12\n"
     ]
    }
   ],
   "source": [
    "string = 'Data Science'\n",
    "\n",
    "count = 0\n",
    "\n",
    "for i in string:\n",
    "    count += 1\n",
    "print(count)    "
   ]
  },
  {
   "cell_type": "markdown",
   "id": "184b5ade",
   "metadata": {},
   "source": [
    "## 9.Write a program that calculates the average of a list of numbers using a for loop"
   ]
  },
  {
   "cell_type": "code",
   "execution_count": 12,
   "id": "af051ca8",
   "metadata": {},
   "outputs": [
    {
     "name": "stdout",
     "output_type": "stream",
     "text": [
      "Input a list of numbers separated by comma then space: 5, 10, 12, 22, 25\n",
      "The average of the numbers you entered is:  14.8\n"
     ]
    }
   ],
   "source": [
    "#receive list from user\n",
    "add_list = input('Input a list of numbers separated by comma then space: ')\n",
    "try:\n",
    "    #split the user input by spaces\n",
    "    add_list = add_list.split(', ')\n",
    "    sum_list = 0\n",
    " \n",
    "    #loop over the list and add number to sum\n",
    "    for number in add_list:\n",
    "        sum_list = int(number) + sum_list\n",
    " \n",
    "    #calculate the average\n",
    "    avg_list = sum_list / len(add_list)\n",
    "    print('The average of the numbers you entered is: ', avg_list)\n",
    "except ValueError:\n",
    "    print('Please enter a list of number separated by a comma and space only')"
   ]
  },
  {
   "cell_type": "markdown",
   "id": "cf183292",
   "metadata": {},
   "source": [
    "## 10.Develop a program that prints the first n Fibonacci numbers using a for loop"
   ]
  },
  {
   "cell_type": "code",
   "execution_count": 13,
   "id": "fbde6899",
   "metadata": {},
   "outputs": [
    {
     "name": "stdout",
     "output_type": "stream",
     "text": [
      "0 1 1 2 3 5 8 13 21 34 "
     ]
    }
   ],
   "source": [
    "def fibonacci_numbers(num):\n",
    "    if num == 0:\n",
    "        return 0\n",
    "    elif num == 1:\n",
    "        return 1\n",
    "    else:\n",
    "        # printing fibonacci numbers\n",
    "        return fibonacci_numbers(num-2)+fibonacci_numbers(num-1)\n",
    "  \n",
    "  \n",
    "n = 10\n",
    "for i in range(0, n):\n",
    "    print(fibonacci_numbers(i), end=\" \")"
   ]
  },
  {
   "cell_type": "markdown",
   "id": "dfb25e15",
   "metadata": {},
   "source": [
    "# Intermediate level"
   ]
  },
  {
   "cell_type": "markdown",
   "id": "a4c52bb3",
   "metadata": {},
   "source": [
    "## 11.Write a program to check if a given list contains any duplicates using a for loop"
   ]
  },
  {
   "cell_type": "code",
   "execution_count": 15,
   "id": "0044ef70",
   "metadata": {},
   "outputs": [
    {
     "name": "stdout",
     "output_type": "stream",
     "text": [
      "[1, 2, 5, 9]\n"
     ]
    }
   ],
   "source": [
    "list = [1, 2, 1, 2, 3, 4, 5, 1, 1, 2, 5, 6, 7, 8, 9, 9]\n",
    " \n",
    "uniqueList = []\n",
    "duplicateList = []\n",
    " \n",
    "for i in list:\n",
    "    if i not in uniqueList:\n",
    "        uniqueList.append(i)\n",
    "    elif i not in duplicateList:\n",
    "        duplicateList.append(i)\n",
    " \n",
    "print(duplicateList)"
   ]
  },
  {
   "cell_type": "markdown",
   "id": "1e4648ae",
   "metadata": {},
   "source": [
    "## 12.Create a program that prints the prime numbers in a given range using a for loop"
   ]
  },
  {
   "cell_type": "code",
   "execution_count": 17,
   "id": "98637382",
   "metadata": {},
   "outputs": [
    {
     "name": "stdout",
     "output_type": "stream",
     "text": [
      "Please, Enter the Lowest Range Value: 100\n",
      "Please, Enter the Upper Range Value: 200\n",
      "The Prime Numbers in the range are: \n",
      "101\n",
      "103\n",
      "107\n",
      "109\n",
      "113\n",
      "127\n",
      "131\n",
      "137\n",
      "139\n",
      "149\n",
      "151\n",
      "157\n",
      "163\n",
      "167\n",
      "173\n",
      "179\n",
      "181\n",
      "191\n",
      "193\n",
      "197\n",
      "199\n"
     ]
    }
   ],
   "source": [
    "lower_value = int(input (\"Please, Enter the Lowest Range Value: \"))  \n",
    "upper_value = int(input (\"Please, Enter the Upper Range Value: \"))  \n",
    "  \n",
    "print (\"The Prime Numbers in the range are: \")  \n",
    "for number in range (lower_value, upper_value + 1):  \n",
    "    if number > 1:  \n",
    "        for i in range (2, number):  \n",
    "            if (number % i) == 0:  \n",
    "                break  \n",
    "        else:  \n",
    "            print (number)         "
   ]
  },
  {
   "cell_type": "markdown",
   "id": "dc971731",
   "metadata": {},
   "source": [
    "## 13.Develop a program that counts the number of vowels in a string using a for loop"
   ]
  },
  {
   "cell_type": "code",
   "execution_count": 18,
   "id": "f67c2707",
   "metadata": {},
   "outputs": [
    {
     "name": "stdout",
     "output_type": "stream",
     "text": [
      "No. of vowels : 5\n"
     ]
    }
   ],
   "source": [
    "def vowel_count(str):\n",
    "     \n",
    "    # Initializing count variable to 0\n",
    "    count = 0\n",
    "     \n",
    "    # Creating a set of vowels\n",
    "    vowel = set(\"aeiouAEIOU\")\n",
    "     \n",
    "    # Loop to traverse the alphabet in the given string\n",
    "    for alphabet in str:\n",
    "     \n",
    "        # If alphabet is present in set vowel\n",
    "        if alphabet in vowel:\n",
    "            count = count + 1\n",
    "     \n",
    "    print(\"No. of vowels :\", count)\n",
    "     \n",
    "# print result\n",
    "str = \"Data Career\"\n",
    " \n",
    "# Function Call\n",
    "vowel_count(str)"
   ]
  },
  {
   "cell_type": "markdown",
   "id": "8e5c6326",
   "metadata": {},
   "source": [
    "## 14. Write a program to find the maximum element in a 2D list using a nested for loop"
   ]
  },
  {
   "cell_type": "code",
   "execution_count": 19,
   "id": "b8ed87d6",
   "metadata": {},
   "outputs": [
    {
     "name": "stdout",
     "output_type": "stream",
     "text": [
      "Maximum element: 9\n"
     ]
    }
   ],
   "source": [
    "matrix = [\n",
    "    [1, 2, 3],\n",
    "    [4, 5, 6],\n",
    "    [7, 8, 9]\n",
    "]\n",
    "\n",
    "# Initialize a variable to store the maximum element, assuming the first element is the maximum\n",
    "max_element = matrix[0][0]\n",
    "\n",
    "# Nested for loop to iterate through elements of the 2D list\n",
    "for row in matrix:\n",
    "    for element in row:\n",
    "        # Check if the current element is greater than the current maximum element\n",
    "        if element > max_element:\n",
    "            max_element = element\n",
    "\n",
    "# Print the maximum element\n",
    "print(\"Maximum element:\", max_element)"
   ]
  },
  {
   "cell_type": "markdown",
   "id": "8892af8d",
   "metadata": {},
   "source": [
    "## 15.Create a program that removes all occurrences of a specific element from a list using a for loop"
   ]
  },
  {
   "cell_type": "code",
   "execution_count": 20,
   "id": "7bfea044",
   "metadata": {},
   "outputs": [
    {
     "name": "stdout",
     "output_type": "stream",
     "text": [
      "Original list:\n",
      "[10, 20, 10, 30, 10, 40, 10, 50, 60]\n",
      "list after removing elements:\n",
      "[20, 30, 40, 50, 60]\n"
     ]
    }
   ],
   "source": [
    "# Enter elements of a list\n",
    "list = [10, 20, 10, 30, 10, 40, 10, 50, 60]\n",
    "# number (n) which is to  be removed\n",
    "n = 10\n",
    "\n",
    "# print the original list \n",
    "print (\"Original list:\")\n",
    "print (list)\n",
    "\n",
    "# loop to traverse each element in the list and remove elements which are equals to n\n",
    "for x in list:\n",
    "    if x == n:\n",
    "        list.remove(x)\n",
    "\n",
    "# print the list after removing given element\n",
    "print (\"list after removing elements:\")\n",
    "print (list)"
   ]
  },
  {
   "cell_type": "markdown",
   "id": "1171d97c",
   "metadata": {},
   "source": [
    "## 16.Develop a program that generates a multiplication table for numbers from 1 to 5 using a nested for loop"
   ]
  },
  {
   "cell_type": "code",
   "execution_count": 21,
   "id": "49de5c6b",
   "metadata": {},
   "outputs": [
    {
     "name": "stdout",
     "output_type": "stream",
     "text": [
      "1 2 3 4 5 \n",
      "2 4 6 8 10 \n",
      "3 6 9 12 15 \n",
      "4 8 12 16 20 \n",
      "5 10 15 20 25 \n"
     ]
    }
   ],
   "source": [
    "import sys\n",
    "for i in range(1, 6):\n",
    "    for j in range(1, 6):\n",
    "        k = i*j\n",
    "        print(k, end= ' ')\n",
    "    print()    "
   ]
  },
  {
   "cell_type": "markdown",
   "id": "73e19379",
   "metadata": {},
   "source": [
    "## 17.Write a program that converts a list of Fahrenheit temperatures to Celsius using a for loop"
   ]
  },
  {
   "cell_type": "code",
   "execution_count": 22,
   "id": "b1dc6c6a",
   "metadata": {},
   "outputs": [
    {
     "name": "stdout",
     "output_type": "stream",
     "text": [
      "32 degrees Fahrenheit is equal to 0.00 degrees Celsius\n",
      "68 degrees Fahrenheit is equal to 20.00 degrees Celsius\n",
      "100 degrees Fahrenheit is equal to 37.78 degrees Celsius\n",
      "212 degrees Fahrenheit is equal to 100.00 degrees Celsius\n"
     ]
    }
   ],
   "source": [
    "# Function to convert Fahrenheit to Celsius\n",
    "def fahrenheit_to_celsius(fahrenheit):\n",
    "    celsius = (fahrenheit - 32) * 5.0/9.0\n",
    "    return celsius\n",
    "\n",
    "# List for Fahrenheit temperatures\n",
    "fahrenheit_temperatures = [32, 68, 100, 212]\n",
    "\n",
    "# Create an empty list to store the Celsius temperatures\n",
    "celsius_temperatures = []\n",
    "\n",
    "# Convert each Fahrenheit temperature to Celsius using a for loop\n",
    "for temp in fahrenheit_temperatures:\n",
    "    celsius = fahrenheit_to_celsius(temp)\n",
    "    celsius_temperatures.append(celsius)\n",
    "\n",
    "# Print the results\n",
    "for i in range(len(fahrenheit_temperatures)):\n",
    "    print(f\"{fahrenheit_temperatures[i]} degrees Fahrenheit is equal to {celsius_temperatures[i]:.2f} degrees Celsius\")"
   ]
  },
  {
   "cell_type": "markdown",
   "id": "dea08ffd",
   "metadata": {},
   "source": [
    "## 18.Create a program to print the common elements from two lists using a for loop"
   ]
  },
  {
   "cell_type": "code",
   "execution_count": 23,
   "id": "7a093d3f",
   "metadata": {},
   "outputs": [
    {
     "name": "stdout",
     "output_type": "stream",
     "text": [
      "Common elements: [33, 14, 55]\n"
     ]
    }
   ],
   "source": [
    "# Define two lists\n",
    "list1 = [11, 12, 33, 14, 55]\n",
    "list2 = [33, 14, 55, 6, 27]\n",
    "\n",
    "# Create a list to store common elements\n",
    "common_elements = []\n",
    "\n",
    "# Iterate through all the elements of list1 using a for loop\n",
    "for item1 in list1:\n",
    "    # Check if the element is also available in list2\n",
    "    if item1 in list2:\n",
    "        # If it is, add it to the common_elements list\n",
    "        common_elements.append(item1)\n",
    "\n",
    "# Print the common elements\n",
    "print(\"Common elements:\", common_elements)"
   ]
  },
  {
   "cell_type": "markdown",
   "id": "4d1056f7",
   "metadata": {},
   "source": [
    "## 19.Develop a program that prints the pattern of right-angled triangles using a for loop. Use ‘*’ to draw the pattern"
   ]
  },
  {
   "cell_type": "code",
   "execution_count": 24,
   "id": "2eb8f7b0",
   "metadata": {},
   "outputs": [
    {
     "name": "stdout",
     "output_type": "stream",
     "text": [
      "Enter the total values.5\n",
      "right angled Triangle\n",
      "* \n",
      "* * \n",
      "* * * \n",
      "* * * * \n",
      "* * * * * \n"
     ]
    }
   ],
   "source": [
    "n = int(input(\"Enter the total values.\"))\n",
    "print(\"right angled Triangle\")\n",
    "for i in range(1, n+1):\n",
    "    for j in range(1, i+1):\n",
    "        print('*', end = ' ')\n",
    "    print()    "
   ]
  },
  {
   "cell_type": "markdown",
   "id": "629559c3",
   "metadata": {},
   "source": [
    "## 20.Write a program to find the greatest common divisor (GCD) of two numbers using a for loop"
   ]
  },
  {
   "cell_type": "code",
   "execution_count": 25,
   "id": "c9824bcb",
   "metadata": {},
   "outputs": [
    {
     "name": "stdout",
     "output_type": "stream",
     "text": [
      "The computed GCD of 86 and 44 is 2.\n"
     ]
    }
   ],
   "source": [
    "x = 86\n",
    "y = 44\n",
    "n = min(x,y)\n",
    "\n",
    "gcd = 0\n",
    "for i in range(1,n+1):\n",
    "    if x%i == 0 and y%i == 0:\n",
    "        gcd = i\n",
    "print(f\"The computed GCD of {x} and {y} is {gcd}.\")        \n",
    "        "
   ]
  },
  {
   "cell_type": "markdown",
   "id": "7631bb24",
   "metadata": {},
   "source": [
    "# Advanced Level"
   ]
  },
  {
   "cell_type": "markdown",
   "id": "01a39467",
   "metadata": {},
   "source": [
    "### 21.Create a program that calculates the sum of the digits of numbers in a list using a list comprehension"
   ]
  },
  {
   "cell_type": "code",
   "execution_count": 38,
   "id": "1a7dbd69",
   "metadata": {},
   "outputs": [
    {
     "name": "stdout",
     "output_type": "stream",
     "text": [
      "[3, 5, 15, 17, 10]\n",
      "Total Digit sum is: 50\n"
     ]
    }
   ],
   "source": [
    "# Enter the numbers of a list\n",
    "numbers = [12, 23, 456, 89, 1234]\n",
    "# List comprehension for the given list\n",
    "digit_sums = [sum(int(digit) for digit in str(num)) for num in numbers]\n",
    "total_digit_sum = sum(digit_sums)\n",
    "print(digit_sums)\n",
    "print(\"Total Digit sum is:\",total_digit_sum)"
   ]
  },
  {
   "cell_type": "markdown",
   "id": "8416ac41",
   "metadata": {},
   "source": [
    "### 22. Write a program to find the prime factors of a given number using a `for` loop and list comprehension."
   ]
  },
  {
   "cell_type": "code",
   "execution_count": 39,
   "id": "f225bf69",
   "metadata": {},
   "outputs": [
    {
     "name": "stdout",
     "output_type": "stream",
     "text": [
      "Enter the number from start point:2\n",
      "Enter the number for end point:20\n",
      "2\n",
      "3\n",
      "5\n",
      "7\n",
      "11\n",
      "13\n",
      "17\n",
      "19\n"
     ]
    }
   ],
   "source": [
    "x = int(input(\"Enter the number from start point:\"))\n",
    "y = int(input(\"Enter the number for end point:\"))\n",
    "\n",
    "for num in range(x, y+1):\n",
    "    if num >1:\n",
    "        for i in range(2,int(num**0.5)+1):\n",
    "            if num%i == 0:\n",
    "                break\n",
    "        else:\n",
    "            print(num)"
   ]
  },
  {
   "cell_type": "code",
   "execution_count": 40,
   "id": "0827b1f5",
   "metadata": {},
   "outputs": [
    {
     "name": "stdout",
     "output_type": "stream",
     "text": [
      "[2, 3, 5, 7, 11, 13, 17, 19]\n"
     ]
    }
   ],
   "source": [
    "value = 20\n",
    "prime = [x for x in range(2, value) if all(x%y !=0 for y in range(2, x))]\n",
    "print(prime)"
   ]
  },
  {
   "cell_type": "markdown",
   "id": "21f711c5",
   "metadata": {},
   "source": [
    "### 23.Develop a program that extracts unique elements from a list and stores them in a new list using a list comprehension"
   ]
  },
  {
   "cell_type": "code",
   "execution_count": 41,
   "id": "a4e41849",
   "metadata": {},
   "outputs": [
    {
     "name": "stdout",
     "output_type": "stream",
     "text": [
      "[1, 2, 3, 4, 5, 6]\n"
     ]
    }
   ],
   "source": [
    "lists = [1, 2, 3, 4, 5, 2, 4, 5, 6, 1, 2]\n",
    "unique_lists = [x for i, x in enumerate(lists) if x not in lists[:i]]\n",
    "print(unique_lists)"
   ]
  },
  {
   "cell_type": "markdown",
   "id": "e14a08e4",
   "metadata": {},
   "source": [
    "### 24.Create a program that generates a list of all palindromic numbers up to a specified limit using a list comprehension"
   ]
  },
  {
   "cell_type": "code",
   "execution_count": 44,
   "id": "1a9b0811",
   "metadata": {},
   "outputs": [
    {
     "name": "stdout",
     "output_type": "stream",
     "text": [
      "Palindromic Numbers up to 200 is: [1, 2, 3, 4, 5, 6, 7, 8, 9, 11, 22, 33, 44, 55, 66, 77, 88, 99, 101, 111, 121, 131, 141, 151, 161, 171, 181, 191]\n"
     ]
    }
   ],
   "source": [
    "# Enter the number of range of a limit\n",
    "limit = 200\n",
    "palindromic_number = [num for num in range(1, limit+1) if str(num) == str(num)[::-1]]\n",
    "print(\"Palindromic Numbers up to\", limit, \"is:\",palindromic_number)                                          "
   ]
  },
  {
   "cell_type": "markdown",
   "id": "1e7ae67a",
   "metadata": {},
   "source": [
    "## 25.Write a program to flatten a nested list using list comprehension"
   ]
  },
  {
   "cell_type": "code",
   "execution_count": 45,
   "id": "a7d0c79d",
   "metadata": {},
   "outputs": [
    {
     "name": "stdout",
     "output_type": "stream",
     "text": [
      "Flattened list is: [1, 2, 3, 4, 5, 6, 7, 8, 9, 10]\n"
     ]
    }
   ],
   "source": [
    "# Enter the list for nested\n",
    "new_list = [[1,2],[3,4,5],[6,7,8],[9,10]]\n",
    "# convert nested list to flattened list\n",
    "Flattened_list = [number for sublist in new_list for number in sublist]\n",
    "print(\"Flattened list is:\", Flattened_list)"
   ]
  },
  {
   "cell_type": "markdown",
   "id": "8f35d7b6",
   "metadata": {},
   "source": [
    "### 26.Develop a program that computes the sum of even and odd numbers in a list separately using list comprehension"
   ]
  },
  {
   "cell_type": "code",
   "execution_count": 49,
   "id": "6536c2c7",
   "metadata": {},
   "outputs": [
    {
     "name": "stdout",
     "output_type": "stream",
     "text": [
      "Sum of Even numbers: 20\n",
      "sum of odd numbers: 25\n"
     ]
    }
   ],
   "source": [
    "# enter the numbers for a list\n",
    "numbers = [1,2,3,4,5,6,7,8,9]\n",
    "# sum of even numbers which is dividle by 2 and remainder 0\n",
    "even_num = sum([ x for x in numbers if x%2 == 0])\n",
    "# sum of odd numbers which is not dividable by 2 and remainder 1\n",
    "odd_num = sum([ x for x in numbers if x%2 != 0])\n",
    "print(\"Sum of Even numbers:\",even_num)\n",
    "print(\"sum of odd numbers:\",odd_num)"
   ]
  },
  {
   "cell_type": "markdown",
   "id": "89951a83",
   "metadata": {},
   "source": [
    "### 27.Create a program that generates a list of squares of odd numbers between 1 and 10 using list comprehension"
   ]
  },
  {
   "cell_type": "code",
   "execution_count": 50,
   "id": "edfef41b",
   "metadata": {},
   "outputs": [
    {
     "name": "stdout",
     "output_type": "stream",
     "text": [
      "Square of odd numbers of list: [1, 9, 25, 49, 81]\n"
     ]
    }
   ],
   "source": [
    "# Enter the squares of given list from 1 to 10\n",
    "square_odd_num = [x**2 for x in range(1,10) if x%2 != 0]\n",
    "# print result\n",
    "print(\"Square of odd numbers of list:\", square_odd_num)"
   ]
  },
  {
   "cell_type": "markdown",
   "id": "78fde725",
   "metadata": {},
   "source": [
    "###  28.Write a program that combines two lists into a dictionary using list comprehension"
   ]
  },
  {
   "cell_type": "code",
   "execution_count": 53,
   "id": "57d70022",
   "metadata": {},
   "outputs": [
    {
     "name": "stdout",
     "output_type": "stream",
     "text": [
      "Combined dictionary is: {'name': 'Chaitanya', 'Age': '30', 'City': 'Hyderabad'}\n"
     ]
    }
   ],
   "source": [
    "# Enter two lists\n",
    "keys = [\"name\",\"Age\",\"City\"]\n",
    "values = [\"Chaitanya\",\"30\",\"Hyderabad\"]\n",
    "# combine as a dictionary for the two given lists\n",
    "combined_dict = {keys[i]: values[i] for i in range(len(keys))} \n",
    "print(\"Combined dictionary is:\",combined_dict)"
   ]
  },
  {
   "cell_type": "markdown",
   "id": "26c7f38b",
   "metadata": {},
   "source": [
    "### 29. Develop a program that extracts the vowels from a string and stores them in a list using list comprehension"
   ]
  },
  {
   "cell_type": "code",
   "execution_count": 57,
   "id": "55e44e5a",
   "metadata": {},
   "outputs": [
    {
     "name": "stdout",
     "output_type": "stream",
     "text": [
      "Given Input string is: Data Science!\n",
      "Vowels: ['a', 'a', 'i', 'e', 'e']\n"
     ]
    }
   ],
   "source": [
    "# Enter the string\n",
    "input_string = \"Data Science!\"\n",
    "# enter the vowels of a string\n",
    "vowels = [char.lower() for char in input_string if char.lower() in \"aeiou\"]\n",
    "print(\"Given Input string is:\", input_string)\n",
    "print(\"Vowels:\", vowels)"
   ]
  },
  {
   "cell_type": "markdown",
   "id": "9d057678",
   "metadata": {},
   "source": [
    "### 30. Create a program that removes all non-numeric characters from a list of strings using list comprehension"
   ]
  },
  {
   "cell_type": "code",
   "execution_count": 64,
   "id": "0a23e41c",
   "metadata": {},
   "outputs": [
    {
     "name": "stdout",
     "output_type": "stream",
     "text": [
      "numeric string is: ['12', '13', '124', '153']\n"
     ]
    }
   ],
   "source": [
    "string_list = [\"xyz12\", \"abc13\", \"ades124\", \"hi153\"]\n",
    "numeric_strings = [''.join(char for char in s if char.isdigit()) for s in string_list]\n",
    "print(\"numeric string is:\", numeric_strings)"
   ]
  },
  {
   "cell_type": "markdown",
   "id": "4021ac5d",
   "metadata": {},
   "source": [
    "# Challenge Level"
   ]
  },
  {
   "cell_type": "markdown",
   "id": "965fa634",
   "metadata": {},
   "source": [
    "### 31. Write a program to generate a list of prime numbers using the Sieve of Eratosthenes algorithm and list comprehension"
   ]
  },
  {
   "cell_type": "code",
   "execution_count": 67,
   "id": "7852e503",
   "metadata": {},
   "outputs": [
    {
     "name": "stdout",
     "output_type": "stream",
     "text": [
      "Prime Numbers up to 50 are: [2, 3, 5, 7, 11, 13, 17, 19, 23, 29, 31, 37, 41, 43, 47]\n"
     ]
    }
   ],
   "source": [
    "def sieve_of_eratosthenes(n):\n",
    "    # Create a boolean list \"is_prime\" and initialize all entries to True\n",
    "    is_prime = [True] * (n + 1)\n",
    "    is_prime[0] = is_prime[1] = False  \n",
    "\n",
    "    for p in range(2, int(n**0.5) + 1):\n",
    "        if is_prime[p]:\n",
    "            for i in range(p * p, n + 1, p):\n",
    "                is_prime[i] = False\n",
    "\n",
    "    # use list comprehension to generate list of primes\n",
    "    primes = [i for i, prime in enumerate(is_prime) if prime]\n",
    "\n",
    "    return primes\n",
    "\n",
    "# Define the limit up to which you want to find prime numbers\n",
    "limit = 50\n",
    "\n",
    "# Generate a list of prime numbers up to the specified limit\n",
    "prime_numbers = sieve_of_eratosthenes(limit)\n",
    "\n",
    "# Print the list of prime numbers\n",
    "print(\"Prime Numbers up to\", limit, \"are:\", prime_numbers)\n"
   ]
  },
  {
   "cell_type": "markdown",
   "id": "a0969d9a",
   "metadata": {},
   "source": [
    "### 32. Create a program that generates a list of all Pythagorean triplets up to a specified limit using list comprehension"
   ]
  },
  {
   "cell_type": "code",
   "execution_count": null,
   "id": "98d5bb8d",
   "metadata": {},
   "outputs": [],
   "source": [
    "def pythagerean_triplets(limit):\n",
    "    triplets = []"
   ]
  },
  {
   "cell_type": "code",
   "execution_count": 68,
   "id": "36671199",
   "metadata": {},
   "outputs": [
    {
     "name": "stdout",
     "output_type": "stream",
     "text": [
      "Pythagorean Triplets up to 20 are:\n",
      "(3, 4, 5)\n",
      "(5, 12, 13)\n",
      "(6, 8, 10)\n",
      "(8, 15, 17)\n",
      "(9, 12, 15)\n"
     ]
    }
   ],
   "source": [
    "# Define a function to generate Pythagorean triplets up to a specified limit\n",
    "def pythagorean_triplets(limit):\n",
    "    triplets = [(a, b, c) for a in range(1, limit) for b in range(a, limit) for c in range(b, limit) if a**2 + b**2 == c**2]\n",
    "    return triplets\n",
    "\n",
    "# Specify the limit\n",
    "limit = 20\n",
    "\n",
    "# Generate a list of Pythagorean triplets up to the specified limit\n",
    "triplet_list = pythagorean_triplets(limit)\n",
    "\n",
    "# Print the list of Pythagorean triplets\n",
    "print(\"Pythagorean Triplets up to\", limit, \"are:\")\n",
    "for triplet in triplet_list:\n",
    "    print(triplet)\n"
   ]
  },
  {
   "cell_type": "markdown",
   "id": "e3d0299c",
   "metadata": {},
   "source": [
    "### 33. Develop a program that generates a list of all possible combinations of two lists using list comprehension"
   ]
  },
  {
   "cell_type": "code",
   "execution_count": 69,
   "id": "b62066a0",
   "metadata": {},
   "outputs": [
    {
     "name": "stdout",
     "output_type": "stream",
     "text": [
      "List1 is: [1, 2, 3, 4, 5]\n",
      "List2 is: ['a', 'b', 'c', 'd', 'e']\n",
      "Combinations is : [(1, 'a'), (1, 'b'), (1, 'c'), (1, 'd'), (1, 'e'), (2, 'a'), (2, 'b'), (2, 'c'), (2, 'd'), (2, 'e'), (3, 'a'), (3, 'b'), (3, 'c'), (3, 'd'), (3, 'e'), (4, 'a'), (4, 'b'), (4, 'c'), (4, 'd'), (4, 'e'), (5, 'a'), (5, 'b'), (5, 'c'), (5, 'd'), (5, 'e')]\n"
     ]
    }
   ],
   "source": [
    "# Enter the lists\n",
    "list1 = [1,2,3,4,5]\n",
    "list2 = ['a','b','c','d','e']\n",
    "# list comprehension to generate all possible combinations\n",
    "combinations = [(x,y) for x in list1 for y in list2]\n",
    "# Print list of all combinations\n",
    "print(\"List1 is:\", list1)\n",
    "print(\"List2 is:\", list2)\n",
    "print(\"Combinations is :\", combinations)"
   ]
  },
  {
   "cell_type": "markdown",
   "id": "dce7a6af",
   "metadata": {},
   "source": [
    "### 34.  Write a program that calculates the mean, median, and mode of a list of numbers using list comprehension"
   ]
  },
  {
   "cell_type": "code",
   "execution_count": 73,
   "id": "2afbe726",
   "metadata": {},
   "outputs": [
    {
     "name": "stdout",
     "output_type": "stream",
     "text": [
      "List of Numbers: [1, 2, 3, 4, 5, 6, 7, 8]\n",
      "Mean: 4.5\n",
      "Median: 4.5\n",
      "Mode: 1\n"
     ]
    }
   ],
   "source": [
    "import statistics\n",
    "# Define list of numbers\n",
    "numbers = [1, 2, 3, 4, 5, 6, 7, 8]\n",
    "# calculate mean using statistics module and list comprehension\n",
    "mean = sum(numbers)/ len(numbers)\n",
    "# calculate median  using statistics module\n",
    "median = statistics.median(numbers)\n",
    "# calculate mode using statistics module\n",
    "mode = statistics.mode(numbers)\n",
    "# print the functions\n",
    "print(\"List of Numbers:\", numbers)\n",
    "print(\"Mean:\", mean)\n",
    "print(\"Median:\", median)\n",
    "print(\"Mode:\", mode)"
   ]
  },
  {
   "cell_type": "markdown",
   "id": "330b4407",
   "metadata": {},
   "source": [
    "### 35. Create a program that generates Pascal's triangle up to a specified number of rows using list comprehension"
   ]
  },
  {
   "cell_type": "code",
   "execution_count": 74,
   "id": "3efa9514",
   "metadata": {},
   "outputs": [
    {
     "name": "stdout",
     "output_type": "stream",
     "text": [
      "[1]\n",
      "[1, 1]\n",
      "[1, 2, 2]\n",
      "[1, 3, 4, 3]\n",
      "[1, 4, 7, 7, 4]\n"
     ]
    }
   ],
   "source": [
    "def generate_pascals_triangle(num_rows):\n",
    "    if num_rows <= 0:\n",
    "        return[]\n",
    "    triangle = [[1]]\n",
    "    for i in range(1, num_rows):\n",
    "        prev_row = triangle[-1]\n",
    "        new_row = [1]\n",
    "        \n",
    "        for j in range(1, i):\n",
    "            new_value = prev_row[j-1]+prev_row[j]\n",
    "            new_row.append(new_value)\n",
    "            \n",
    "        new_row.append(i)\n",
    "        triangle.append(new_row)\n",
    "    return triangle\n",
    "# specify number of rows in pascal triangle\n",
    "num_rows = 5\n",
    "# Generate pascal triangle\n",
    "pascals_triangle = generate_pascals_triangle(num_rows)\n",
    "\n",
    "for row in pascals_triangle:\n",
    "    print(row)"
   ]
  },
  {
   "cell_type": "markdown",
   "id": "b38f0fa3",
   "metadata": {},
   "source": [
    "### 36.Develop a program that calculates the sum of the digits of a factorial of numbers from 1 to 5 using list comprehension"
   ]
  },
  {
   "cell_type": "code",
   "execution_count": 78,
   "id": "77a23451",
   "metadata": {},
   "outputs": [
    {
     "name": "stdout",
     "output_type": "stream",
     "text": [
      "Factorial sums of Digits for Numbers 1 to 5:\n",
      "Number 1: 1\n",
      "Number 2: 2\n",
      "Number 3: 6\n",
      "Number 4: 6\n",
      "Number 5: 3\n"
     ]
    }
   ],
   "source": [
    "def factorial(n):\n",
    "    if n == 0:\n",
    "        return 1\n",
    "    else:\n",
    "        return n * factorial(n-1)\n",
    "    \n",
    "sum_of_digits = [sum(int(digit) for digit in str(factorial(n))) for n in range(1, 6)]\n",
    "\n",
    "print(\"Factorial sums of Digits for Numbers 1 to 5:\")\n",
    "for n, sum_of_digits in enumerate(sum_of_digits, start=1):\n",
    "    print(f\"Number {n}: {sum_of_digits}\")"
   ]
  },
  {
   "cell_type": "code",
   "execution_count": 79,
   "id": "ab5595df",
   "metadata": {},
   "outputs": [
    {
     "data": {
      "text/plain": [
       "[1, 1, 2, 6, 24]"
      ]
     },
     "execution_count": 79,
     "metadata": {},
     "output_type": "execute_result"
    }
   ],
   "source": [
    "import math\n",
    "\n",
    "[math.factorial(n) for n in range(5)]"
   ]
  },
  {
   "cell_type": "markdown",
   "id": "6f01123d",
   "metadata": {},
   "source": [
    "## 37.Write a program that finds the longest word in a sentence using list comprehension"
   ]
  },
  {
   "cell_type": "code",
   "execution_count": 83,
   "id": "18ee526a",
   "metadata": {},
   "outputs": [
    {
     "name": "stdout",
     "output_type": "stream",
     "text": [
      "Longest Word: sentence\n"
     ]
    }
   ],
   "source": [
    "# Define a sentence\n",
    "sentence = \"This is an example sentence to find the longest word.\"\n",
    "\n",
    "# Split the sentence into words\n",
    "words = sentence.split()\n",
    "\n",
    "# Find the longest word using list comprehension\n",
    "longest_word = max(words, key=len)\n",
    "\n",
    "# Print the longest word\n",
    "print(\"Longest Word:\", longest_word)"
   ]
  },
  {
   "cell_type": "markdown",
   "id": "6569a56e",
   "metadata": {},
   "source": [
    "### 38. Create a program that filters a list of strings to include only those with more than three vowels using list comprehension"
   ]
  },
  {
   "cell_type": "code",
   "execution_count": 88,
   "id": "2bd3ab99",
   "metadata": {},
   "outputs": [
    {
     "name": "stdout",
     "output_type": "stream",
     "text": [
      "Original List: ['Data', 'is', 'the', 'best', 'career', 'programming', 'tanmakatalma']\n",
      "Filtered string (more than 3 vowels): ['tanmakatalma']\n"
     ]
    }
   ],
   "source": [
    "string_list = [\"Data\",\"is\",\"the\",\"best\",\"career\",\"programming\",\"tanmakatalma\"]\n",
    "\n",
    "def count_vowels(s):\n",
    "    vowels = \"aeiouAEIOU\"\n",
    "    return sum(1 for char in s if char in vowels)\n",
    "filtered_strings = [s for s in string_list if count_vowels(s) > 3]\n",
    "print(\"Original List:\", string_list)\n",
    "print(\"Filtered string (more than 3 vowels):\", filtered_strings)"
   ]
  },
  {
   "cell_type": "markdown",
   "id": "57ce8fe4",
   "metadata": {},
   "source": [
    "### 39.Develop a program that calculates the sum of the digits of numbers from 1 to 1000 using list comprehension"
   ]
  },
  {
   "cell_type": "code",
   "execution_count": 90,
   "id": "9c707916",
   "metadata": {},
   "outputs": [
    {
     "name": "stdout",
     "output_type": "stream",
     "text": [
      "total sum of digits for Numbers from 1 to 1000: 13500\n"
     ]
    }
   ],
   "source": [
    "sum_of_digits = [sum(int(digit) for digit in str(num)) for num in range(1, 1000)]\n",
    "# calculate total sum of digits\n",
    "total_sum = sum(sum_of_digits)\n",
    " #print total sum\n",
    "print(\"total sum of digits for Numbers from 1 to 1000:\", total_sum)"
   ]
  },
  {
   "cell_type": "markdown",
   "id": "5f2b8bcd",
   "metadata": {},
   "source": [
    "## 40. Write a program that generates a list of prime palindromic numbers using list comprehension"
   ]
  },
  {
   "cell_type": "code",
   "execution_count": 93,
   "id": "40f82234",
   "metadata": {},
   "outputs": [
    {
     "name": "stdout",
     "output_type": "stream",
     "text": [
      "Prime palindrome numbers up to 100 are: [2, 3, 5, 7, 11]\n"
     ]
    }
   ],
   "source": [
    "limit = 100\n",
    "prime_palindromic_num = [num for num in range(2, limit) if is_prime(num) and str(num) == str(num)[::-1]]\n",
    "\n",
    "print(\"Prime palindrome numbers up to\", limit, \"are:\", prime_palindromic_num)"
   ]
  },
  {
   "cell_type": "code",
   "execution_count": null,
   "id": "4063ba17",
   "metadata": {},
   "outputs": [],
   "source": []
  }
 ],
 "metadata": {
  "kernelspec": {
   "display_name": "Python 3 (ipykernel)",
   "language": "python",
   "name": "python3"
  },
  "language_info": {
   "codemirror_mode": {
    "name": "ipython",
    "version": 3
   },
   "file_extension": ".py",
   "mimetype": "text/x-python",
   "name": "python",
   "nbconvert_exporter": "python",
   "pygments_lexer": "ipython3",
   "version": "3.10.9"
  }
 },
 "nbformat": 4,
 "nbformat_minor": 5
}
