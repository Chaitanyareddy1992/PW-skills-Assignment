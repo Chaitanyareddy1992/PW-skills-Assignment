{
 "cells": [
  {
   "cell_type": "markdown",
   "id": "537e5d1c",
   "metadata": {},
   "source": [
    "## 1. Declare two variables, `x` and `y`, and assign them integer values.Swap the values of these variables with out using any temporary variables."
   ]
  },
  {
   "cell_type": "code",
   "execution_count": 1,
   "id": "1db04e69",
   "metadata": {},
   "outputs": [],
   "source": [
    "# given the Values for x and y for swapping\n",
    "x = 20\n",
    "y = 10"
   ]
  },
  {
   "cell_type": "code",
   "execution_count": 2,
   "id": "b094623f",
   "metadata": {},
   "outputs": [],
   "source": [
    "# Addition the values for x and y in x\n",
    "x = x+y"
   ]
  },
  {
   "cell_type": "code",
   "execution_count": 3,
   "id": "20149d1b",
   "metadata": {},
   "outputs": [
    {
     "name": "stdout",
     "output_type": "stream",
     "text": [
      "30\n"
     ]
    }
   ],
   "source": [
    "print(x)"
   ]
  },
  {
   "cell_type": "code",
   "execution_count": 4,
   "id": "70c450fb",
   "metadata": {},
   "outputs": [],
   "source": [
    "# subtract the values for x and y in y\n",
    "y = x-y"
   ]
  },
  {
   "cell_type": "code",
   "execution_count": 5,
   "id": "3418ab3f",
   "metadata": {},
   "outputs": [
    {
     "name": "stdout",
     "output_type": "stream",
     "text": [
      "20\n"
     ]
    }
   ],
   "source": [
    "print(y)"
   ]
  },
  {
   "cell_type": "code",
   "execution_count": 6,
   "id": "3dfd3811",
   "metadata": {},
   "outputs": [],
   "source": [
    "# After subtraction of y values again subtract the values of x to get exact swapping results\n",
    "x = x-y"
   ]
  },
  {
   "cell_type": "code",
   "execution_count": 7,
   "id": "6a9d8b98",
   "metadata": {},
   "outputs": [
    {
     "name": "stdout",
     "output_type": "stream",
     "text": [
      "x= 10 y= 20\n"
     ]
    }
   ],
   "source": [
    "# After swapping\n",
    "print(\"x=\",x,\"y=\",y)"
   ]
  },
  {
   "cell_type": "markdown",
   "id": "1d7afb9f",
   "metadata": {},
   "source": [
    "## 2. Create a program that calculates the area of a rectangle. Take the length and width as inputs from the user and store them in variables.Calculate and display the area."
   ]
  },
  {
   "cell_type": "code",
   "execution_count": 54,
   "id": "91e65048",
   "metadata": {},
   "outputs": [],
   "source": [
    "Length = x\n",
    "width = y"
   ]
  },
  {
   "cell_type": "code",
   "execution_count": 55,
   "id": "c2d5ee83",
   "metadata": {},
   "outputs": [],
   "source": [
    "x = 50\n",
    "y = 100"
   ]
  },
  {
   "cell_type": "code",
   "execution_count": 56,
   "id": "b752e39d",
   "metadata": {},
   "outputs": [],
   "source": [
    "## Area is the calculation of length and width\n",
    "Area = x * y"
   ]
  },
  {
   "cell_type": "code",
   "execution_count": 58,
   "id": "d78db890",
   "metadata": {},
   "outputs": [
    {
     "name": "stdout",
     "output_type": "stream",
     "text": [
      "The Total Area of the Rectangle x and y is:= 5000\n"
     ]
    }
   ],
   "source": [
    "print(\"The Total Area of the Rectangle\",\"x and y is:=\",Area)"
   ]
  },
  {
   "cell_type": "code",
   "execution_count": null,
   "id": "c9f05ff5",
   "metadata": {},
   "outputs": [],
   "source": []
  },
  {
   "cell_type": "markdown",
   "id": "a7448e7b",
   "metadata": {},
   "source": [
    "## 3.3. Write a Python program that converts temperature from Celsius toFahrenheit. Take the temperature in Celsius as input, store it in avariable, convert it to Fahrenheit, and display the result."
   ]
  },
  {
   "cell_type": "code",
   "execution_count": 45,
   "id": "c7ec8775",
   "metadata": {},
   "outputs": [],
   "source": [
    "celsius = x"
   ]
  },
  {
   "cell_type": "code",
   "execution_count": 46,
   "id": "274fd81b",
   "metadata": {},
   "outputs": [],
   "source": [
    "# Assigning the value of x\n",
    "x = 58"
   ]
  },
  {
   "cell_type": "code",
   "execution_count": 47,
   "id": "a5198b22",
   "metadata": {},
   "outputs": [],
   "source": [
    "# Fahrenheit = (celsius * 1.8)+32\n",
    "# celsius = (Fahrenheit * 32)/1.8\n",
    "Fahrenheit = (x * 1.8)+32"
   ]
  },
  {
   "cell_type": "code",
   "execution_count": 53,
   "id": "6d510c2e",
   "metadata": {},
   "outputs": [
    {
     "name": "stdout",
     "output_type": "stream",
     "text": [
      "136.4\n"
     ]
    }
   ],
   "source": [
    "print(Fahrenheit)"
   ]
  },
  {
   "cell_type": "code",
   "execution_count": null,
   "id": "bbeb5290",
   "metadata": {},
   "outputs": [],
   "source": []
  },
  {
   "cell_type": "markdown",
   "id": "0863ceb6",
   "metadata": {},
   "source": [
    "# 1. Write a Python program that takes a string as input and prints the length of the string."
   ]
  },
  {
   "cell_type": "code",
   "execution_count": 88,
   "id": "cebc3540",
   "metadata": {},
   "outputs": [
    {
     "name": "stdout",
     "output_type": "stream",
     "text": [
      "Enter a string value: pwskills\n",
      "The length of the string is: 8\n"
     ]
    }
   ],
   "source": [
    "string = input(\"Enter a string value: \")\n",
    "str_length = len(string)\n",
    "print(\"The length of the string is:\",str_length)"
   ]
  },
  {
   "cell_type": "markdown",
   "id": "d97a738b",
   "metadata": {},
   "source": [
    "## Create a program that takes a sentence from the user and counts the number of vowels (a, e, i, o, u) in the string."
   ]
  },
  {
   "cell_type": "code",
   "execution_count": 87,
   "id": "f498e887",
   "metadata": {},
   "outputs": [
    {
     "name": "stdout",
     "output_type": "stream",
     "text": [
      "Enter a string value: Datascience\n",
      "The number of vowels for a given string is: 5\n"
     ]
    }
   ],
   "source": [
    "# Input the values for a string\n",
    "string = input(\"Enter a string value: \")\n",
    "#  Put values into a lower string\n",
    "string = string.lower()\n",
    "vowelsvalue = 0\n",
    "vowelsdata = {'a', 'e', 'i', 'o', 'u'}\n",
    "for char in input_string:\n",
    "    if char in vowelsdata:\n",
    "        vowelsvalue += 1\n",
    "print(\"The number of vowels for a given string is:\", vowelsvalue)"
   ]
  },
  {
   "cell_type": "markdown",
   "id": "32cfcf78",
   "metadata": {},
   "source": [
    "## Given a string, reverse the order of characters using string slicing and print the reversed string."
   ]
  },
  {
   "cell_type": "code",
   "execution_count": 85,
   "id": "e2f64538",
   "metadata": {},
   "outputs": [
    {
     "name": "stdout",
     "output_type": "stream",
     "text": [
      "Enter a string: Data Science\n",
      "ecneicS ataD\n"
     ]
    }
   ],
   "source": [
    "#Input the values of a string\n",
    "string = input(\"Enter a string: \")\n",
    "#  reverse the string values using slicing\n",
    "rev_string = string[::-1]\n",
    "# Print the values for a reversed string\n",
    "print(rev_string)"
   ]
  },
  {
   "cell_type": "markdown",
   "id": "d5b7744d",
   "metadata": {},
   "source": [
    "## Write a program that takes a string as input and checks if it is a palindrome (reads the same forwards and backwards)."
   ]
  },
  {
   "cell_type": "code",
   "execution_count": 86,
   "id": "21a599c6",
   "metadata": {},
   "outputs": [
    {
     "name": "stdout",
     "output_type": "stream",
     "text": [
      "Enter a string: chaitanya\n",
      "The string is not a palindrome.\n"
     ]
    }
   ],
   "source": [
    "# Get input from the user\n",
    "string = input(\"Enter a string: \")\n",
    "\n",
    "# Remove spaces and convert the string to lowercase for comparison\n",
    "string = string.replace(\" \", \"\").lower()\n",
    "\n",
    "# Reverse the string using slicing\n",
    "rev_string = string[::-1]\n",
    "\n",
    "# Check if the input string is equal to its reversed version\n",
    "if string == rev_string:\n",
    "    print(\"The string is a palindrome.\")\n",
    "else:\n",
    "    print(\"The string is not a palindrome.\")\n"
   ]
  },
  {
   "cell_type": "markdown",
   "id": "526db11a",
   "metadata": {},
   "source": [
    "## Create a program that takes a string as input and removes all thespaces from it. Print the modified string without spaces"
   ]
  },
  {
   "cell_type": "code",
   "execution_count": 90,
   "id": "23165390",
   "metadata": {},
   "outputs": [
    {
     "name": "stdout",
     "output_type": "stream",
     "text": [
      "Enter a string: The Data Science is best career\n",
      "Modified string: TheDataScienceisbestcareer\n"
     ]
    }
   ],
   "source": [
    "# Get input from the user\n",
    "string = input(\"Enter a string: \")\n",
    "\n",
    "# Removing spaces from the string\n",
    "modified_string = string.replace(\" \", \"\")\n",
    "\n",
    "# Print the modified string with out spaces\n",
    "print(\"Modified string:\", modified_string)"
   ]
  },
  {
   "cell_type": "code",
   "execution_count": null,
   "id": "e84fd23e",
   "metadata": {},
   "outputs": [],
   "source": []
  }
 ],
 "metadata": {
  "kernelspec": {
   "display_name": "Python 3 (ipykernel)",
   "language": "python",
   "name": "python3"
  },
  "language_info": {
   "codemirror_mode": {
    "name": "ipython",
    "version": 3
   },
   "file_extension": ".py",
   "mimetype": "text/x-python",
   "name": "python",
   "nbconvert_exporter": "python",
   "pygments_lexer": "ipython3",
   "version": "3.10.9"
  }
 },
 "nbformat": 4,
 "nbformat_minor": 5
}
