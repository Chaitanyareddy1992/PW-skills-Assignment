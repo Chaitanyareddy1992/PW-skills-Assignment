{
 "cells": [
  {
   "cell_type": "markdown",
   "id": "0c2fcba6",
   "metadata": {},
   "source": [
    "# 1. Write a program to reverse a string.\n"
   ]
  },
  {
   "cell_type": "code",
   "execution_count": 1,
   "id": "d98cb893",
   "metadata": {},
   "outputs": [
    {
     "name": "stdout",
     "output_type": "stream",
     "text": [
      "The original string is : Data Science\n",
      "The reversed string(using loops) is : ecneicS ataD\n"
     ]
    }
   ],
   "source": [
    "#Defien the reverse of a string\n",
    "def reverse(s):\n",
    "    # Enter the string\n",
    "    str = \"\"\n",
    "    # Enter the loop condition for str\n",
    "    for i in s:\n",
    "        str = i + str\n",
    "    return str\n",
    "# Enter the String values\n",
    "s = \"Data Science\"\n",
    "\n",
    "print(\"The original string is : \", end=\"\")\n",
    "print(s)\n",
    "\n",
    "print(\"The reversed string(using loops) is : \", end=\"\")\n",
    "print(reverse(s))"
   ]
  },
  {
   "cell_type": "markdown",
   "id": "45592df0",
   "metadata": {},
   "source": [
    "# 2. Check if a string is a palindrome.\n"
   ]
  },
  {
   "cell_type": "code",
   "execution_count": 2,
   "id": "42662abd",
   "metadata": {},
   "outputs": [],
   "source": [
    "# define the Palindrome\n",
    "def is_palindrome(n):\n",
    "    # Set the values into lower\n",
    "    n = n.lower()\n",
    "    # Accept only string values and not accept other values\n",
    "    n=''.join(e for e in n if e.isalnum())\n",
    "    # It will return the string function to reverse the values of a string\n",
    "    return n == n[::-1]"
   ]
  },
  {
   "cell_type": "code",
   "execution_count": 3,
   "id": "a16bec83",
   "metadata": {},
   "outputs": [
    {
     "name": "stdout",
     "output_type": "stream",
     "text": [
      "True\n",
      "False\n"
     ]
    }
   ],
   "source": [
    "print(is_palindrome(\"DAD\"))\n",
    "print(is_palindrome(\"Hello\"))"
   ]
  },
  {
   "cell_type": "markdown",
   "id": "207afaf8",
   "metadata": {},
   "source": [
    "# 3. Convert a string to uppercase."
   ]
  },
  {
   "cell_type": "code",
   "execution_count": 6,
   "id": "a5095554",
   "metadata": {},
   "outputs": [
    {
     "name": "stdout",
     "output_type": "stream",
     "text": [
      "Enter the name of a stringChandrayan-3\n",
      "uppercasestring: CHANDRAYAN-3\n"
     ]
    }
   ],
   "source": [
    "# Enter the values of a string\n",
    "n = input(\"Enter the name of a string\")\n",
    "# given values update to uppercase \n",
    "uppercase_str = n.upper()\n",
    "#print the result\n",
    "print(\"uppercasestring:\", uppercase_str)"
   ]
  },
  {
   "cell_type": "markdown",
   "id": "6997845b",
   "metadata": {},
   "source": [
    "# 4.Convert a string to lowercase."
   ]
  },
  {
   "cell_type": "code",
   "execution_count": 7,
   "id": "65384363",
   "metadata": {},
   "outputs": [
    {
     "name": "stdout",
     "output_type": "stream",
     "text": [
      "enter the name of a stringsuryayan\n",
      "lowercasestring: suryayan\n"
     ]
    }
   ],
   "source": [
    "# Enter the values of a string\n",
    "n = input(\"enter the name of a string\")\n",
    "# convert string values into lowercase\n",
    "lowercase_str = n.lower()\n",
    "# print the result\n",
    "print(\"lowercasestring:\",lowercase_str)"
   ]
  },
  {
   "cell_type": "markdown",
   "id": "8e2835e5",
   "metadata": {},
   "source": [
    "# 5. Count the number of vowels in a string."
   ]
  },
  {
   "cell_type": "code",
   "execution_count": 14,
   "id": "3b2e96dd",
   "metadata": {},
   "outputs": [
    {
     "name": "stdout",
     "output_type": "stream",
     "text": [
      "Number of vowels: 3\n"
     ]
    }
   ],
   "source": [
    "def count_vowels(string):\n",
    "    vowel_count=0\n",
    "    # convert all string values from upper to lower\n",
    "    string = string.lower()\n",
    "    # define a set of values\n",
    "    vowels = set(\"aeiou\")\n",
    "    # iterate through each character in a string\n",
    "    for char in string:\n",
    "    # check the character in a vowel\n",
    "        if char in vowels:\n",
    "        # increment the value character in a string\n",
    "            vowel_count += 1\n",
    "    # Return final vowel count\n",
    "    return vowel_count\n",
    "# Test the function\n",
    "input_string = \"Hello Pw skills\"\n",
    "result = count_vowels(input_string)\n",
    "print(\"Number of vowels:\",result)"
   ]
  },
  {
   "cell_type": "markdown",
   "id": "21d105ba",
   "metadata": {},
   "source": [
    "# 6. Count the number of consonants in a string."
   ]
  },
  {
   "cell_type": "code",
   "execution_count": 20,
   "id": "69bfb923",
   "metadata": {},
   "outputs": [
    {
     "name": "stdout",
     "output_type": "stream",
     "text": [
      "Number of consonants: 16\n"
     ]
    }
   ],
   "source": [
    "def count_consonants(string):\n",
    "    consonant_count = 0\n",
    "    string = string.lower()\n",
    "    consonants = set(\"bcdfghjklmnpqrstvwxyzBCDFGHJKLMNPQRSTVWXYZ\")\n",
    "    for char in string:\n",
    "        if char in consonants:\n",
    "            consonant_count +=1\n",
    "    return consonant_count\n",
    "\n",
    "input_string = \"Hello DataScience you are the best\"\n",
    "result = count_consonants(input_string)\n",
    "print(\"Number of consonants:\",result)"
   ]
  },
  {
   "cell_type": "markdown",
   "id": "bab98eb7",
   "metadata": {},
   "source": [
    "# 7. Remove all whitespaces from a string."
   ]
  },
  {
   "cell_type": "code",
   "execution_count": 3,
   "id": "d6120895",
   "metadata": {},
   "outputs": [
    {
     "name": "stdout",
     "output_type": "stream",
     "text": [
      "Remove whitespaces of a string: HelloDatahowaboutyou\n"
     ]
    }
   ],
   "source": [
    "def remove_whitespaces(string):\n",
    "    result =\"\"\n",
    "    for char in input_string:\n",
    "        if char!=\" \":\n",
    "            result+=char\n",
    "    return result\n",
    "input_string = \"Hello Data how about you\"\n",
    "result = remove_whitespaces(input_string)\n",
    "print(\"Remove whitespaces of a string:\",result)"
   ]
  },
  {
   "cell_type": "markdown",
   "id": "aedfd63c",
   "metadata": {},
   "source": [
    "# 8. Find the length of a string without using the len() function."
   ]
  },
  {
   "cell_type": "code",
   "execution_count": 9,
   "id": "514b1f5d",
   "metadata": {},
   "outputs": [
    {
     "name": "stdout",
     "output_type": "stream",
     "text": [
      "12\n"
     ]
    }
   ],
   "source": [
    "# Enter the values of a string\n",
    "string = 'Hello Sachin'\n",
    "# enter the value for a count\n",
    "count = 0\n",
    "for i in String:\n",
    "    count+=1\n",
    "print(count)"
   ]
  },
  {
   "cell_type": "markdown",
   "id": "d0cc8f85",
   "metadata": {},
   "source": [
    "# 9. Check if a string contains a specific word."
   ]
  },
  {
   "cell_type": "code",
   "execution_count": 10,
   "id": "aaa023bb",
   "metadata": {},
   "outputs": [
    {
     "name": "stdout",
     "output_type": "stream",
     "text": [
      "Enter a string: Data science\n",
      "Enter the specific word to check for: Date\n",
      "The string does not contain the word 'Date'.\n"
     ]
    }
   ],
   "source": [
    "# enter the values for a string\n",
    "input_string = input(\"Enter a string: \")\n",
    "specific_word = input(\"Enter the specific word to check for: \")\n",
    "# check whether the specified keyword is available in string by using in keyword\n",
    "if specific_word in input_string:\n",
    "    # display the output whether it contains specific word or not\n",
    "    print(f\"The string contains the word '{specific_word}'.\")\n",
    "else:\n",
    "    print(f\"The string does not contain the word '{specific_word}'.\")"
   ]
  },
  {
   "cell_type": "markdown",
   "id": "50f1da8a",
   "metadata": {},
   "source": [
    "# 10. Replace a word in a string with another word."
   ]
  },
  {
   "cell_type": "code",
   "execution_count": 3,
   "id": "acfecd2d",
   "metadata": {},
   "outputs": [
    {
     "name": "stdout",
     "output_type": "stream",
     "text": [
      "Enter the name of a string: Hi friends\n",
      "Enter the word to be replaced: friends\n",
      "Enter the new word: Mitro\n",
      "Modified string: Hi Mitro\n"
     ]
    }
   ],
   "source": [
    "# enter the values of a string\n",
    "input_string = input(\"Enter the name of a string: \")\n",
    "# enter the old word values\n",
    "old_word = input(\"Enter the word to be replaced: \")\n",
    "# enter new word values\n",
    "new_word = input(\"Enter the new word: \")  \n",
    "# modify the string values from old to new which value need to be change\n",
    "modified_string = input_string.replace(old_word,new_word)\n",
    "print(\"Modified string:\", modified_string)"
   ]
  },
  {
   "cell_type": "markdown",
   "id": "871505fe",
   "metadata": {},
   "source": [
    "## 11. Count the occurrences of a word in a string."
   ]
  },
  {
   "cell_type": "code",
   "execution_count": 6,
   "id": "b363493e",
   "metadata": {},
   "outputs": [
    {
     "name": "stdout",
     "output_type": "stream",
     "text": [
      "1\n"
     ]
    }
   ],
   "source": [
    "# initialize the countoccurences of a string and word\n",
    "def countoccurences(str,word):\n",
    "    # split the values of a string\n",
    "    x = str.split(\" \")\n",
    "    count = 0\n",
    "    # Iterate the values of each word\n",
    "    for i in range(0,len(x)):\n",
    "        if(word == x[i]):\n",
    "            count = count+1\n",
    "     # return the final count       \n",
    "    return count\n",
    "\n",
    "str = \"INeuron A best institute for a Datascience career\"\n",
    "word = \"institute\"\n",
    "print(countoccurences(str,word))"
   ]
  },
  {
   "cell_type": "markdown",
   "id": "c39bd7a4",
   "metadata": {},
   "source": [
    "## 12.Find the first occurrence of a word in a string."
   ]
  },
  {
   "cell_type": "code",
   "execution_count": 7,
   "id": "5b072f60",
   "metadata": {},
   "outputs": [
    {
     "name": "stdout",
     "output_type": "stream",
     "text": [
      "Index of first occurences: 28\n"
     ]
    }
   ],
   "source": [
    "# define the values of first occurence of a text\n",
    "def firstoccurences(text,word):\n",
    "    # find the index of the text in a word\n",
    "    index = text.find(word)\n",
    "    # check index if it is -1,it indicates that the word is not found.\n",
    "    if index ==-1:\n",
    "        # Return None if word is not found\n",
    "        return None\n",
    "    # return the index number of a word\n",
    "    return index\n",
    "text = \"Enter the values for a Data center\"\n",
    "word =\"center\"\n",
    "result = firstoccurences(text,word)\n",
    "print(\"Index of first occurences:\",result)"
   ]
  },
  {
   "cell_type": "markdown",
   "id": "f167c3fc",
   "metadata": {},
   "source": [
    "## 13. Find the last occurrence of a word in a string."
   ]
  },
  {
   "cell_type": "code",
   "execution_count": 13,
   "id": "b0892570",
   "metadata": {},
   "outputs": [
    {
     "name": "stdout",
     "output_type": "stream",
     "text": [
      "Index of the last occurrence: 23\n"
     ]
    }
   ],
   "source": [
    "# def the values of last occurence of a word\n",
    "def lastoccurrence(text, word):\n",
    "    #find the occurence of last word in text\n",
    "    index = text.rfind(word)\n",
    "\n",
    "    # If index is -1 then word is not found\n",
    "    if index == -1:\n",
    "        # return None if word not found\n",
    "        return None  \n",
    "    # return the index of last word of a text\n",
    "    return index\n",
    "\n",
    "text = \"Enter the values for a Data center\"\n",
    "word = \"Data\"\n",
    "result = lastoccurrence(text, word)\n",
    "print(\"Index of the last occurrence:\", result)"
   ]
  },
  {
   "cell_type": "markdown",
   "id": "153ac42e",
   "metadata": {},
   "source": [
    "## 14.Split a string into a list of words."
   ]
  },
  {
   "cell_type": "code",
   "execution_count": 17,
   "id": "6456e717",
   "metadata": {},
   "outputs": [
    {
     "name": "stdout",
     "output_type": "stream",
     "text": [
      "list of words: ['The', 'Next', 'future', 'is', 'AI.']\n"
     ]
    }
   ],
   "source": [
    "# define the function of the string\n",
    "def split_string_list(text):\n",
    "    # By using split() method to split the text into a list\n",
    "    words_list = text.split()\n",
    "    return words_list\n",
    "text = \"The Next future is AI.\"\n",
    "words = split_string_list(text)\n",
    "print(\"list of words:\",words)"
   ]
  },
  {
   "cell_type": "markdown",
   "id": "f243c967",
   "metadata": {},
   "source": [
    "# 15.Join a list of words into a string."
   ]
  },
  {
   "cell_type": "code",
   "execution_count": 18,
   "id": "aa250e70",
   "metadata": {},
   "outputs": [
    {
     "name": "stdout",
     "output_type": "stream",
     "text": [
      "Joined string: The Next Future is AI.\n"
     ]
    }
   ],
   "source": [
    "def join_words_string(words_list):\n",
    "    # use join() method to join the words in the list into a single string\n",
    "    joined_string = ' '.join(words_list)\n",
    "    return joined_string\n",
    "\n",
    "words =[\"The\",\"Next\",\"Future\",\"is\",\"AI.\"]\n",
    "text = join_words_string(words)\n",
    "print(\"Joined string:\", text)"
   ]
  },
  {
   "cell_type": "markdown",
   "id": "8e45c175",
   "metadata": {},
   "source": [
    "### 16.Convert a string where words are separated by spaces to one where words are separated by underscores."
   ]
  },
  {
   "cell_type": "code",
   "execution_count": 19,
   "id": "6923ed37",
   "metadata": {},
   "outputs": [
    {
     "name": "stdout",
     "output_type": "stream",
     "text": [
      "Converted text: Data_Science_is_the_only_option.\n"
     ]
    }
   ],
   "source": [
    "def convert_to_underscore_seperated(text):\n",
    "    # use the replace()method to replace underscores\n",
    "    underscore_seperated = text.replace(\" \",\"_\")\n",
    "    # return the converted string\n",
    "    return underscore_seperated\n",
    "text = \"Data Science is the only option.\"\n",
    "converted_text = convert_to_underscore_seperated(text)\n",
    "print(\"Converted text:\",converted_text)"
   ]
  },
  {
   "cell_type": "markdown",
   "id": "278de544",
   "metadata": {},
   "source": [
    "## 17.Check if a string starts with a specific word or phrase."
   ]
  },
  {
   "cell_type": "code",
   "execution_count": 20,
   "id": "c58dec0f",
   "metadata": {},
   "outputs": [
    {
     "name": "stdout",
     "output_type": "stream",
     "text": [
      "The scenario is good.\n"
     ]
    }
   ],
   "source": [
    "def starts_with(text,prefix):\n",
    "    # use startswith() method to check if text starts with specified prefix.\n",
    "    is_start = text.startswith(prefix)\n",
    "    # return result of check\n",
    "    return is_start\n",
    "\n",
    "text = \"Hello,Raghu!\"\n",
    "prefix = \"Hello\"\n",
    "result = starts_with(text,prefix)\n",
    "if result:\n",
    "    print(\"The scenario is good.\")\n",
    "else:\n",
    "    print(\"The scenario is not good.\")"
   ]
  },
  {
   "cell_type": "markdown",
   "id": "2e09ee42",
   "metadata": {},
   "source": [
    "## 18.Check if a string ends with a specific word or phrase."
   ]
  },
  {
   "cell_type": "code",
   "execution_count": 21,
   "id": "bbaeff27",
   "metadata": {},
   "outputs": [
    {
     "name": "stdout",
     "output_type": "stream",
     "text": [
      "The scenario is good.\n"
     ]
    }
   ],
   "source": [
    "def ends_with(text,suffix):\n",
    "    # use endswith() method to check if text ends with specific character\n",
    "    is_end = text.endswith(suffix)\n",
    "    #return result of check\n",
    "    return is_end\n",
    "text = \"Data Science\"\n",
    "suffix = \"Science\"\n",
    "result = ends_with(text,suffix)\n",
    "if result:\n",
    "    print(\"The scenario is good.\")\n",
    "else:\n",
    "    print(\"The scenario is not good.\")"
   ]
  },
  {
   "cell_type": "markdown",
   "id": "6a417d67",
   "metadata": {},
   "source": [
    "## 19.Convert a string to title case (e.g., \"hello world\" to \"Hello World\")."
   ]
  },
  {
   "cell_type": "code",
   "execution_count": 22,
   "id": "b075898d",
   "metadata": {},
   "outputs": [
    {
     "name": "stdout",
     "output_type": "stream",
     "text": [
      "Title Case: Data Science\n"
     ]
    }
   ],
   "source": [
    "def convert_to_titlecase(text):\n",
    "    # use title() method to convert text to title case\n",
    "    title_casetext = text.title()\n",
    "    # return the converted text\n",
    "    return title_casetext\n",
    "text = \"Data Science\"\n",
    "title_caseresult = convert_to_titlecase(text)\n",
    "print(\"Title Case:\",title_caseresult)"
   ]
  },
  {
   "cell_type": "markdown",
   "id": "a359dfbe",
   "metadata": {},
   "source": [
    "## 20. Find the longest word in a string."
   ]
  },
  {
   "cell_type": "code",
   "execution_count": 28,
   "id": "0da5366c",
   "metadata": {},
   "outputs": [
    {
     "name": "stdout",
     "output_type": "stream",
     "text": [
      "longest word: scenario\n"
     ]
    }
   ],
   "source": [
    "def find_longestword(text):\n",
    "# use split()method to split text into list of words.\n",
    "    words = text.split()\n",
    "    # initialize the longest word and the length of the word\n",
    "    longestword = \"\"\n",
    "    max_length = 0\n",
    "    # Iterate through list of words\n",
    "    for word in words:\n",
    "        # check length of current word is greater than maximum length\n",
    "        if len(word)>max_length:\n",
    "            max_length = len(word)\n",
    "            longest_word = word\n",
    "            # return longest word\n",
    "    return longest_word\n",
    "text = \"This is the best scenario for longest words.\"\n",
    "longest_word = find_longestword(text)\n",
    "print(\"longest word:\",longest_word)"
   ]
  },
  {
   "cell_type": "markdown",
   "id": "8074a7a4",
   "metadata": {},
   "source": [
    "## 21. Find the shortest word in a string."
   ]
  },
  {
   "cell_type": "code",
   "execution_count": 32,
   "id": "44e10d38",
   "metadata": {},
   "outputs": [
    {
     "name": "stdout",
     "output_type": "stream",
     "text": [
      "shortest word: is\n"
     ]
    }
   ],
   "source": [
    "def find_shortestword(text):\n",
    "    #use split() method to split list of words\n",
    "    words = text.split()\n",
    "    # initialize the smallest word and the length of the word\n",
    "    shortestword = None\n",
    "    min_length = float('inf')\n",
    "    # iterate through list of words\n",
    "    for word in words:\n",
    "            if len(word)<min_length:\n",
    "                min_length = len(word)\n",
    "                shortest_word = word\n",
    "    return shortest_word\n",
    "text = \"This is the best sentence for shortest words.\"\n",
    "shortest_word = find_shortestword(text)\n",
    "print(\"shortest word:\", shortest_word)"
   ]
  },
  {
   "cell_type": "markdown",
   "id": "a452bf8e",
   "metadata": {},
   "source": [
    "## 22.Reverse the order of words in a string."
   ]
  },
  {
   "cell_type": "code",
   "execution_count": 33,
   "id": "68c628f8",
   "metadata": {},
   "outputs": [
    {
     "name": "stdout",
     "output_type": "stream",
     "text": [
      "career science Data\n"
     ]
    }
   ],
   "source": [
    " #input string\n",
    "string = \"Data science career\"\n",
    "# reversing words in a given string\n",
    "s = string.split()[::-1]\n",
    "l = []\n",
    "for i in s:\n",
    "    # append reversed words to l\n",
    "    l.append(i)\n",
    "# printing reverse words\n",
    "print(\" \".join(l))"
   ]
  },
  {
   "cell_type": "markdown",
   "id": "42cb058e",
   "metadata": {},
   "source": [
    "## 23.Check if a string is alphanumeric."
   ]
  },
  {
   "cell_type": "code",
   "execution_count": 34,
   "id": "4fa31555",
   "metadata": {},
   "outputs": [
    {
     "name": "stdout",
     "output_type": "stream",
     "text": [
      "The string is alphanumeric.\n"
     ]
    }
   ],
   "source": [
    "def is_alphanumeric(text):\n",
    "    # use alnum() method to check if string is alphanumeric.\n",
    "    return text.isalnum()\n",
    "\n",
    "text = \"Greetings123\"\n",
    "result = is_alphanumeric(text)\n",
    "if result:\n",
    "    print(\"The string is alphanumeric.\")\n",
    "else:\n",
    "    print(\"The string is not alphanumeric.\")"
   ]
  },
  {
   "cell_type": "markdown",
   "id": "f4c5732c",
   "metadata": {},
   "source": [
    "## 24.Extract all digits from a string."
   ]
  },
  {
   "cell_type": "code",
   "execution_count": 36,
   "id": "6d386a61",
   "metadata": {},
   "outputs": [
    {
     "name": "stdout",
     "output_type": "stream",
     "text": [
      "Extracted digits: 132343\n"
     ]
    }
   ],
   "source": [
    "def extract_digits(text):\n",
    "    # Initialize an empty string to store extracted digits\n",
    "    digits = \"\"\n",
    "    # Iterate through each character in text.\n",
    "    for char in text:\n",
    "        #check if a character is a digit using isdigit() method.\n",
    "        if char.isdigit():\n",
    "            # Append digit to digits string.\n",
    "            digits += char\n",
    "            # return extracted digits.\n",
    "    return digits\n",
    "text = \"Data132Science343\"\n",
    "extracted_digits = extract_digits(text)\n",
    "print(\"Extracted digits:\",extracted_digits)   "
   ]
  },
  {
   "cell_type": "markdown",
   "id": "a62b6725",
   "metadata": {},
   "source": [
    "## 25.Extract all alphabets from a string."
   ]
  },
  {
   "cell_type": "code",
   "execution_count": 38,
   "id": "760b2fa7",
   "metadata": {},
   "outputs": [
    {
     "name": "stdout",
     "output_type": "stream",
     "text": [
      "H i h e r o\n"
     ]
    }
   ],
   "source": [
    "def extract_alphabets(input_string):\n",
    "    alphabets = ' '.join([char for char in input_string if char.isalpha()])\n",
    "    return alphabets\n",
    "input_string = \"Hi123hero345\"\n",
    "result = extract_alphabets(input_string)\n",
    "print(result)"
   ]
  },
  {
   "cell_type": "markdown",
   "id": "90414edc",
   "metadata": {},
   "source": [
    "### 26. Count the number of uppercase letters in a string."
   ]
  },
  {
   "cell_type": "code",
   "execution_count": 39,
   "id": "dbc884ea",
   "metadata": {},
   "outputs": [
    {
     "name": "stdout",
     "output_type": "stream",
     "text": [
      "2\n"
     ]
    }
   ],
   "source": [
    "def count_uppercase(input_string):\n",
    "    uppercase_count = sum(1 for char in input_string if char.isupper())\n",
    "    return uppercase_count\n",
    "input_string = \"DataScience\"\n",
    "result = count_uppercase(input_string)\n",
    "print(result)"
   ]
  },
  {
   "cell_type": "markdown",
   "id": "fabe665d",
   "metadata": {},
   "source": [
    "### 27. Count the number of lowercase letters in a string."
   ]
  },
  {
   "cell_type": "code",
   "execution_count": 40,
   "id": "e6cb8ddd",
   "metadata": {},
   "outputs": [
    {
     "name": "stdout",
     "output_type": "stream",
     "text": [
      "9\n"
     ]
    }
   ],
   "source": [
    "def count_lowercase(input_string):\n",
    "    lowercase_count = sum(1 for char in input_string if char.islower())\n",
    "    return lowercase_count\n",
    "input_string = \"DataScience\"\n",
    "result = count_lowercase(input_string)\n",
    "print(result)"
   ]
  },
  {
   "cell_type": "markdown",
   "id": "487dc44c",
   "metadata": {},
   "source": [
    "## 28. Swap the case of each character in a string."
   ]
  },
  {
   "cell_type": "code",
   "execution_count": 41,
   "id": "0366c53c",
   "metadata": {},
   "outputs": [
    {
     "name": "stdout",
     "output_type": "stream",
     "text": [
      "dATAworld\n"
     ]
    }
   ],
   "source": [
    "def swap_case(input_string):\n",
    "    swapped_string = input_string.swapcase()\n",
    "    return swapped_string\n",
    "input_string = \"DataWORLD\"\n",
    "result = swap_case(input_string)\n",
    "print(result)"
   ]
  },
  {
   "cell_type": "markdown",
   "id": "25dea7d6",
   "metadata": {},
   "source": [
    "## 29.Remove a specific word from a string."
   ]
  },
  {
   "cell_type": "code",
   "execution_count": 43,
   "id": "41e94e83",
   "metadata": {},
   "outputs": [
    {
     "name": "stdout",
     "output_type": "stream",
     "text": [
      "Data scenario.\n"
     ]
    }
   ],
   "source": [
    "def remove_word(input_string,word_to_remove):\n",
    "    # split the input function to list of words\n",
    "    words = input_string.split()\n",
    "    filtered_words =[word for word in words if word != word_to_remove]\n",
    "    modified_string = ' '.join(filtered_words)\n",
    "    return modified_string\n",
    "input_string = \"Data Science scenario.\"\n",
    "word_to_remove = \"Science\"\n",
    "result = remove_word(input_string,word_to_remove)\n",
    "print(result)   "
   ]
  },
  {
   "cell_type": "markdown",
   "id": "49df53f0",
   "metadata": {},
   "source": [
    "## 30.Check if a string is a valid email address."
   ]
  },
  {
   "cell_type": "code",
   "execution_count": 44,
   "id": "6e85ef9f",
   "metadata": {},
   "outputs": [
    {
     "name": "stdout",
     "output_type": "stream",
     "text": [
      "True\n",
      "False\n"
     ]
    }
   ],
   "source": [
    "import re\n",
    "def is_validemail(email):\n",
    "    # regular expression pattern for a base function\n",
    "    pattern = r'^[\\w\\.-]+@[\\w\\.-]+\\.\\w+$'\n",
    "    if re.match(pattern,email):\n",
    "        return True\n",
    "    else:\n",
    "        return False\n",
    "email1 = \"hello@gmail.com\"\n",
    "email2 = \"hello-email\"\n",
    "result1 = is_validemail(email1)\n",
    "result2 = is_validemail(email2)\n",
    "print(result1)\n",
    "print(result2)"
   ]
  },
  {
   "cell_type": "markdown",
   "id": "36a421c6",
   "metadata": {},
   "source": [
    "### 31.Extract the username from an email address string."
   ]
  },
  {
   "cell_type": "code",
   "execution_count": 1,
   "id": "8d8b64e6",
   "metadata": {},
   "outputs": [
    {
     "name": "stdout",
     "output_type": "stream",
     "text": [
      "chan\n"
     ]
    }
   ],
   "source": [
    "def extract_username(email):\n",
    "    # split email address at \"@ and take the first trip\"\n",
    "    username = email.split('@')[0]\n",
    "    return username\n",
    "\n",
    "email = \"chan@gmail.com\"\n",
    "result = extract_username(email)\n",
    "print(result)"
   ]
  },
  {
   "cell_type": "markdown",
   "id": "0521e72d",
   "metadata": {},
   "source": [
    "## 32. Extract the domain name from an email address string."
   ]
  },
  {
   "cell_type": "code",
   "execution_count": 3,
   "id": "cb605ccf",
   "metadata": {},
   "outputs": [
    {
     "name": "stdout",
     "output_type": "stream",
     "text": [
      "gmail.com\n"
     ]
    }
   ],
   "source": [
    "def extract_domain(email):\n",
    "# split email address at \"@\" and take split\n",
    "    domain = email.split('@')[1]\n",
    "    return domain\n",
    "email = \"chan@gmail.com\"\n",
    "result = extract_domain(email)\n",
    "print(result)"
   ]
  },
  {
   "cell_type": "markdown",
   "id": "c45f797b",
   "metadata": {},
   "source": [
    "## 33. Replace multiple spaces in a string with a single space."
   ]
  },
  {
   "cell_type": "code",
   "execution_count": 6,
   "id": "87cf1bec",
   "metadata": {},
   "outputs": [
    {
     "name": "stdout",
     "output_type": "stream",
     "text": [
      "This is the best scenario\n"
     ]
    }
   ],
   "source": [
    "def replace_multiplespaces(input_string):\n",
    " # split the string at spaces\n",
    "    cleaned_string = ' '.join(input_string.split())\n",
    "    return cleaned_string\n",
    "input_string = \" This is the best scenario\"\n",
    "result = replace_multiplespaces(input_string)\n",
    "print(result)"
   ]
  },
  {
   "cell_type": "markdown",
   "id": "79aa30de",
   "metadata": {},
   "source": [
    "## 34. Check if a string is a valid URL."
   ]
  },
  {
   "cell_type": "code",
   "execution_count": 8,
   "id": "e173cce8",
   "metadata": {},
   "outputs": [
    {
     "name": "stdout",
     "output_type": "stream",
     "text": [
      "True\n",
      "False\n",
      "True\n"
     ]
    }
   ],
   "source": [
    "from urllib.parse import urlparse\n",
    "\n",
    "def is_validurl(url):\n",
    "    try:\n",
    "        result = urlparse(url)\n",
    "        # check whether both scheme and netloc are available\n",
    "        return all([result.scheme,result.netloc])\n",
    "    except valueError:\n",
    "        return False\n",
    "url1 = \"https://www.data.com\"\n",
    "url2 = \"invalid_url\"\n",
    "url3 = \"https://www.Datascience.com\"\n",
    "result1 = is_validurl(url1)\n",
    "result2 = is_validurl(url2)\n",
    "result3 = is_validurl(url3)\n",
    "print(result1)\n",
    "print(result2)\n",
    "print(result3)"
   ]
  },
  {
   "cell_type": "markdown",
   "id": "6ea96062",
   "metadata": {},
   "source": [
    "## 35. Extract the protocol (http or https) from a URL string."
   ]
  },
  {
   "cell_type": "code",
   "execution_count": 13,
   "id": "ab43b2f3",
   "metadata": {},
   "outputs": [
    {
     "name": "stdout",
     "output_type": "stream",
     "text": [
      "Protocol1 : https\n",
      "Protocol2 : http\n",
      "Protocol3 : ftp\n"
     ]
    }
   ],
   "source": [
    "def extract_protocol(url):\n",
    "    protocol_end = url.find(\"://\")\n",
    "\n",
    "    if protocol_end != -1:\n",
    "        protocol = url[:protocol_end]\n",
    "        return protocol\n",
    "    else:\n",
    "        return None\n",
    "    \n",
    "url1 = \"https://www.google.com\"\n",
    "url2 = \"http://gmail.com\"\n",
    "url3 = \"ftp://ftp.google.com\"\n",
    "    \n",
    "protocol1 = extract_protocol(url1)\n",
    "protocol2 = extract_protocol(url2)\n",
    "protocol3 = extract_protocol(url3)\n",
    "    \n",
    "print(\"Protocol1 :\", protocol1)\n",
    "print(\"Protocol2 :\",protocol2)\n",
    "print(\"Protocol3 :\",protocol3)"
   ]
  },
  {
   "cell_type": "markdown",
   "id": "9e7bf4c6",
   "metadata": {},
   "source": [
    "## 36. Find the frequency of each character in a string."
   ]
  },
  {
   "cell_type": "code",
   "execution_count": 17,
   "id": "11f7d013",
   "metadata": {},
   "outputs": [
    {
     "name": "stdout",
     "output_type": "stream",
     "text": [
      "character: 'D', Frequency: 1\n",
      "character: 'a', Frequency: 2\n",
      "character: 't', Frequency: 1\n",
      "character: ' ', Frequency: 1\n",
      "character: 'f', Frequency: 1\n",
      "character: 'r', Frequency: 1\n",
      "character: 'e', Frequency: 2\n",
      "character: 'q', Frequency: 1\n",
      "character: 'u', Frequency: 1\n",
      "character: 'n', Frequency: 1\n",
      "character: 'c', Frequency: 1\n",
      "character: 'y', Frequency: 1\n"
     ]
    }
   ],
   "source": [
    "def character_frequency(input_string):\n",
    "    # create frequency to input values\n",
    "    frequency = {}\n",
    "    for char in input_string:\n",
    "        if char in frequency:\n",
    "           # increment the frequency count \n",
    "            frequency[char] += 1\n",
    "        else:\n",
    "            frequency[char] = 1\n",
    "    return frequency\n",
    "\n",
    "input_str = \"Data frequency\"\n",
    "\n",
    "char_freq = character_frequency(input_str)\n",
    "\n",
    "for char, freq in char_freq.items():\n",
    "    print(f\"character: '{char}', Frequency: {freq}\")\n",
    "            "
   ]
  },
  {
   "cell_type": "markdown",
   "id": "8b422960",
   "metadata": {},
   "source": [
    "## 37. Remove all punctuation from a string."
   ]
  },
  {
   "cell_type": "code",
   "execution_count": 19,
   "id": "202ce1d3",
   "metadata": {},
   "outputs": [
    {
     "name": "stdout",
     "output_type": "stream",
     "text": [
      "original string : Hi, data scenario?\n",
      "Cleaned string : Hi data scenario\n"
     ]
    }
   ],
   "source": [
    "import string\n",
    "def remove_punctuation(input_string):\n",
    "    # create translate to remove punctuation\n",
    "    translator = str.maketrans(\"\",\"\",string.punctuation)\n",
    "    # use translation table to remove punctuation from input string\n",
    "    clean_string = input_string.translate(translator)\n",
    "    return clean_string\n",
    "# input string with punctuation\n",
    "input_str = \"Hi, data scenario?\"\n",
    "# remove punctuation\n",
    "cleaned_str = remove_punctuation(input_str)\n",
    "\n",
    "print(\"original string :\", input_str)\n",
    "print(\"Cleaned string :\", cleaned_str)"
   ]
  },
  {
   "cell_type": "markdown",
   "id": "3f249e2f",
   "metadata": {},
   "source": [
    "## 38. Check if a string contains only digits."
   ]
  },
  {
   "cell_type": "code",
   "execution_count": 25,
   "id": "c64ff5e2",
   "metadata": {},
   "outputs": [
    {
     "name": "stdout",
     "output_type": "stream",
     "text": [
      "'123456' contains only digits: True\n",
      "'Hi123' contains only digits: False\n",
      "'234.58' contains only digits: False\n"
     ]
    }
   ],
   "source": [
    "def contains_onlydigits(input_string):\n",
    "       return input_string.isdigit()\n",
    "string1 = \"123456\"\n",
    "string2 = \"Hi123\"\n",
    "string3 = \"234.58\"\n",
    "    \n",
    "result1 = contains_onlydigits(string1)\n",
    "result2 = contains_onlydigits(string2)\n",
    "result3 = contains_onlydigits(string3)\n",
    "    \n",
    "print(f\"'{string1}' contains only digits:\", result1)\n",
    "print(f\"'{string2}' contains only digits:\", result2)\n",
    "print(f\"'{string3}' contains only digits:\", result3)"
   ]
  },
  {
   "cell_type": "markdown",
   "id": "3264f5cc",
   "metadata": {},
   "source": [
    "## 39. Check if a string contains only alphabets."
   ]
  },
  {
   "cell_type": "code",
   "execution_count": 27,
   "id": "b6ea5b69",
   "metadata": {},
   "outputs": [
    {
     "name": "stdout",
     "output_type": "stream",
     "text": [
      "'world' contains only alphabets: True\n",
      "'Hi123' contains only alphabets: False\n",
      "'123456' contains only alphabets: False\n"
     ]
    }
   ],
   "source": [
    "def contains_alphabets(input_string):\n",
    "    # return all characters are alphabetic\n",
    "    return input_string.isalpha()\n",
    "string1 = \"world\"\n",
    "string2 = \"Hi123\"\n",
    "string3 = \"123456\"\n",
    "\n",
    "# check if string contains alphabets\n",
    "result1 = contains_alphabets(string1)\n",
    "result2 = contains_alphabets(string2)\n",
    "result3 = contains_alphabets(string3)\n",
    "\n",
    "print(f\"'{string1}' contains only alphabets:\", result1)\n",
    "print(f\"'{string2}' contains only alphabets:\", result2)\n",
    "print(f\"'{string3}' contains only alphabets:\", result3)"
   ]
  },
  {
   "cell_type": "markdown",
   "id": "b529bb6c",
   "metadata": {},
   "source": [
    "## 40. Convert a string to a list of characters."
   ]
  },
  {
   "cell_type": "code",
   "execution_count": 29,
   "id": "92b639f5",
   "metadata": {},
   "outputs": [
    {
     "name": "stdout",
     "output_type": "stream",
     "text": [
      "Original string: Data world!\n",
      "List of characters: ['D', 'a', 't', 'a', ' ', 'w', 'o', 'r', 'l', 'd', '!']\n"
     ]
    }
   ],
   "source": [
    "def string_list(input_string):\n",
    "    #use list() constructor to convert list of characters\n",
    "    char_list = list(input_string)\n",
    "    return char_list\n",
    "\n",
    "input_str = \"Data world!\"\n",
    "# convert string to list of characters\n",
    "char_list = string_list(input_str)\n",
    "\n",
    "print(\"Original string:\", input_str)\n",
    "print(\"List of characters:\", char_list)"
   ]
  },
  {
   "cell_type": "markdown",
   "id": "581f3964",
   "metadata": {},
   "source": [
    "## 41. Check if two strings are anagrams."
   ]
  },
  {
   "cell_type": "code",
   "execution_count": 34,
   "id": "c445c63d",
   "metadata": {},
   "outputs": [
    {
     "name": "stdout",
     "output_type": "stream",
     "text": [
      "'listen' and 'silent' are anagrams: True\n",
      "'career' and 'cricket' are anagrams: False\n"
     ]
    }
   ],
   "source": [
    "def are_anagrams(str1, str2):\n",
    "    # remove spaces and convert to lowercase\n",
    "    str1 = str1.replace(\" \",\"\").lower()\n",
    "    str2 = str2.replace(\" \",\"\").lower()\n",
    "    \n",
    "    return sorted(str1) == sorted(str2)\n",
    "string1 = \"listen\"\n",
    "string2 = \"silent\"\n",
    "string3 = \"career\"\n",
    "string4 = \"cricket\"\n",
    "\n",
    "result1 = are_anagrams(string1, string2)\n",
    "result2 = are_anagrams(string3, string4)\n",
    "\n",
    "print(f\"'{string1}' and '{string2}' are anagrams:\", result1)\n",
    "print(f\"'{string3}' and '{string4}' are anagrams:\", result2)"
   ]
  },
  {
   "cell_type": "markdown",
   "id": "d30f44d1",
   "metadata": {},
   "source": [
    "## 42. Encode a string using a Caesar cipher."
   ]
  },
  {
   "cell_type": "code",
   "execution_count": 66,
   "id": "03920618",
   "metadata": {},
   "outputs": [
    {
     "name": "stdout",
     "output_type": "stream",
     "text": [
      "Encoded text: ehoor, zruog!\n"
     ]
    }
   ],
   "source": [
    "# Define a function named caesar_cipher that encodes a string using a Caesar cipher.\n",
    "def caesar_cipher(text, shift):\n",
    "  \"\"\"\n",
    "  Encodes a string using a Caesar cipher.\n",
    "\n",
    "  Args:\n",
    "    text: The string to encode.\n",
    "    shift: The number of positions to shift each letter.\n",
    "\n",
    "  Returns:\n",
    "    The encoded string.\n",
    "  \"\"\"\n",
    "\n",
    "  # Initialize an empty string to store the encoded text.\n",
    "  encoded_text = \"\"\n",
    "\n",
    "  # Iterate through each character in the input text.\n",
    "  for char in text:\n",
    "    # Check if the character is alphabetic.\n",
    "    if char.isalpha():\n",
    "      # Calculate the encoded character's Unicode code point value by shifting it by the specified amount.\n",
    "      # Ensure the value wraps around within the lowercase alphabet range (a-z).\n",
    "      encoded_char = chr((ord(char) + shift - ord('a')) % 26 + ord('a'))\n",
    "    else:\n",
    "      # Keep non-alphabetic characters unchanged.\n",
    "      encoded_char = char\n",
    "\n",
    "    # Add the encoded character to the encoded text.\n",
    "    encoded_text += encoded_char\n",
    "\n",
    "  # Return the resulting encoded text.\n",
    "  return encoded_text\n",
    "\n",
    "# Define the input text and the shift value for encoding.\n",
    "text = \"Hello, world!\"\n",
    "shift = 3\n",
    "\n",
    "# Call the caesar_cipher function to encode the text using the specified shift.\n",
    "encoded_text = caesar_cipher(text, shift)\n",
    "\n",
    "# Print the encoded text.\n",
    "print(\"Encoded text:\", encoded_text)"
   ]
  },
  {
   "cell_type": "markdown",
   "id": "62c6b4a2",
   "metadata": {},
   "source": [
    "## 43. Decode a Caesar cipher encoded string."
   ]
  },
  {
   "cell_type": "code",
   "execution_count": 67,
   "id": "53bb71dc",
   "metadata": {},
   "outputs": [
    {
     "name": "stdout",
     "output_type": "stream",
     "text": [
      "Decoded text: ilmm, world!\n"
     ]
    }
   ],
   "source": [
    "# Define a function to decode a string using a Caesar cipher\n",
    "def caesar_cipher_decoder(text, shift):\n",
    "    \"\"\"\n",
    "    Decodes a string using a Caesar cipher.\n",
    "\n",
    "    Args:\n",
    "        text: The string to decode.\n",
    "        shift: The number of positions to shift each letter.\n",
    "\n",
    "    Returns:\n",
    "        The decoded string.\n",
    "    \"\"\"\n",
    "\n",
    "    # Initialize an empty string to store the decoded text\n",
    "    decoded_text = \"\"\n",
    "\n",
    "    # Loop through each character in the input text\n",
    "    for char in text:\n",
    "        # Check if the character is an alphabetic character\n",
    "        if char.isalpha():\n",
    "            # Calculate the decoded character using the shift value\n",
    "            decoded_char = chr((ord(char) - shift - ord('a')) % 26 + ord('a'))\n",
    "        else:\n",
    "            # If the character is not alphabetic, keep it unchanged\n",
    "            decoded_char = char\n",
    "\n",
    "        # Add the decoded character to the decoded text\n",
    "        decoded_text += decoded_char\n",
    "\n",
    "    # Return the fully decoded text\n",
    "    return decoded_text\n",
    "\n",
    "# Example input\n",
    "text = \"lopp, zruog!\"\n",
    "shift = 3\n",
    "\n",
    "# Call the caesar_cipher_decoder function to decode the input text\n",
    "decoded_text = caesar_cipher_decoder(text, shift)\n",
    "\n",
    "# Print the decoded text\n",
    "print(\"Decoded text:\", decoded_text)"
   ]
  },
  {
   "cell_type": "markdown",
   "id": "7aec2b5b",
   "metadata": {},
   "source": [
    "## 44. Find the most frequent word in a string."
   ]
  },
  {
   "cell_type": "code",
   "execution_count": 71,
   "id": "5f3c08ae",
   "metadata": {},
   "outputs": [
    {
     "name": "stdout",
     "output_type": "stream",
     "text": [
      "Most frequent word: this\n"
     ]
    }
   ],
   "source": [
    "import re\n",
    "from collections import Counter\n",
    "\n",
    "def most_frequent_word(input_string):\n",
    "    # Remove punctuation and convert to lowercase\n",
    "    clean_string = re.sub(r'[^\\w\\s]','',input_string).lower()\n",
    "    # Split the string into words\n",
    "    words = clean_string.split()\n",
    "    # use counter to count word frequencies\n",
    "    word_counter = Counter(words)\n",
    "    # Find most common word\n",
    "    most_common_word = word_counter.most_common(1)[0][0]\n",
    "    \n",
    "    return most_common_word\n",
    "    \n",
    "input_str = \"This is the best scenario!\"\n",
    "# Find most frequent word\n",
    "most_common = most_frequent_word(input_str)\n",
    "\n",
    "print(\"Most frequent word:\", most_common)"
   ]
  },
  {
   "cell_type": "markdown",
   "id": "aaa815ea",
   "metadata": {},
   "source": [
    "## 45. Find all unique words in a string."
   ]
  },
  {
   "cell_type": "code",
   "execution_count": 72,
   "id": "32c028a9",
   "metadata": {},
   "outputs": [
    {
     "name": "stdout",
     "output_type": "stream",
     "text": [
      "unique words: {'science', 'world', 'data'}\n"
     ]
    }
   ],
   "source": [
    "import re\n",
    "def unique_words(input_string):\n",
    "    # Remove punctuation and convert to lowercase\n",
    "    clean_string = re.sub(r'[^\\w\\s]','',input_string).lower()\n",
    "    # split string into words and convert to a set for uniqueness\n",
    "    words = set(clean_string.split())\n",
    "    \n",
    "    return words\n",
    "input_str = \"Data world, Data science\"\n",
    "# Find unique words\n",
    "unique_word_set = unique_words(input_str)\n",
    "\n",
    "print(\"unique words:\", unique_word_set)"
   ]
  },
  {
   "cell_type": "markdown",
   "id": "75a931ee",
   "metadata": {},
   "source": [
    "## 46. Count the number of syllables in a string."
   ]
  },
  {
   "cell_type": "code",
   "execution_count": 74,
   "id": "f31a3a55",
   "metadata": {},
   "outputs": [
    {
     "name": "stdout",
     "output_type": "stream",
     "text": [
      "'Data' has 2 syllables.\n",
      "'career' has 2 syllables.\n",
      "'syllable' has 3 syllables.\n"
     ]
    }
   ],
   "source": [
    "import re\n",
    "\n",
    "def count_syllables(word):\n",
    "    # count vowel groups using regular expression\n",
    "    vowel_groups = re.findall(r'[aeiouy]+',word,re.IGNORECASE)\n",
    "    \n",
    "    return len(vowel_groups)\n",
    "\n",
    "word1 = \"Data\"\n",
    "word2 = \"career\"\n",
    "word3 = \"syllable\"\n",
    "\n",
    "syllables1 = count_syllables(word1)\n",
    "syllables2 = count_syllables(word2)\n",
    "syllables3 = count_syllables(word3)\n",
    "\n",
    "print(f\"'{word1}' has {syllables1} syllables.\")\n",
    "print(f\"'{word2}' has {syllables2} syllables.\")\n",
    "print(f\"'{word3}' has {syllables3} syllables.\")"
   ]
  },
  {
   "cell_type": "markdown",
   "id": "4e4b21f5",
   "metadata": {},
   "source": [
    "## 47. Check if a string contains any special characters."
   ]
  },
  {
   "cell_type": "code",
   "execution_count": 76,
   "id": "131949b5",
   "metadata": {},
   "outputs": [
    {
     "name": "stdout",
     "output_type": "stream",
     "text": [
      "'Data, world!' contains special characters True\n",
      "'This is a scenario.' contains special characters True\n",
      "'special@characters' contains special characters True\n"
     ]
    }
   ],
   "source": [
    "import re\n",
    "\n",
    "def contains_special_characters(input_string):\n",
    "    # define a regular expression pattern to match special characters\n",
    "    pattern = re.compile(r'[!@#$%^&*()_+{}\\[\\]:;<>,.?~\\\\/]')\n",
    "    # use search() method to find a match\n",
    "    match = pattern.search(input_string)\n",
    "    # return True if it is found, otherwise found\n",
    "    return bool(match)\n",
    "# check if a string contains special characters\n",
    "string1 = \"Data, world!\"\n",
    "string2 = \"This is a scenario.\"\n",
    "string3 = \"special@characters\"\n",
    "\n",
    "result1 = contains_special_characters(string1)\n",
    "result2 = contains_special_characters(string2)\n",
    "result3 = contains_special_characters(string3)\n",
    "\n",
    "print(f\"'{string1}' contains special characters\", result1)\n",
    "print(f\"'{string2}' contains special characters\", result2)\n",
    "print(f\"'{string3}' contains special characters\", result3)"
   ]
  },
  {
   "cell_type": "markdown",
   "id": "612e18e7",
   "metadata": {},
   "source": [
    "## 48. Remove the nth word from a string"
   ]
  },
  {
   "cell_type": "code",
   "execution_count": 88,
   "id": "4e8fa37f",
   "metadata": {},
   "outputs": [
    {
     "name": "stdout",
     "output_type": "stream",
     "text": [
      "Original string This is an exact scenario.\n",
      "Modified string: This is an scenario.\n",
      "Removed word: exact\n"
     ]
    }
   ],
   "source": [
    "def remove_nth_word(input_string, n):\n",
    "    \n",
    "    words = input_string.split()\n",
    "    \n",
    "    if n >= 1 and n <= len(words):\n",
    "    \n",
    "       remove_word = words.pop(n - 1)\n",
    "    \n",
    "       modified_string = ' '.join(words)\n",
    "    \n",
    "       return modified_string, remove_word\n",
    "    else:\n",
    "        return None, None\n",
    "\n",
    "input_str = \"This is an exact scenario.\"\n",
    "n_value = 4\n",
    "\n",
    "modified_str, remove_word = remove_nth_word(input_str, n_value)\n",
    "\n",
    "print(\"Original string\", input_str)\n",
    "if modified_str is not None:\n",
    "    print(\"Modified string:\", modified_str)\n",
    "    print(\"Removed word:\", remove_word)\n",
    "else:\n",
    "    print(\"Invalid n value.\")"
   ]
  },
  {
   "cell_type": "markdown",
   "id": "985bf1ba",
   "metadata": {},
   "source": [
    "## 49. Insert a word at the nth position in a string."
   ]
  },
  {
   "cell_type": "code",
   "execution_count": 90,
   "id": "80499e18",
   "metadata": {},
   "outputs": [
    {
     "name": "stdout",
     "output_type": "stream",
     "text": [
      "Adding 'C' at 9th index of an inputString_2:\n",
      " DataCareer\n"
     ]
    }
   ],
   "source": [
    "# input string 2\n",
    "input_String = \"Dataareer\"\n",
    "\n",
    "# adding character 'C' at a specific position i.e, at index 5\n",
    "# by formatting it using format() function\n",
    "input_String= \"Data{}areer\".format('C')\n",
    "\n",
    "# printing the resultant string\n",
    "print(\"Adding 'C' at 9th index of an inputString_2:\\n\", input_String)"
   ]
  },
  {
   "cell_type": "markdown",
   "id": "9640ebcb",
   "metadata": {},
   "source": [
    "## 50. Convert a CSV string to a list of lists."
   ]
  },
  {
   "cell_type": "code",
   "execution_count": 114,
   "id": "a96f6f5e",
   "metadata": {},
   "outputs": [
    {
     "name": "stdout",
     "output_type": "stream",
     "text": [
      "['Name', ' Age', ' Country']\n",
      "[' Chan', ' 25', ' India']\n",
      "[' Raju', ' 30', ' UK']\n"
     ]
    }
   ],
   "source": [
    "def csv_string_to_list(csv_string):\n",
    "    # split csv string to lines\n",
    "    lines = csv_string.split('\\n')\n",
    "    # Initialize empty list to store result\n",
    "    result = []\n",
    "    \n",
    "    for line in lines:\n",
    "        # split each line into fields using comma as delimeter\n",
    "        fields = line.split(',')\n",
    "        # Append fields to the result is a row\n",
    "        result.append(fields)\n",
    "        \n",
    "    return result\n",
    "csv_data = \"Name, Age, Country\\n Chan, 25, India\\n Raju, 30, UK\"\n",
    "    # convert string to a list of lists\n",
    "list_of_lists = csv_string_to_list(csv_data)\n",
    "    \n",
    "for row in list_of_lists:\n",
    "    print(row)   "
   ]
  },
  {
   "cell_type": "markdown",
   "id": "eef7410b",
   "metadata": {},
   "source": [
    "# List based practice problem :"
   ]
  },
  {
   "cell_type": "markdown",
   "id": "e48c81c3",
   "metadata": {},
   "source": [
    "## 1. Create a list with integers from 1 to 10."
   ]
  },
  {
   "cell_type": "code",
   "execution_count": 116,
   "id": "2cae2520",
   "metadata": {},
   "outputs": [
    {
     "name": "stdout",
     "output_type": "stream",
     "text": [
      "[1, 2, 3, 4]\n"
     ]
    }
   ],
   "source": [
    "#list of integers from 1 to 5\n",
    "integer_list = [i for i in range(1,5)]\n",
    "# print list\n",
    "print(integer_list)"
   ]
  },
  {
   "cell_type": "markdown",
   "id": "5b3b2305",
   "metadata": {},
   "source": [
    "## 2. Find the length of a list without using the len() function."
   ]
  },
  {
   "cell_type": "code",
   "execution_count": 120,
   "id": "4d3729d2",
   "metadata": {},
   "outputs": [
    {
     "name": "stdout",
     "output_type": "stream",
     "text": [
      "The length of a list is 4\n"
     ]
    }
   ],
   "source": [
    "list = ['This','is','best','case']\n",
    "# find length of list\n",
    "count = 0\n",
    "for i in list:\n",
    "    count = count+1\n",
    "\n",
    "print(\"The length of a list is\", count)    "
   ]
  },
  {
   "cell_type": "code",
   "execution_count": 122,
   "id": "75de31ec",
   "metadata": {},
   "outputs": [
    {
     "name": "stdout",
     "output_type": "stream",
     "text": [
      "['Name', ' Age', ' Country']\n",
      "['Raghu', ' 30', ' USA']\n",
      "['James', ' 20', ' USA']\n",
      "['Ram', ' 25', ' UK']\n"
     ]
    }
   ],
   "source": [
    "s = \"Name, Age, Country\\nRaghu, 30, USA\\nJames, 20, USA\\nRam, 25, UK\"\n",
    "lines = s.split(\"\\n\")\n",
    "list = []\n",
    "for line in lines:\n",
    "    field = line.split(\",\")\n",
    "    list.append(field)\n",
    "for row in list:\n",
    "    print(row)"
   ]
  },
  {
   "cell_type": "markdown",
   "id": "ced27e62",
   "metadata": {},
   "source": [
    "## 3. Append an element to the end of a list."
   ]
  },
  {
   "cell_type": "code",
   "execution_count": 126,
   "id": "e1f3fb5d",
   "metadata": {},
   "outputs": [
    {
     "name": "stdout",
     "output_type": "stream",
     "text": [
      "Updated list: [20, 30, 40, 100]\n"
     ]
    }
   ],
   "source": [
    "list = [20, 30, 40]\n",
    "# Element to append\n",
    "new_element = 100\n",
    "# Append new element to end of list\n",
    "list.append(new_element)\n",
    "# Print updated list\n",
    "print(\"Updated list:\", list)"
   ]
  },
  {
   "cell_type": "markdown",
   "id": "2f7c1c51",
   "metadata": {},
   "source": [
    "## 4. Insert an element at a specific index in a list."
   ]
  },
  {
   "cell_type": "code",
   "execution_count": 129,
   "id": "0950055e",
   "metadata": {},
   "outputs": [
    {
     "name": "stdout",
     "output_type": "stream",
     "text": [
      "Updated list: [15, 25, 150, 45, 60]\n"
     ]
    }
   ],
   "source": [
    "list = [15, 25, 45, 60]\n",
    "# Element to insert\n",
    "new_element = 150\n",
    "# Index to insert the element\n",
    "index_insert = 2\n",
    "# insert new element at specific index\n",
    "list.insert(index_insert, new_element)\n",
    "# print updated list\n",
    "print(\"Updated list:\", list)"
   ]
  },
  {
   "cell_type": "markdown",
   "id": "e265397c",
   "metadata": {},
   "source": [
    "## 5. Remove an element from a list by its value."
   ]
  },
  {
   "cell_type": "code",
   "execution_count": 130,
   "id": "84849852",
   "metadata": {},
   "outputs": [
    {
     "name": "stdout",
     "output_type": "stream",
     "text": [
      "updated List: [10, 20, 30, 50, 60]\n"
     ]
    }
   ],
   "source": [
    "list = [10,20,30,40,50,60]\n",
    "# remove element\n",
    "rem_element = 40\n",
    "# remove element by its value\n",
    "list.remove(rem_element)\n",
    "# print updated list\n",
    "print(\"updated List:\", list)"
   ]
  },
  {
   "cell_type": "markdown",
   "id": "d6285152",
   "metadata": {},
   "source": [
    "## 6. Remove an element from a list by its index."
   ]
  },
  {
   "cell_type": "code",
   "execution_count": 131,
   "id": "1da79116",
   "metadata": {},
   "outputs": [
    {
     "name": "stdout",
     "output_type": "stream",
     "text": [
      "Updated list: [10, 20, 40, 50, 60]\n",
      "Removed_element: 30\n"
     ]
    }
   ],
   "source": [
    "list = [10, 20, 30, 40, 50, 60]\n",
    "# Index element to remove\n",
    "index_remove = 2\n",
    "# remove element at specific index\n",
    "Removed_element = list.pop(index_remove)\n",
    "# Print Updated list and removed list\n",
    "print(\"Updated list:\", list)\n",
    "print(\"Removed_element:\", Removed_element)"
   ]
  },
  {
   "cell_type": "markdown",
   "id": "eff094e7",
   "metadata": {},
   "source": [
    "## 7. Check if an element exists in a list."
   ]
  },
  {
   "cell_type": "code",
   "execution_count": 133,
   "id": "06d04437",
   "metadata": {},
   "outputs": [
    {
     "name": "stdout",
     "output_type": "stream",
     "text": [
      "40 exists in list.\n"
     ]
    }
   ],
   "source": [
    "list = [10, 20, 30, 40, 50, 60]\n",
    "\n",
    "element_check = 40\n",
    "\n",
    "if element_check in list:\n",
    "    print(f\"{element_check} exists in list.\")\n",
    "else:\n",
    "    print(f\"{element_check} does not exists in list.\")"
   ]
  },
  {
   "cell_type": "markdown",
   "id": "0caf73cd",
   "metadata": {},
   "source": [
    "## 8. Find the index of the first occurrence of an element in a list."
   ]
  },
  {
   "cell_type": "code",
   "execution_count": 134,
   "id": "c987e9ea",
   "metadata": {},
   "outputs": [
    {
     "name": "stdout",
     "output_type": "stream",
     "text": [
      "The index of 20 is 1\n"
     ]
    }
   ],
   "source": [
    "list = [10,20,30,40,50,20]\n",
    "\n",
    "element_check = 20\n",
    "\n",
    "index = list.index(element_check)\n",
    "\n",
    "print(f\"The index of {element_check} is {index}\")"
   ]
  },
  {
   "cell_type": "markdown",
   "id": "3b988947",
   "metadata": {},
   "source": [
    "## 9. Count the occurrences of an element in a list."
   ]
  },
  {
   "cell_type": "code",
   "execution_count": 136,
   "id": "722cd108",
   "metadata": {},
   "outputs": [
    {
     "name": "stdout",
     "output_type": "stream",
     "text": [
      "The element 20 occurs 3 times in a list.\n"
     ]
    }
   ],
   "source": [
    "list = [10,20,30,40,50,20,20]\n",
    "# Count the element of list\n",
    "element_count = 20\n",
    "# count occurence of element\n",
    "count = list.count(element_count)\n",
    "# print count\n",
    "print(f\"The element {element_count} occurs {count} times in a list.\")"
   ]
  },
  {
   "cell_type": "markdown",
   "id": "253637b2",
   "metadata": {},
   "source": [
    "## 10. Reverse the order of elements in a list."
   ]
  },
  {
   "cell_type": "code",
   "execution_count": 137,
   "id": "2dc8d8f3",
   "metadata": {},
   "outputs": [
    {
     "name": "stdout",
     "output_type": "stream",
     "text": [
      "Reversed List: [80, 50, 35, 20, 10]\n"
     ]
    }
   ],
   "source": [
    "list =[10,20,35,50,80]\n",
    "# reverse order of elements in list\n",
    "list.reverse()\n",
    "#print reverse list\n",
    "print(\"Reversed List:\", list)"
   ]
  },
  {
   "cell_type": "markdown",
   "id": "da07ea2a",
   "metadata": {},
   "source": [
    "## 11. Sort a list in ascending order."
   ]
  },
  {
   "cell_type": "code",
   "execution_count": 138,
   "id": "cb66da87",
   "metadata": {},
   "outputs": [
    {
     "name": "stdout",
     "output_type": "stream",
     "text": [
      "Sorted list in ascending order: [10, 20, 30, 40, 50]\n"
     ]
    }
   ],
   "source": [
    "list = [50,20,10,30,40]\n",
    "# sort list in ascending order\n",
    "list.sort()\n",
    "# print sorted list\n",
    "print(\"Sorted list in ascending order:\",list)"
   ]
  },
  {
   "cell_type": "markdown",
   "id": "66892a9d",
   "metadata": {},
   "source": [
    "## 12.Sort a list in descending order."
   ]
  },
  {
   "cell_type": "code",
   "execution_count": 139,
   "id": "cca1df5e",
   "metadata": {},
   "outputs": [
    {
     "name": "stdout",
     "output_type": "stream",
     "text": [
      "Sorted list in descending order: [50, 40, 30, 20, 10]\n"
     ]
    }
   ],
   "source": [
    "list = [50,20,10,30,40]\n",
    "# sort list in descending order\n",
    "list.sort(reverse = True)\n",
    "# print sorted list\n",
    "print(\"Sorted list in descending order:\", list)"
   ]
  },
  {
   "cell_type": "markdown",
   "id": "a8cc9e24",
   "metadata": {},
   "source": [
    "## 13. Create a list of even numbers from 1 to 20."
   ]
  },
  {
   "cell_type": "code",
   "execution_count": 142,
   "id": "4b073568",
   "metadata": {},
   "outputs": [
    {
     "name": "stdout",
     "output_type": "stream",
     "text": [
      "list of even numbers: [2, 4, 6, 8, 10, 12, 14, 16, 18, 20, 22, 24, 26, 28, 30, 32, 34, 36, 38, 40, 42, 44, 46, 48]\n"
     ]
    }
   ],
   "source": [
    "even_numbers = [x for x in range(2,50,2)]\n",
    "\n",
    "print(\"list of even numbers:\",even_numbers)"
   ]
  },
  {
   "cell_type": "markdown",
   "id": "4d590ddb",
   "metadata": {},
   "source": [
    "## 14. Create a list of odd numbers from 1 to 20."
   ]
  },
  {
   "cell_type": "code",
   "execution_count": 143,
   "id": "fe066347",
   "metadata": {},
   "outputs": [
    {
     "name": "stdout",
     "output_type": "stream",
     "text": [
      "List of odd numbers: [1, 3, 5, 7, 9, 11, 13, 15, 17, 19]\n"
     ]
    }
   ],
   "source": [
    "odd_num = [x for x in range(1,20,2)]\n",
    "# print list of odd numbers\n",
    "print(\"List of odd numbers:\", odd_num)"
   ]
  },
  {
   "cell_type": "markdown",
   "id": "fea4d5e9",
   "metadata": {},
   "source": [
    "## 15. Find the sum of all elements in a list."
   ]
  },
  {
   "cell_type": "code",
   "execution_count": 144,
   "id": "836b612c",
   "metadata": {},
   "outputs": [
    {
     "name": "stdout",
     "output_type": "stream",
     "text": [
      "sum of elements 150\n"
     ]
    }
   ],
   "source": [
    "list = [10,20,30,40,50]\n",
    "# calculate all elements in a list\n",
    "total_sum = sum(list)\n",
    "\n",
    "print(\"sum of elements\", total_sum)"
   ]
  },
  {
   "cell_type": "markdown",
   "id": "28c46cd3",
   "metadata": {},
   "source": [
    "## 16. Find the maximum value in a list."
   ]
  },
  {
   "cell_type": "code",
   "execution_count": 145,
   "id": "10f74eaf",
   "metadata": {},
   "outputs": [
    {
     "name": "stdout",
     "output_type": "stream",
     "text": [
      "Maximum value: 60\n"
     ]
    }
   ],
   "source": [
    "list = [10,20,30,40,50,60]\n",
    "# Find maximum value in a list\n",
    "max_value = max(list)\n",
    "\n",
    "print(\"Maximum value:\", max_value)"
   ]
  },
  {
   "cell_type": "markdown",
   "id": "c7bf7319",
   "metadata": {},
   "source": [
    "## 17. Find the minimum value in a list."
   ]
  },
  {
   "cell_type": "code",
   "execution_count": 146,
   "id": "2b447050",
   "metadata": {},
   "outputs": [
    {
     "name": "stdout",
     "output_type": "stream",
     "text": [
      "Minimum value: 10\n"
     ]
    }
   ],
   "source": [
    "list = [10,20,30,40,50,60]\n",
    "# Find minimum value in a list\n",
    "min_value = min(list)\n",
    "\n",
    "print(\"Minimum value:\", min_value)"
   ]
  },
  {
   "cell_type": "markdown",
   "id": "6706460e",
   "metadata": {},
   "source": [
    "### 18. Create a list of squares of numbers from 1 to 10."
   ]
  },
  {
   "cell_type": "code",
   "execution_count": 148,
   "id": "8bc558be",
   "metadata": {},
   "outputs": [
    {
     "name": "stdout",
     "output_type": "stream",
     "text": [
      "List of squares [1, 4, 9, 16]\n"
     ]
    }
   ],
   "source": [
    "squares = [x ** 2 for x in range(1,5)]\n",
    "\n",
    "print(\"List of squares\", squares)"
   ]
  },
  {
   "cell_type": "markdown",
   "id": "5c573aa0",
   "metadata": {},
   "source": [
    "## 19.Create a list of random numbers."
   ]
  },
  {
   "cell_type": "code",
   "execution_count": 151,
   "id": "b9af6305",
   "metadata": {},
   "outputs": [
    {
     "name": "stdout",
     "output_type": "stream",
     "text": [
      "List of random integers: [15, 58, 62, 22, 63, 88, 90, 41, 51, 65]\n"
     ]
    }
   ],
   "source": [
    "import random\n",
    "# create a list of random integers betwee 1 and 100\n",
    "ran_integers = [random.randint(1,100) for _ in range(10)]\n",
    "\n",
    "print(\"List of random integers:\", ran_integers)"
   ]
  },
  {
   "cell_type": "markdown",
   "id": "b4d02101",
   "metadata": {},
   "source": [
    "## 20. Remove duplicates from a list."
   ]
  },
  {
   "cell_type": "code",
   "execution_count": 160,
   "id": "740a7cef",
   "metadata": {},
   "outputs": [
    {
     "name": "stdout",
     "output_type": "stream",
     "text": [
      "List with out duplicates: {40, 10, 50, 20, 30}\n"
     ]
    }
   ],
   "source": [
    "list = [10,20,30,20,40,20,50]\n",
    "\n",
    "unique_list = set(my_list)\n",
    "\n",
    "print(\"List with out duplicates:\", unique_list)"
   ]
  },
  {
   "cell_type": "markdown",
   "id": "2aef5f3c",
   "metadata": {},
   "source": [
    "## 21. Find the common elements between two lists."
   ]
  },
  {
   "cell_type": "code",
   "execution_count": 163,
   "id": "4dee07ca",
   "metadata": {},
   "outputs": [
    {
     "name": "stdout",
     "output_type": "stream",
     "text": [
      "{5}\n"
     ]
    }
   ],
   "source": [
    "def common_elements(a,b):\n",
    "    a_set = set(a)\n",
    "    b_set = set(b)\n",
    "    \n",
    "    if(a_set & b_set):\n",
    "        print(a_set & b_set)\n",
    "    else:\n",
    "        print(\"No common elements\")\n",
    "        \n",
    "a = [1,2,3,4,5]\n",
    "b = [5,6,7,8,9]\n",
    "common_elements(a,b)\n"
   ]
  },
  {
   "cell_type": "markdown",
   "id": "7f233748",
   "metadata": {},
   "source": [
    "## 22. Find the difference between two lists."
   ]
  },
  {
   "cell_type": "code",
   "execution_count": 169,
   "id": "83cd2d4d",
   "metadata": {},
   "outputs": [
    {
     "name": "stdout",
     "output_type": "stream",
     "text": [
      "Difference between lists: {20, 10}\n"
     ]
    }
   ],
   "source": [
    "list1 = [10,20,30,40,50]\n",
    "list2 = [30,40,50,60,70]\n",
    "\n",
    "difference = set(list1).difference(list2)\n",
    "\n",
    "print(\"Difference between lists:\", difference)"
   ]
  },
  {
   "cell_type": "markdown",
   "id": "ffed4423",
   "metadata": {},
   "source": [
    "## 23. Merge two lists."
   ]
  },
  {
   "cell_type": "code",
   "execution_count": 171,
   "id": "abeafeb9",
   "metadata": {},
   "outputs": [
    {
     "name": "stdout",
     "output_type": "stream",
     "text": [
      "Merged list: [10, 20, 30, 40, 50, 60]\n"
     ]
    }
   ],
   "source": [
    "list1 = [10,20,30]\n",
    "list2 = [40,50,60]\n",
    "# merged list using + operator\n",
    "merged_list = list1+list2\n",
    "# print merged list\n",
    "print(\"Merged list:\", merged_list)"
   ]
  },
  {
   "cell_type": "markdown",
   "id": "3a474438",
   "metadata": {},
   "source": [
    "## 24. Multiply all elements in a list by 2."
   ]
  },
  {
   "cell_type": "code",
   "execution_count": 173,
   "id": "7bb8fa6f",
   "metadata": {},
   "outputs": [
    {
     "name": "stdout",
     "output_type": "stream",
     "text": [
      "Multiplied list: [20, 40, 60, 80, 100, 120]\n"
     ]
    }
   ],
   "source": [
    "list = [10,20,30,40,50,60]\n",
    "\n",
    "mult_list = [x*2 for x in list]\n",
    "\n",
    "print(\"Multiplied list:\",mult_list)"
   ]
  },
  {
   "cell_type": "markdown",
   "id": "433c94f7",
   "metadata": {},
   "source": [
    "## 25. Filter out all even numbers from a list."
   ]
  },
  {
   "cell_type": "code",
   "execution_count": 175,
   "id": "7fb25b60",
   "metadata": {},
   "outputs": [
    {
     "name": "stdout",
     "output_type": "stream",
     "text": [
      "[2]\n",
      "[2, 4]\n"
     ]
    }
   ],
   "source": [
    "list = [1,2,3,4,5]\n",
    "\n",
    "out = []\n",
    "\n",
    "for num in list:\n",
    "    \n",
    "    if num % 2 == 0:\n",
    "        out.append(num)\n",
    "        print(out)"
   ]
  },
  {
   "cell_type": "markdown",
   "id": "657af739",
   "metadata": {},
   "source": [
    "## 26. Convert a list of strings to a list of integers."
   ]
  },
  {
   "cell_type": "code",
   "execution_count": 176,
   "id": "7e969357",
   "metadata": {},
   "outputs": [
    {
     "name": "stdout",
     "output_type": "stream",
     "text": [
      "List of integers: ['10', '20', '30', '40', '50']\n"
     ]
    }
   ],
   "source": [
    "str_list = [\"10\",\"20\",\"30\",\"40\",\"50\"]\n",
    "# convert string into list of integers using a list comprehension\n",
    "integer_list = [int(x) for x in str_list]\n",
    "# print list of integers\n",
    "print(\"List of integers:\",str_list)"
   ]
  },
  {
   "cell_type": "markdown",
   "id": "70fb857b",
   "metadata": {},
   "source": [
    "## 27. Convert a list of integers to a list of strings."
   ]
  },
  {
   "cell_type": "code",
   "execution_count": 177,
   "id": "eab269dd",
   "metadata": {},
   "outputs": [
    {
     "name": "stdout",
     "output_type": "stream",
     "text": [
      "List of strings: ['10', '20', '30', '40', '50', '60']\n"
     ]
    }
   ],
   "source": [
    "int_list = [10,20,30,40,50,60]\n",
    "# convert list of integers to list of string using list comprehension\n",
    "string_list = [str(x) for x in int_list]\n",
    "# print list of string\n",
    "print(\"List of strings:\", string_list)"
   ]
  },
  {
   "cell_type": "markdown",
   "id": "43520cae",
   "metadata": {},
   "source": [
    "## 28. Flatten a nested list."
   ]
  },
  {
   "cell_type": "code",
   "execution_count": 180,
   "id": "b3b344a1",
   "metadata": {},
   "outputs": [
    {
     "name": "stdout",
     "output_type": "stream",
     "text": [
      "Flattened List [1, 2, 3, 4, 5, 6, 7, 8, 9, 0]\n"
     ]
    }
   ],
   "source": [
    "nes_list = [[1,2,3],[4,5],[6,7,8,9,0]]\n",
    "flat_list = []\n",
    "for sublist in nes_list:\n",
    "    for num in sublist:\n",
    "        flat_list.append(num)\n",
    "    \n",
    "print(\"Flattened List\",flat_list)            "
   ]
  },
  {
   "cell_type": "markdown",
   "id": "07879941",
   "metadata": {},
   "source": [
    "## 29. Create a list of the first 10 Fibonacci numbers."
   ]
  },
  {
   "cell_type": "code",
   "execution_count": 185,
   "id": "b6af6459",
   "metadata": {},
   "outputs": [
    {
     "name": "stdout",
     "output_type": "stream",
     "text": [
      "First 10 Fibonacci numbers: [0, 1]\n"
     ]
    }
   ],
   "source": [
    "def gen_fibonacci(n):\n",
    "    # Initialise list with first two fibonacci series\n",
    "    fibonacci_list = [0,1]\n",
    "    for i in range(2,n):\n",
    "            next_fibonacci = fibonacci_list[i-1] + fibonacci_list[i-2]\n",
    "            fibonacci_list.append(next_fibonacci)\n",
    "            \n",
    "    return fibonacci_list\n",
    "fibonacci_numbers = gen_fibonacci(2)\n",
    "print(\"First 10 Fibonacci numbers:\", fibonacci_numbers)    "
   ]
  },
  {
   "cell_type": "markdown",
   "id": "b502af62",
   "metadata": {},
   "source": [
    "## 30. Check if a list is sorted."
   ]
  },
  {
   "cell_type": "code",
   "execution_count": 187,
   "id": "7e9ca141",
   "metadata": {},
   "outputs": [
    {
     "name": "stdout",
     "output_type": "stream",
     "text": [
      "The list is sorted in ascending order.\n"
     ]
    }
   ],
   "source": [
    "def is_sorted_ascending(lst):\n",
    "    for i in range(1, len(lst)):\n",
    "        if lst[i] < lst[i-1]:\n",
    "            return False\n",
    "    return True\n",
    "\n",
    "ascending_list = [10,20,30,40,50]\n",
    "\n",
    "if is_sorted_ascending(ascending_list):\n",
    "    print(\"The list is sorted in ascending order.\")\n",
    "else:\n",
    "    print(\"The list is not sorted in ascending order.\")"
   ]
  },
  {
   "cell_type": "markdown",
   "id": "1917e834",
   "metadata": {},
   "source": [
    "## 31. Rotate a list to the left by n positions."
   ]
  },
  {
   "cell_type": "code",
   "execution_count": 188,
   "id": "a7323406",
   "metadata": {},
   "outputs": [
    {
     "name": "stdout",
     "output_type": "stream",
     "text": [
      "Rotated list: [3, 4, 5, 6, 1, 2]\n"
     ]
    }
   ],
   "source": [
    "def rotate_left(lst, n):\n",
    "    n = n % len(lst)\n",
    "    \n",
    "    rotated = lst[n:] + lst[:n]\n",
    "    return rotated\n",
    "\n",
    "lst = [1,2,3,4,5,6]\n",
    "\n",
    "n =2\n",
    "\n",
    "rotated_lst = rotate_left(lst, n)\n",
    "\n",
    "print(\"Rotated list:\", rotated_lst)"
   ]
  },
  {
   "cell_type": "markdown",
   "id": "2ed41a57",
   "metadata": {},
   "source": [
    "## 32. Rotate a list to the right by n positions."
   ]
  },
  {
   "cell_type": "code",
   "execution_count": 190,
   "id": "8245e414",
   "metadata": {},
   "outputs": [
    {
     "name": "stdout",
     "output_type": "stream",
     "text": [
      "Rotated list: [7, 8, 1, 2, 3, 4, 5, 6]\n"
     ]
    }
   ],
   "source": [
    "def rotate_right(lst, n):\n",
    "    n = n% len(lst)\n",
    "    \n",
    "    rotated = lst[-n:] + lst[:-n]\n",
    "    return rotated\n",
    "my_list = [1,2,3,4,5,6,7,8]\n",
    "# Number of positions to be rotate by\n",
    "n = 2\n",
    "# Rotate the list to right by n positions\n",
    "rotated_list = rotate_right(my_list, n)\n",
    "\n",
    "print(\"Rotated list:\", rotated_list)"
   ]
  },
  {
   "cell_type": "markdown",
   "id": "131375e7",
   "metadata": {},
   "source": [
    "## 33. Create a list of prime numbers up to 50."
   ]
  },
  {
   "cell_type": "code",
   "execution_count": 192,
   "id": "e68a3b6b",
   "metadata": {},
   "outputs": [
    {
     "name": "stdout",
     "output_type": "stream",
     "text": [
      "5 25\n",
      "5 29\n",
      "List of prime numbers upto 50: [2, 3, 5, 7, 11, 13, 17, 19, 23, 29]\n"
     ]
    }
   ],
   "source": [
    "def isprime(num):\n",
    "    if num <= 1:\n",
    "        return False\n",
    "    if num <= 3:\n",
    "        return True\n",
    "    if num % 2 ==0 or num% 3 == 0:\n",
    "        return False\n",
    "    i = 5\n",
    "    while i * i <=num:\n",
    "        print(i,num)\n",
    "        if num % i ==0 or num % (i+2) == 0:\n",
    "            return False\n",
    "        i +=6\n",
    "    return True\n",
    "prime_numbers = [num for num in range(2,30) if isprime(num)]\n",
    "\n",
    "print(\"List of prime numbers upto 50:\", prime_numbers)"
   ]
  },
  {
   "cell_type": "markdown",
   "id": "ceadca6a",
   "metadata": {},
   "source": [
    "## 34. Split a list into chunks of size n."
   ]
  },
  {
   "cell_type": "code",
   "execution_count": 195,
   "id": "73793f20",
   "metadata": {},
   "outputs": [
    {
     "name": "stdout",
     "output_type": "stream",
     "text": [
      "List of prime numbers up to 30: [2, 3, 5, 7, 11, 13, 17, 19, 23, 29]\n"
     ]
    }
   ],
   "source": [
    "def sieve_eratosthenes(limit):\n",
    "    primes = []\n",
    "    prime = [True] * (limit + 1)\n",
    "    prime[0] = prime[1] = False\n",
    "    \n",
    "    for num in range(2, int(limit ** 0.5) + 1):\n",
    "        if prime[num]:\n",
    "            primes.append(num)\n",
    "            for multiple in range(num * num, limit + 1, num):\n",
    "                prime[multiple] = False\n",
    "    \n",
    "    for num in range(int(limit ** 0.5)+1, limit+1):\n",
    "        if prime[num]:\n",
    "            primes.append(num)\n",
    "    return primes\n",
    "\n",
    "prime_numbers = sieve_eratosthenes(30)\n",
    "\n",
    "print(\"List of prime numbers up to 30:\", prime_numbers)\n",
    "                "
   ]
  },
  {
   "cell_type": "markdown",
   "id": "f0daca7a",
   "metadata": {},
   "source": [
    "## 35. Find the second largest number in a list."
   ]
  },
  {
   "cell_type": "code",
   "execution_count": 198,
   "id": "697c4599",
   "metadata": {},
   "outputs": [
    {
     "name": "stdout",
     "output_type": "stream",
     "text": [
      "second largest number: 30\n"
     ]
    }
   ],
   "source": [
    "list = [10, 5, 25, 35, 15, 30, 22]\n",
    "\n",
    "sorted_list = sorted(set(list))\n",
    "\n",
    "if len(sorted_list) >= 2:\n",
    "    second_largest = sorted_list[-2]\n",
    "    print(\"second largest number:\", second_largest)\n",
    "else:\n",
    "    print(\"The list does not contain enough elements.\")"
   ]
  },
  {
   "cell_type": "markdown",
   "id": "f8977997",
   "metadata": {},
   "source": [
    "## 36. Replace every element in a list with its square."
   ]
  },
  {
   "cell_type": "code",
   "execution_count": 199,
   "id": "b9136e9d",
   "metadata": {},
   "outputs": [
    {
     "name": "stdout",
     "output_type": "stream",
     "text": [
      "squared list: [4, 16, 36, 64, 100, 144]\n"
     ]
    }
   ],
   "source": [
    "list = [2,4,6,8,10,12]\n",
    "\n",
    "sq_list = [x ** 2 for x in list]\n",
    "\n",
    "print(\"squared list:\", sq_list)"
   ]
  },
  {
   "cell_type": "markdown",
   "id": "cb16bae4",
   "metadata": {},
   "source": [
    "## 37. Convert a list to a dictionary where list elements become keys and their indices become values."
   ]
  },
  {
   "cell_type": "code",
   "execution_count": 200,
   "id": "9fc05f44",
   "metadata": {},
   "outputs": [
    {
     "name": "stdout",
     "output_type": "stream",
     "text": [
      "Converted dictionary: {'Mango': 0, 'Banana': 1, 'Cherry': 2, 'Apple': 3, 'Blueberry': 4}\n"
     ]
    }
   ],
   "source": [
    "list = ['Mango','Banana','Cherry','Apple','Blueberry']\n",
    "\n",
    "my_dict = {element: index for index, element in enumerate(list)}\n",
    "\n",
    "print(\"Converted dictionary:\", my_dict)"
   ]
  },
  {
   "cell_type": "markdown",
   "id": "961b0f90",
   "metadata": {},
   "source": [
    "## 38. Shuffle the elements of a list randomly."
   ]
  },
  {
   "cell_type": "code",
   "execution_count": 201,
   "id": "28631558",
   "metadata": {},
   "outputs": [
    {
     "name": "stdout",
     "output_type": "stream",
     "text": [
      "shuffled list: [5, 10, 7, 1, 9, 11, 3, 8, 6, 2, 12, 4]\n"
     ]
    }
   ],
   "source": [
    "import random\n",
    "\n",
    "list =[1,2,3,4,5,6,7,8,9,10,11,12]\n",
    "\n",
    "random.shuffle(list)\n",
    "\n",
    "print(\"shuffled list:\", list)"
   ]
  },
  {
   "cell_type": "markdown",
   "id": "70136346",
   "metadata": {},
   "source": [
    "## 39. Create a list of the first 10 factorial numbers."
   ]
  },
  {
   "cell_type": "code",
   "execution_count": 204,
   "id": "df21f12e",
   "metadata": {},
   "outputs": [
    {
     "name": "stdout",
     "output_type": "stream",
     "text": [
      "List of first 10 factorial numbers: [1, 1, 2, 6, 24]\n"
     ]
    }
   ],
   "source": [
    "def factorial(n):\n",
    "    if n == 0 or n ==1:\n",
    "        return 1\n",
    "    else:\n",
    "        return n * factorial(n-1)\n",
    "    # create a list of 5 factorial numbers\n",
    "factorial_numbers = [factorial(i) for i in range(5)]\n",
    "    \n",
    "print(\"List of first 10 factorial numbers:\", factorial_numbers)"
   ]
  },
  {
   "cell_type": "markdown",
   "id": "9057e294",
   "metadata": {},
   "source": [
    "## 40. Check if two lists have at least one element in common."
   ]
  },
  {
   "cell_type": "code",
   "execution_count": 206,
   "id": "0d8271c7",
   "metadata": {},
   "outputs": [
    {
     "name": "stdout",
     "output_type": "stream",
     "text": [
      "The list have atleast one common element.\n"
     ]
    }
   ],
   "source": [
    "def has_commonelement(list1, list2):\n",
    "    for item in list1:\n",
    "        if item in list2:\n",
    "            return True\n",
    "    return False\n",
    "list1 = [1,2,3,4,5]\n",
    "list2 = [3,4,5,6,7]\n",
    "    # check  two lists atleast one element in common\n",
    "if has_commonelement(list1, list2):\n",
    "    print(\"The list have atleast one common element.\")\n",
    "else:\n",
    "    print(\"The list does not any common elements.\")"
   ]
  },
  {
   "cell_type": "markdown",
   "id": "1d97c9d0",
   "metadata": {},
   "source": [
    "## 41. Remove all elements from a list."
   ]
  },
  {
   "cell_type": "code",
   "execution_count": 209,
   "id": "95830bad",
   "metadata": {},
   "outputs": [
    {
     "name": "stdout",
     "output_type": "stream",
     "text": [
      "Empty list: []\n"
     ]
    }
   ],
   "source": [
    "list = [1,2,3,4,5]\n",
    "# clear all elements from the list\n",
    "list.clear()\n",
    "# print empty list\n",
    "print(\"Empty list:\",list)"
   ]
  },
  {
   "cell_type": "markdown",
   "id": "e388f50c",
   "metadata": {},
   "source": [
    "## 42. Replace negative numbers in a list with 0."
   ]
  },
  {
   "cell_type": "code",
   "execution_count": 213,
   "id": "49be71d3",
   "metadata": {},
   "outputs": [
    {
     "name": "stdout",
     "output_type": "stream",
     "text": [
      "List after Rplace negative number: [10, 0, 20, 0, 30, 0, 40, 0]\n"
     ]
    }
   ],
   "source": [
    "list = [10, -5, 20, -15, 30, -25, 40, -0]\n",
    "# iterate through list and replace negative numbers with 0 \n",
    "for i in range(len(list)):\n",
    "    if list[i] < 0:\n",
    "        list[i] = 0\n",
    "# print list after replacing negative numbers with 0            \n",
    "print(\"List after Rplace negative number:\",list)            "
   ]
  },
  {
   "cell_type": "markdown",
   "id": "05508c16",
   "metadata": {},
   "source": [
    "## 43. Convert a string into a list of words."
   ]
  },
  {
   "cell_type": "code",
   "execution_count": 214,
   "id": "bb3c413a",
   "metadata": {},
   "outputs": [
    {
     "name": "stdout",
     "output_type": "stream",
     "text": [
      "List of words: ['Hi,', 'This', 'is', 'a', 'best', 'sentence.']\n"
     ]
    }
   ],
   "source": [
    "string = \"Hi, This is a best sentence.\"\n",
    "\n",
    "word_list = string.split()\n",
    "\n",
    "print(\"List of words:\", word_list)"
   ]
  },
  {
   "cell_type": "markdown",
   "id": "8c41cfb3",
   "metadata": {},
   "source": [
    "## 44. Convert a list of words into a string."
   ]
  },
  {
   "cell_type": "code",
   "execution_count": 215,
   "id": "f7a6b8ad",
   "metadata": {},
   "outputs": [
    {
     "name": "stdout",
     "output_type": "stream",
     "text": [
      "Converted string: Hi Data is the Best career.\n"
     ]
    }
   ],
   "source": [
    "word_list = [\"Hi\",\"Data\",\"is\",\"the\",\"Best\",\"career.\"]\n",
    "# convert list of words in string\n",
    "string = \" \".join(word_list)\n",
    "# print resulting string\n",
    "print(\"Converted string:\", string)"
   ]
  },
  {
   "cell_type": "markdown",
   "id": "2de49033",
   "metadata": {},
   "source": [
    "## 45. Create a list of the first n powers of 2."
   ]
  },
  {
   "cell_type": "code",
   "execution_count": 218,
   "id": "46ec5192",
   "metadata": {},
   "outputs": [
    {
     "name": "stdout",
     "output_type": "stream",
     "text": [
      "List of first 10 powers of 2: [1, 2, 4, 8, 16, 32, 64, 128, 256, 512]\n"
     ]
    }
   ],
   "source": [
    "n = 10\n",
    "# create a list of first n powers of 2 using a loop\n",
    "power_list = [2**i for i in range(n)]\n",
    "# print list of powers of 2\n",
    "print(\"List of first\", n, \"powers of 2:\", power_list)"
   ]
  },
  {
   "cell_type": "markdown",
   "id": "3d45f01e",
   "metadata": {},
   "source": [
    "## 46. Find the longest string in a list of strings."
   ]
  },
  {
   "cell_type": "code",
   "execution_count": 220,
   "id": "1ccd1a45",
   "metadata": {},
   "outputs": [
    {
     "name": "stdout",
     "output_type": "stream",
     "text": [
      "Longest_string: Strawberry\n"
     ]
    }
   ],
   "source": [
    "string_list = [\"Mango\",\"Apple\",\"Orange\",\"Dates\",\"Strawberry\"]\n",
    "# Find longest string in list\n",
    "longest_string = \"\"\n",
    "for s in string_list:\n",
    "    if len(s) > len(longest_string):\n",
    "        longest_string = s\n",
    "    # print longest string    \n",
    "print(\"Longest_string:\",longest_string)        "
   ]
  },
  {
   "cell_type": "markdown",
   "id": "edec1eb7",
   "metadata": {},
   "source": [
    "## 47. Find the shortest string in a list of strings."
   ]
  },
  {
   "cell_type": "code",
   "execution_count": 223,
   "id": "6e742dee",
   "metadata": {},
   "outputs": [
    {
     "name": "stdout",
     "output_type": "stream",
     "text": [
      "shortest_string: Date\n"
     ]
    }
   ],
   "source": [
    "string_list = [\"Mango\",\"Apple\",\"Orange\",\"Date\",\"Strawberry\"]\n",
    "# Find shortest string in list\n",
    "shortest_string = string_list[0]\n",
    "for s in string_list:\n",
    "    if len(s) < len(shortest_string):\n",
    "        shortest_string = s\n",
    "    # print longest string    \n",
    "print(\"shortest_string:\",shortest_string)        "
   ]
  },
  {
   "cell_type": "markdown",
   "id": "a8ddf393",
   "metadata": {},
   "source": [
    "## 48. Create a list of the first n triangular numbers."
   ]
  },
  {
   "cell_type": "code",
   "execution_count": 225,
   "id": "62f999d3",
   "metadata": {},
   "outputs": [
    {
     "name": "stdout",
     "output_type": "stream",
     "text": [
      "List of the first 10 triangular numbers: [1, 3, 6, 10, 15, 21, 28, 36, 45, 55]\n"
     ]
    }
   ],
   "source": [
    "def triangular_numbers(n):\n",
    "    return[i * (i+1) // 2 for i in range(1, n+1)]\n",
    "# specify value of n\n",
    "n = 10\n",
    "# create a list of first n triangular numbers\n",
    "triangular_list = triangular_numbers(n)\n",
    "# print list of triangular numbers\n",
    "print(\"List of the first\", n, \"triangular numbers:\", triangular_list)"
   ]
  },
  {
   "cell_type": "markdown",
   "id": "80e9c3f7",
   "metadata": {},
   "source": [
    "## 49. Check if a list contains another list as a subsequence."
   ]
  },
  {
   "cell_type": "code",
   "execution_count": 228,
   "id": "21ae56f0",
   "metadata": {},
   "outputs": [
    {
     "name": "stdout",
     "output_type": "stream",
     "text": [
      "Main list contains the subsequence.\n"
     ]
    }
   ],
   "source": [
    "def is_subsequence(subsequence,list):\n",
    "    # index for subsequent elements\n",
    "    subseq_index = 0 \n",
    "    for element in list:\n",
    "        if element == subsequence[subseq_index]:\n",
    "            subseq_index += 1\n",
    "            if subseq_index == len(subsequence):\n",
    "                return True\n",
    "    return False\n",
    "# list and subsequence\n",
    "list = [1,2,3,4,5,6,7,8,9,10]\n",
    "subsequence = [3,5,8,9]\n",
    "# check if main list contains subsequence\n",
    "if is_subsequence(subsequence, list):\n",
    "    print(\"Main list contains the subsequence.\")\n",
    "else:\n",
    "    print(\"Main list does not contains the subsequence.\")\n",
    "    "
   ]
  },
  {
   "cell_type": "markdown",
   "id": "f83279e9",
   "metadata": {},
   "source": [
    "## 50. Swap two elements in a list by their indices."
   ]
  },
  {
   "cell_type": "code",
   "execution_count": 230,
   "id": "5c9aebf7",
   "metadata": {},
   "outputs": [
    {
     "name": "stdout",
     "output_type": "stream",
     "text": [
      "List after swapping elements: [1, 6, 3, 4, 5, 2, 7, 8]\n"
     ]
    }
   ],
   "source": [
    "list = [1,2,3,4,5,6,7,8]\n",
    "\n",
    "index1 = 1\n",
    "index2 = 5\n",
    "\n",
    "temp = list[index1]\n",
    "list[index1] = list[index2]\n",
    "list[index2] = temp\n",
    "\n",
    "print(\"List after swapping elements:\", list)"
   ]
  },
  {
   "cell_type": "markdown",
   "id": "676d391c",
   "metadata": {},
   "source": [
    "# Tuple based practice problem :"
   ]
  },
  {
   "cell_type": "markdown",
   "id": "4342e28a",
   "metadata": {},
   "source": [
    "## 1. Create a tuple with integers from 1 to 5."
   ]
  },
  {
   "cell_type": "code",
   "execution_count": 232,
   "id": "fc398455",
   "metadata": {},
   "outputs": [
    {
     "name": "stdout",
     "output_type": "stream",
     "text": [
      "The third element of tuple is: 30\n"
     ]
    }
   ],
   "source": [
    "tuple = (10, 20, 30, 40, 50, 60)\n",
    "# Access third element of tuple\n",
    "third_element = tuple[2]\n",
    "# Explanantion: In this line, we use indexing to access third element of tuple\n",
    "# since indexing is 0-based, third element at index 2.\n",
    "\n",
    "print(\"The third element of tuple is:\", third_element)"
   ]
  },
  {
   "cell_type": "markdown",
   "id": "33afa3c9",
   "metadata": {},
   "source": [
    "## 2. Access the third element of a tuple."
   ]
  },
  {
   "cell_type": "code",
   "execution_count": 234,
   "id": "957a8ba1",
   "metadata": {},
   "outputs": [
    {
     "name": "stdout",
     "output_type": "stream",
     "text": [
      "The third element of tuple is: 40\n"
     ]
    }
   ],
   "source": [
    "tuple = (10,20,30,40,50,60)\n",
    "# Access third element (index 2) of tuple\n",
    "third_element = tuple[3]\n",
    "\n",
    "print(\"The third element of tuple is:\", third_element)"
   ]
  },
  {
   "cell_type": "markdown",
   "id": "39a12514",
   "metadata": {},
   "source": [
    "## 3. Find the length of a tuple without using the len() function."
   ]
  },
  {
   "cell_type": "code",
   "execution_count": 237,
   "id": "e5574c86",
   "metadata": {},
   "outputs": [
    {
     "name": "stdout",
     "output_type": "stream",
     "text": [
      "The length of the tuple is: 6\n"
     ]
    }
   ],
   "source": [
    "tuple = (10,20,30,40,50,60)\n",
    "# Initialize a variable to count the elements\n",
    "count = 0\n",
    "# Iterate through tuple and increment count of each element\n",
    "for i in tuple:\n",
    "    count += 1\n",
    "    \n",
    "print(\"The length of the tuple is:\", count)    "
   ]
  },
  {
   "cell_type": "markdown",
   "id": "98a41a01",
   "metadata": {},
   "source": [
    "## 4. Count the occurrences of an element in a tuple."
   ]
  },
  {
   "cell_type": "code",
   "execution_count": 239,
   "id": "f4b262fd",
   "metadata": {},
   "outputs": [
    {
     "name": "stdout",
     "output_type": "stream",
     "text": [
      "The element 25 appears 2 times in the tuple.\n"
     ]
    }
   ],
   "source": [
    "tuple = (10, 20, 30, 25, 50, 60, 20, 25)\n",
    "# chhose element to count occurence of\n",
    "element_count = 25\n",
    "# initialize a variable to keep track of count\n",
    "count = 0\n",
    "# Iterate through tuple and count occurence of chosen element\n",
    "for item in tuple:\n",
    "    if item == element_count:\n",
    "        count += 1\n",
    "        \n",
    "print(f\"The element {element_count} appears {count} times in the tuple.\")        "
   ]
  },
  {
   "cell_type": "markdown",
   "id": "28859749",
   "metadata": {},
   "source": [
    "## 5. Find the index of the first occurrence of an element in a tuple."
   ]
  },
  {
   "cell_type": "code",
   "execution_count": 243,
   "id": "129990c8",
   "metadata": {},
   "outputs": [
    {
     "name": "stdout",
     "output_type": "stream",
     "text": [
      "The first occurrence of 20 is at index 1.\n"
     ]
    }
   ],
   "source": [
    "# Step 1: Create a tuple\n",
    "my_tuple = (10, 20, 30, 20, 40, 50)\n",
    "\n",
    "# Step 2: Choose the element to find the index of\n",
    "element_to_find = 20\n",
    "\n",
    "# Step 3: Initialize a variable to keep track of the index\n",
    "index = -1  # Initialize with -1 to indicate that the element was not found\n",
    "\n",
    "# Step 4: Iterate through the tuple and find the index of the chosen element\n",
    "for i, item in enumerate(my_tuple):\n",
    "    if item == element_to_find:\n",
    "        index = i\n",
    "        break  # Exit the loop once the first occurrence is found\n",
    "\n",
    "# Step 5: Print the index of the first occurrence\n",
    "if index != -1:\n",
    "    print(f\"The first occurrence of {element_to_find} is at index {index}.\")\n",
    "else:\n",
    "    print(f\"{element_to_find} is not found in the tuple.\")"
   ]
  },
  {
   "cell_type": "markdown",
   "id": "44ea0813",
   "metadata": {},
   "source": [
    "## 6. Check if an element exists in a tuple."
   ]
  },
  {
   "cell_type": "code",
   "execution_count": 245,
   "id": "ea5b7d40",
   "metadata": {},
   "outputs": [
    {
     "name": "stdout",
     "output_type": "stream",
     "text": [
      "40 exists in the tuple.\n"
     ]
    }
   ],
   "source": [
    "uple = (10,20,30,40,50,60)\n",
    "# choose element to check for existence\n",
    "element_to_check = 40\n",
    "# check if element exists in tuple using 'in' operator\n",
    "if element_to_check in my_tuple:\n",
    "    print(f\"{element_to_check} exists in the tuple.\")\n",
    "else:\n",
    "    print(f\"{element_to_check} does not exists in the tuple.\")"
   ]
  },
  {
   "cell_type": "markdown",
   "id": "bc4e3be1",
   "metadata": {},
   "source": [
    "## 7. Convert a tuple to a list."
   ]
  },
  {
   "cell_type": "code",
   "execution_count": 6,
   "id": "8c7e0328",
   "metadata": {},
   "outputs": [
    {
     "name": "stdout",
     "output_type": "stream",
     "text": [
      "[22, 42, 53, 64, 85]\n"
     ]
    }
   ],
   "source": [
    "# Create a list\n",
    "my_tuple = (22, 42, 53, 64, 85)\n",
    "\n",
    "# Convert the list to a tuple\n",
    "lists = list(my_tuple)\n",
    "print(lists)"
   ]
  },
  {
   "cell_type": "markdown",
   "id": "80351318",
   "metadata": {},
   "source": [
    "## 8. Convert a list to a tuple."
   ]
  },
  {
   "cell_type": "code",
   "execution_count": 1,
   "id": "f8f11ddc",
   "metadata": {},
   "outputs": [
    {
     "name": "stdout",
     "output_type": "stream",
     "text": [
      "(22, 42, 53, 64, 85)\n"
     ]
    }
   ],
   "source": [
    "# Create a list\n",
    "my_list = [22, 42, 53, 64, 85]\n",
    "\n",
    "# Convert the list to a tuple\n",
    "tuples = tuple(my_list)\n",
    "print(tuples)"
   ]
  },
  {
   "cell_type": "markdown",
   "id": "ba3e6dd7",
   "metadata": {},
   "source": [
    "## 9. Unpack the elements of a tuple into variables."
   ]
  },
  {
   "cell_type": "code",
   "execution_count": 2,
   "id": "327d17b4",
   "metadata": {},
   "outputs": [
    {
     "name": "stdout",
     "output_type": "stream",
     "text": [
      "var1: 10\n",
      "var2: 20\n",
      "var3: 30\n",
      "var4: 40\n",
      "var5: 50\n"
     ]
    }
   ],
   "source": [
    "my_tuple = (10,20,30,40,50)\n",
    "\n",
    "var1,var2,var3,var4,var5 = my_tuple\n",
    "\n",
    "print(\"var1:\", var1)\n",
    "print(\"var2:\", var2)\n",
    "print(\"var3:\", var3)\n",
    "print(\"var4:\", var4)\n",
    "print(\"var5:\", var5)"
   ]
  },
  {
   "cell_type": "markdown",
   "id": "b4b5a0de",
   "metadata": {},
   "source": [
    "## 10. Create a tuple of even numbers from 1 to 10."
   ]
  },
  {
   "cell_type": "code",
   "execution_count": 3,
   "id": "13f6a1dd",
   "metadata": {},
   "outputs": [
    {
     "name": "stdout",
     "output_type": "stream",
     "text": [
      "Tuple of even numbers: (2, 4, 6, 8, 10)\n"
     ]
    }
   ],
   "source": [
    "# start from 2, step by 2, end at 10\n",
    "evennum_list = [num for num in range(2,11,2)]\n",
    "# convert list to tuple\n",
    "evennum_tuple = tuple(evennum_list)\n",
    "\n",
    "print(\"Tuple of even numbers:\", evennum_tuple)"
   ]
  },
  {
   "cell_type": "markdown",
   "id": "4a42e159",
   "metadata": {},
   "source": [
    "## 11. Create a tuple of odd numbers from 1 to 10."
   ]
  },
  {
   "cell_type": "code",
   "execution_count": 14,
   "id": "45d94bc1",
   "metadata": {},
   "outputs": [
    {
     "name": "stdout",
     "output_type": "stream",
     "text": [
      "Enter the start of range:2\n",
      "Enter the end of range:10\n",
      "3\n",
      "5\n",
      "7\n",
      "9\n"
     ]
    }
   ],
   "source": [
    "start = int(input(\"Enter the start of range:\"))\n",
    "end = int(input(\"Enter the end of range:\"))\n",
    " \n",
    "# iterating each number in list\n",
    "for num in range(start, end + 1):\n",
    " \n",
    "    # checking condition\n",
    "    if num % 2 != 0:\n",
    "        print(num)"
   ]
  },
  {
   "cell_type": "markdown",
   "id": "70963db9",
   "metadata": {},
   "source": [
    "## 12. Concatenate two tuples."
   ]
  },
  {
   "cell_type": "code",
   "execution_count": 15,
   "id": "e684b6f6",
   "metadata": {},
   "outputs": [
    {
     "name": "stdout",
     "output_type": "stream",
     "text": [
      "concatenated tuple: (1, 2, 3, 4, 5, 6)\n"
     ]
    }
   ],
   "source": [
    "tuple1 = (1,2,3)\n",
    "tuple2 = (4,5,6)\n",
    "# concatenate two tuples\n",
    "concat_tuple = tuple1 + tuple2\n",
    "# print concatenated tuples\n",
    "print(\"concatenated tuple:\", concat_tuple)"
   ]
  },
  {
   "cell_type": "markdown",
   "id": "0f6f4b1d",
   "metadata": {},
   "source": [
    "## 13. Repeat a tuple three times."
   ]
  },
  {
   "cell_type": "code",
   "execution_count": 16,
   "id": "f96509e3",
   "metadata": {},
   "outputs": [
    {
     "name": "stdout",
     "output_type": "stream",
     "text": [
      "Repeated tuple: (1, 2, 3, 1, 2, 3, 1, 2, 3)\n"
     ]
    }
   ],
   "source": [
    "orig_tuple = (1,2,3)\n",
    "# Repeat tuple three times\n",
    "rep_tuple = orig_tuple * 3\n",
    "# print repeated tuple\n",
    "print(\"Repeated tuple:\", rep_tuple)"
   ]
  },
  {
   "cell_type": "markdown",
   "id": "1645dde0",
   "metadata": {},
   "source": [
    "## 14. Check if a tuple is empty."
   ]
  },
  {
   "cell_type": "code",
   "execution_count": 17,
   "id": "bdbe845b",
   "metadata": {},
   "outputs": [
    {
     "name": "stdout",
     "output_type": "stream",
     "text": [
      "The emp_tuple is empty.\n",
      "The non_emp_tuple is not empty.\n"
     ]
    }
   ],
   "source": [
    "emp_tuple = ()\n",
    "non_emp_tuple = (1,2,3,4,5)\n",
    "# check if tuples are empty\n",
    "if not emp_tuple:\n",
    "    print(\"The emp_tuple is empty.\")\n",
    "else:\n",
    "    print(\"The emp_tuple is not empty.\")\n",
    "    \n",
    "if not non_emp_tuple:\n",
    "    print(\"The non_emp_tuple is empty.\")\n",
    "else:\n",
    "    print(\"The non_emp_tuple is not empty.\")"
   ]
  },
  {
   "cell_type": "markdown",
   "id": "e34b37d8",
   "metadata": {},
   "source": [
    "## 15. Create a nested tuple."
   ]
  },
  {
   "cell_type": "code",
   "execution_count": 18,
   "id": "b6caaa9d",
   "metadata": {},
   "outputs": [
    {
     "name": "stdout",
     "output_type": "stream",
     "text": [
      "Nested tuple: ((1, 2, 3), ('a', 'b', 'c'), (True, False))\n"
     ]
    }
   ],
   "source": [
    "nested_tuple = ((1,2,3),('a','b','c'),(True,False))\n",
    "# print nested tuple\n",
    "print(\"Nested tuple:\", nested_tuple)"
   ]
  },
  {
   "cell_type": "markdown",
   "id": "1c7f4dd4",
   "metadata": {},
   "source": [
    "## 16. Access the first element of a nested tuple."
   ]
  },
  {
   "cell_type": "code",
   "execution_count": 19,
   "id": "1dd633c9",
   "metadata": {},
   "outputs": [
    {
     "name": "stdout",
     "output_type": "stream",
     "text": [
      "First element of nested Tuple: (1, 2, 3)\n"
     ]
    }
   ],
   "source": [
    "nested_tuple = ((1,2,3),('a','b','c'),(True,False))\n",
    "# Access first element of nested tuple\n",
    "first_element = nested_tuple[0]\n",
    "# print first element\n",
    "print(\"First element of nested Tuple:\", first_element)"
   ]
  },
  {
   "cell_type": "markdown",
   "id": "13dcdbb2",
   "metadata": {},
   "source": [
    "## 17. Create a tuple with a single element."
   ]
  },
  {
   "cell_type": "code",
   "execution_count": 20,
   "id": "df9d25aa",
   "metadata": {},
   "outputs": [
    {
     "name": "stdout",
     "output_type": "stream",
     "text": [
      "Single element tuple: (42,)\n"
     ]
    }
   ],
   "source": [
    "single_elem_tuple = (42,)\n",
    "# single element tuple\n",
    "print(\"Single element tuple:\", single_elem_tuple)"
   ]
  },
  {
   "cell_type": "markdown",
   "id": "f078e542",
   "metadata": {},
   "source": [
    "## 18. Compare two tuples."
   ]
  },
  {
   "cell_type": "code",
   "execution_count": 22,
   "id": "7edf1456",
   "metadata": {},
   "outputs": [
    {
     "name": "stdout",
     "output_type": "stream",
     "text": [
      "tuple1 == tuple2: False\n",
      "tuple1 != tuple2: True\n",
      "tuple1 < tuple2: True\n",
      "tuple1 <= tuple2: True\n",
      "tuple1 > tuple2: False\n",
      "tuple1 >= tuple2: False\n"
     ]
    }
   ],
   "source": [
    "tuple1 = (1,2,3)\n",
    "tuple2 = (1,2,4)\n",
    "# compare two tuples using comparison operators\n",
    "print(\"tuple1 == tuple2:\", tuple1 == tuple2)  # Equality check\n",
    "print(\"tuple1 != tuple2:\", tuple1 != tuple2) # InEquality check\n",
    "print(\"tuple1 < tuple2:\", tuple1 < tuple2) #Less than check\n",
    "print(\"tuple1 <= tuple2:\", tuple1 <= tuple2) #less than or equal to check\n",
    "print(\"tuple1 > tuple2:\", tuple1 > tuple2) # Greater than check\n",
    "print(\"tuple1 >= tuple2:\", tuple1 >= tuple2) # Greater than or equal to check"
   ]
  },
  {
   "cell_type": "markdown",
   "id": "b940a8b1",
   "metadata": {},
   "source": [
    "## 19. Delete a tuple."
   ]
  },
  {
   "cell_type": "code",
   "execution_count": 30,
   "id": "0390b09d",
   "metadata": {},
   "outputs": [
    {
     "name": "stdout",
     "output_type": "stream",
     "text": [
      "('tutorials', 'point', 2022, True)\n",
      "After deleting the tuple: <class 'tuple'>\n"
     ]
    }
   ],
   "source": [
    "tuple=('tutorials', 'point', 2022,True)\n",
    "print(tuple)\n",
    "del(tuple)\n",
    "print(\"After deleting the tuple:\",tuple)"
   ]
  },
  {
   "cell_type": "markdown",
   "id": "6447e348",
   "metadata": {},
   "source": [
    "## 20. Slice a tuple."
   ]
  },
  {
   "cell_type": "code",
   "execution_count": 31,
   "id": "62c7d2aa",
   "metadata": {},
   "outputs": [
    {
     "name": "stdout",
     "output_type": "stream",
     "text": [
      "Sliced tuple: (30, 40, 50, 60)\n"
     ]
    }
   ],
   "source": [
    "tuple = (10,20,30,40,50,60,70,80)\n",
    "# slice tuple to get a portion of it\n",
    "sliced_tuple = tuple[2:6]\n",
    "# print sliced tuple\n",
    "print(\"Sliced tuple:\",sliced_tuple)"
   ]
  },
  {
   "cell_type": "markdown",
   "id": "3be250cb",
   "metadata": {},
   "source": [
    "## 21. Find the maximum value in a tuple."
   ]
  },
  {
   "cell_type": "code",
   "execution_count": 33,
   "id": "f7d7170b",
   "metadata": {},
   "outputs": [
    {
     "name": "stdout",
     "output_type": "stream",
     "text": [
      "Maximum value: 100\n"
     ]
    }
   ],
   "source": [
    "tuple = (10,20,5,45,100,30)\n",
    "# maximum value in tuple using max() function\n",
    "max_val = max(tuple)\n",
    "# print max value\n",
    "print(\"Maximum value:\", max_val)"
   ]
  },
  {
   "cell_type": "markdown",
   "id": "2e8a7c47",
   "metadata": {},
   "source": [
    "## 22. Find the minimum value in a tuple."
   ]
  },
  {
   "cell_type": "code",
   "execution_count": 35,
   "id": "1658a89d",
   "metadata": {},
   "outputs": [
    {
     "name": "stdout",
     "output_type": "stream",
     "text": [
      "Minimum value: 5\n"
     ]
    }
   ],
   "source": [
    "tuple = (10,20,30,5,40,50,100)\n",
    "# Minimum value in  tuple using min() function\n",
    "min_val = min(tuple)\n",
    "# print min value\n",
    "print(\"Minimum value:\", min_val)"
   ]
  },
  {
   "cell_type": "markdown",
   "id": "f691a54e",
   "metadata": {},
   "source": [
    "## 23. Convert a string to a tuple of characters."
   ]
  },
  {
   "cell_type": "code",
   "execution_count": 49,
   "id": "e623e89b",
   "metadata": {},
   "outputs": [
    {
     "name": "stdout",
     "output_type": "stream",
     "text": [
      "The original string is:1,-5,4,6,7\n",
      "Tuple after getting conversion from string :(1, -5, 4, 6, 7)\n"
     ]
    }
   ],
   "source": [
    "test_str = \"1,-5,4,6,7\"\n",
    "# printing original string\n",
    "print(\"The original string is:\" + str(test_str))\n",
    "#convert string to tuple\n",
    "# using map() + tuple() +int + split()\n",
    "res = eval(test_str)\n",
    "\n",
    "print(\"Tuple after getting conversion from string :\" + str(res))"
   ]
  },
  {
   "cell_type": "markdown",
   "id": "55692123",
   "metadata": {},
   "source": [
    "## 24. Convert a tuple of characters to a string."
   ]
  },
  {
   "cell_type": "code",
   "execution_count": 51,
   "id": "21f61f40",
   "metadata": {},
   "outputs": [
    {
     "name": "stdout",
     "output_type": "stream",
     "text": [
      "String from tuple: Data Science\n"
     ]
    }
   ],
   "source": [
    "tuple_characters = ('D','a','t','a',' ','S','c','i','e','n','c','e')\n",
    "# convert tupe of characters to a string using join() method\n",
    "string_tuple = ''.join(tuple_characters)\n",
    "# print result\n",
    "print(\"String from tuple:\", string_tuple)"
   ]
  },
  {
   "cell_type": "markdown",
   "id": "a6376fae",
   "metadata": {},
   "source": [
    "## 25. Create a tuple from multiple data types."
   ]
  },
  {
   "cell_type": "code",
   "execution_count": 52,
   "id": "e5aa147d",
   "metadata": {},
   "outputs": [
    {
     "name": "stdout",
     "output_type": "stream",
     "text": [
      "(1, 'Hello', '4.56', True)\n"
     ]
    }
   ],
   "source": [
    "mixed_tuple = (1, \"Hello\", \"4.56\", True)\n",
    "\n",
    "print(mixed_tuple)"
   ]
  },
  {
   "cell_type": "markdown",
   "id": "8cba1907",
   "metadata": {},
   "source": [
    "## 26. Check if two tuples are identical."
   ]
  },
  {
   "cell_type": "code",
   "execution_count": 54,
   "id": "ed315465",
   "metadata": {},
   "outputs": [
    {
     "name": "stdout",
     "output_type": "stream",
     "text": [
      "tuple1 and tuple2 are identical: True\n",
      "tuple1 and tuple3 are identical: False\n"
     ]
    }
   ],
   "source": [
    "tuple1 = (1,2,3)\n",
    "tuple2 = (1,2,3)\n",
    "tuple3 = (4,5,6)\n",
    "# compare tuples for identity using equality operator\n",
    "are_identical1 = tuple1 == tuple2\n",
    "are_identical2 = tuple1 == tuple3\n",
    "# print results\n",
    "print(\"tuple1 and tuple2 are identical:\", are_identical1)\n",
    "print(\"tuple1 and tuple3 are identical:\", are_identical2)"
   ]
  },
  {
   "cell_type": "markdown",
   "id": "3baac9f9",
   "metadata": {},
   "source": [
    "## 27. Sort the elements of a tuple."
   ]
  },
  {
   "cell_type": "code",
   "execution_count": 61,
   "id": "e7ac850e",
   "metadata": {},
   "outputs": [
    {
     "name": "stdout",
     "output_type": "stream",
     "text": [
      "[(9, 0), (3, 7), (5, 10), (2, 12)]\n"
     ]
    }
   ],
   "source": [
    "sort_tuples = [(3, 7), (2, 12), (5, 10), (9, 0)]\n",
    "sort_tuples.sort(key=lambda x: x[1])\n",
    "print(sort_tuples)"
   ]
  },
  {
   "cell_type": "markdown",
   "id": "544dcd29",
   "metadata": {},
   "source": [
    "## 28. Convert a tuple of integers to a tuple of strings."
   ]
  },
  {
   "cell_type": "code",
   "execution_count": 2,
   "id": "816d29d3",
   "metadata": {},
   "outputs": [
    {
     "name": "stdout",
     "output_type": "stream",
     "text": [
      "Tuple of strings: ('10', '20', '30', '40', '50')\n"
     ]
    }
   ],
   "source": [
    "tuple_of_integers = (10, 20, 30, 40, 50)\n",
    "\n",
    "# Step 2: Convert the tuple of strings to a tuple of integers using a list comprehension\n",
    "tuple_of_strings = tuple(str(item) for item in tuple_of_integers)\n",
    "\n",
    "# Step 3: Print the tuple of integers\n",
    "print(\"Tuple of strings:\", tuple_of_strings)"
   ]
  },
  {
   "cell_type": "markdown",
   "id": "39f5adee",
   "metadata": {},
   "source": [
    "## 29. Convert a tuple of strings to a tuple of integers."
   ]
  },
  {
   "cell_type": "code",
   "execution_count": 1,
   "id": "c52d59c9",
   "metadata": {},
   "outputs": [
    {
     "name": "stdout",
     "output_type": "stream",
     "text": [
      "Tuple of integers: (10, 20, 30, 40, 50)\n"
     ]
    }
   ],
   "source": [
    "tuple_of_strings = ('10', '20', '30', '40', '50')\n",
    "\n",
    "# Step 2: Convert the tuple of strings to a tuple of integers using a list comprehension\n",
    "tuple_of_integers = tuple(int(item) for item in tuple_of_strings)\n",
    "\n",
    "# Step 3: Print the tuple of integers\n",
    "print(\"Tuple of integers:\", tuple_of_integers)"
   ]
  },
  {
   "cell_type": "markdown",
   "id": "c9e9d730",
   "metadata": {},
   "source": [
    "## 30. Merge two tuples."
   ]
  },
  {
   "cell_type": "code",
   "execution_count": 3,
   "id": "53cc2ab7",
   "metadata": {},
   "outputs": [
    {
     "name": "stdout",
     "output_type": "stream",
     "text": [
      "Merged tuple: (1, 2, 3, 4, 5, 6)\n"
     ]
    }
   ],
   "source": [
    "# create two tuples\n",
    "tuple1 = (1,2,3)\n",
    "tuple2 = (4,5,6)\n",
    "# merged two tuples using + operator\n",
    "merged_tuple = tuple1+ tuple2\n",
    "# Print merged result\n",
    "print(\"Merged tuple:\",merged_tuple)"
   ]
  },
  {
   "cell_type": "markdown",
   "id": "3506b00b",
   "metadata": {},
   "source": [
    "## 31. Flatten a nested tuple."
   ]
  },
  {
   "cell_type": "code",
   "execution_count": 5,
   "id": "1b86e2bc",
   "metadata": {},
   "outputs": [
    {
     "name": "stdout",
     "output_type": "stream",
     "text": [
      "Flattened tuple: (1, 2, 3, 4, 5, 6, 7, 8)\n"
     ]
    }
   ],
   "source": [
    "def flatten_tuple(nested_tuple):\n",
    "    flattened = []\n",
    "    for item in nested_tuple:\n",
    "        if isinstance(item, tuple):\n",
    "            flattened.extend(flatten_tuple(item))\n",
    "        else:\n",
    "            flattened.append(item)\n",
    "    return flattened\n",
    "# create nested tuple\n",
    "nested_tuple = ((1,2),(3,4,5),(6,(7,8)))\n",
    "# Flattened nestle tuple\n",
    "flattened_tuple = tuple(flatten_tuple(nested_tuple))\n",
    "# print flattened tuple\n",
    "print(\"Flattened tuple:\", flattened_tuple)"
   ]
  },
  {
   "cell_type": "markdown",
   "id": "439626c0",
   "metadata": {},
   "source": [
    "## 32. Create a tuple of the first 5 prime numbers."
   ]
  },
  {
   "cell_type": "code",
   "execution_count": 8,
   "id": "a1eadf84",
   "metadata": {},
   "outputs": [
    {
     "name": "stdout",
     "output_type": "stream",
     "text": [
      "Tuple of first 5 prime numbers: (5, 7, 9, 11, 13)\n"
     ]
    }
   ],
   "source": [
    "def is_prime(num):\n",
    "    if num <= 1:\n",
    "        return False\n",
    "    for i in range(2, int(num ** 0.5) + 1):\n",
    "        if num % i == 0:\n",
    "            return False\n",
    "        return True\n",
    "    # create first 5 prime number\n",
    "prime_numberlist = [num for num in range(2,100) if is_prime(num)][:5]\n",
    "    # convert list into tuple\n",
    "prime_numbertuple = tuple(prime_numberlist)\n",
    "    # print tuple of prime numbers\n",
    "print(\"Tuple of first 5 prime numbers:\", prime_numbertuple)\n",
    "    "
   ]
  },
  {
   "cell_type": "markdown",
   "id": "dc01dc6b",
   "metadata": {},
   "source": [
    "## 33. Check if a tuple is a palindrome."
   ]
  },
  {
   "cell_type": "code",
   "execution_count": 11,
   "id": "3aaeba55",
   "metadata": {},
   "outputs": [
    {
     "name": "stdout",
     "output_type": "stream",
     "text": [
      "Palindrome tuple is a palindrome: True\n",
      "non Palindrome tuple is a palindrome: False\n"
     ]
    }
   ],
   "source": [
    "def is_palindrome(tup):\n",
    "    return tup == tup[::-1]\n",
    "# create tuple for test\n",
    "palindrome_tuple = (1,2,3,2,1)\n",
    "non_palindrome_tuple = (1,2,3,4,5,6)\n",
    "# check tuples are palindrome\n",
    "is_palindrome1 = is_palindrome(palindrome_tuple)\n",
    "is_palindrome2 = is_palindrome(non_palindrome_tuple)\n",
    "\n",
    "#print result\n",
    "print(\"Palindrome tuple is a palindrome:\", is_palindrome1)\n",
    "print(\"non Palindrome tuple is a palindrome:\", is_palindrome2)"
   ]
  },
  {
   "cell_type": "markdown",
   "id": "1951fcfd",
   "metadata": {},
   "source": [
    "### 34. Create a tuple of squares of numbers from 1 to 5."
   ]
  },
  {
   "cell_type": "code",
   "execution_count": 12,
   "id": "96f597dd",
   "metadata": {},
   "outputs": [
    {
     "name": "stdout",
     "output_type": "stream",
     "text": [
      "Square tuple: (1, 4, 9, 16, 25)\n"
     ]
    }
   ],
   "source": [
    "square_tuple = tuple(x**2 for x in range(1,6))\n",
    "\n",
    "print(\"Square tuple:\",square_tuple)"
   ]
  },
  {
   "cell_type": "markdown",
   "id": "f088babe",
   "metadata": {},
   "source": [
    "## 35. Filter out all even numbers from a tuple."
   ]
  },
  {
   "cell_type": "code",
   "execution_count": 14,
   "id": "5a175bd1",
   "metadata": {},
   "outputs": [
    {
     "name": "stdout",
     "output_type": "stream",
     "text": [
      "Filtered tuple: (1, 3, 5, 7, 9)\n"
     ]
    }
   ],
   "source": [
    "orig_tuple = (1,2,3,4,5,6,7,8,9,10)\n",
    "# filter out even numbers in last comparison\n",
    "filtered_tuple = tuple(num for num in orig_tuple if num%2 != 0)\n",
    "# print filtered tuple\n",
    "print(\"Filtered tuple:\", filtered_tuple)"
   ]
  },
  {
   "cell_type": "markdown",
   "id": "51290ca2",
   "metadata": {},
   "source": [
    "## 36. Multiply all elements in a tuple by 2."
   ]
  },
  {
   "cell_type": "code",
   "execution_count": 15,
   "id": "59456116",
   "metadata": {},
   "outputs": [
    {
     "name": "stdout",
     "output_type": "stream",
     "text": [
      "Doubled tuple is : (2, 4, 6, 8, 10)\n"
     ]
    }
   ],
   "source": [
    "orig_tuple = (1,2,3,4,5)\n",
    "# Multiply all elements by 2 using list comprehension to tuple\n",
    "doubled_tuple = tuple(num * 2 for num in orig_tuple)\n",
    "# print Doubled tuple\n",
    "print(\"Doubled tuple is :\", doubled_tuple)"
   ]
  },
  {
   "cell_type": "markdown",
   "id": "88bddb7b",
   "metadata": {},
   "source": [
    "## 37. Create a tuple of random numbers."
   ]
  },
  {
   "cell_type": "code",
   "execution_count": 20,
   "id": "bd73aee1",
   "metadata": {},
   "outputs": [
    {
     "name": "stdout",
     "output_type": "stream",
     "text": [
      "Random tuple: (36, 33, 27, 60, 53, 10, 12, 85, 61, 94)\n"
     ]
    }
   ],
   "source": [
    "import random\n",
    "# create a tuple of random numbers using list comprehension\n",
    "random_tuple = tuple(random.randint(1, 100) for _ in range(10))\n",
    "# print tuple of random numbers\n",
    "print(\"Random tuple:\", random_tuple)"
   ]
  },
  {
   "cell_type": "markdown",
   "id": "3e8d343d",
   "metadata": {},
   "source": [
    "## 38. Check if a tuple is sorted."
   ]
  },
  {
   "cell_type": "code",
   "execution_count": 22,
   "id": "218639b2",
   "metadata": {},
   "outputs": [
    {
     "name": "stdout",
     "output_type": "stream",
     "text": [
      "Sort_tuple is sorted: True\n",
      "unsort_tuple is sorted: False\n"
     ]
    }
   ],
   "source": [
    "def is_sorted(tup):\n",
    "    for i in range(len(tup) - 1):\n",
    "        if tup[i] > tup[i+1]:\n",
    "            return False\n",
    "    return True\n",
    "# create tuples for test\n",
    "sort_tuple = (1,2,3,4,5)\n",
    "unsort_tuple = (5,3,1,4,2)\n",
    "# check if tuples are sorted\n",
    "is_sort1 = is_sorted(sort_tuple)\n",
    "is_sort2 = is_sorted(unsort_tuple)\n",
    "# print results\n",
    "print(\"Sort_tuple is sorted:\", is_sort1)\n",
    "print(\"unsort_tuple is sorted:\", is_sort2)"
   ]
  },
  {
   "cell_type": "markdown",
   "id": "84f15b5d",
   "metadata": {},
   "source": [
    "## 39. Rotate a tuple to the left by n positions."
   ]
  },
  {
   "cell_type": "code",
   "execution_count": 25,
   "id": "046a7296",
   "metadata": {},
   "outputs": [
    {
     "name": "stdout",
     "output_type": "stream",
     "text": [
      "(5, 6, 7, 8, 1, 2, 3, 4)\n"
     ]
    }
   ],
   "source": [
    "def rotate_tuple_left(tup, n):\n",
    "    # ensure n in range of tuple length\n",
    "    n = n % len(tup)  \n",
    "    rotated_tuple = tup[n:] + tup[:n]  \n",
    "    return rotated_tuple\n",
    "\n",
    "\n",
    "my_tuple = (1, 2, 3, 4, 5, 6, 7, 8)\n",
    "n_positions = 4\n",
    "result = rotate_tuple_left(my_tuple, n_positions)\n",
    "print(result)"
   ]
  },
  {
   "cell_type": "markdown",
   "id": "b6765e39",
   "metadata": {},
   "source": [
    "## 40. Rotate a tuple to the right by n positions."
   ]
  },
  {
   "cell_type": "code",
   "execution_count": 28,
   "id": "39d13863",
   "metadata": {},
   "outputs": [
    {
     "name": "stdout",
     "output_type": "stream",
     "text": [
      "(5, 6, 7, 8, 1, 2, 3, 4)\n"
     ]
    }
   ],
   "source": [
    "def rotate_righttuple(tup,n):\n",
    "    n = n% len(tup)\n",
    "    rotate_tuple = tup[-n:] + tup[:-n]\n",
    "    return rotate_tuple\n",
    "my_tuple = (1,2,3,4,5,6,7,8)\n",
    "nposition = 4\n",
    "result = rotate_righttuple(my_tuple, nposition)\n",
    "print(result)"
   ]
  },
  {
   "cell_type": "markdown",
   "id": "b3cc99cf",
   "metadata": {},
   "source": [
    "### 41. Create a tuple of the first 5 Fibonacci numbers."
   ]
  },
  {
   "cell_type": "code",
   "execution_count": 31,
   "id": "76385f47",
   "metadata": {},
   "outputs": [
    {
     "name": "stdout",
     "output_type": "stream",
     "text": [
      "(0, 1, 1, 2, 3, 5, 8, 13, 21, 34)\n"
     ]
    }
   ],
   "source": [
    "def gen_fibonacci(n):\n",
    "    fibonacci = [0, 1]\n",
    "    while len(fibonacci) < n:\n",
    "        next_num = fibonacci[-1] + fibonacci[-2]\n",
    "        fibonacci.append(next_num)\n",
    "    return tuple(fibonacci)\n",
    "\n",
    "fibonacci_tuple = gen_fibonacci(10)\n",
    "\n",
    "print(fibonacci_tuple)"
   ]
  },
  {
   "cell_type": "markdown",
   "id": "e75ecc8d",
   "metadata": {},
   "source": [
    "## 42. Create a tuple from user input."
   ]
  },
  {
   "cell_type": "code",
   "execution_count": 32,
   "id": "90583791",
   "metadata": {},
   "outputs": [
    {
     "name": "stdout",
     "output_type": "stream",
     "text": [
      "Enter elements seperated by commas:D,a,t,a,,e,l,e,m,e,n,t,s\n",
      "User input tuple: ('D', 'a', 't', 'a', '', 'e', 'l', 'e', 'm', 'e', 'n', 't', 's')\n"
     ]
    }
   ],
   "source": [
    "input_str = input(\"Enter elements seperated by commas:\")\n",
    "# Split input string into list of strings\n",
    "input_list = input_str.split(',')\n",
    "# convert list of strings to tuple\n",
    "user_tuple = tuple(input_list)\n",
    "# print results\n",
    "print(\"User input tuple:\", user_tuple)"
   ]
  },
  {
   "cell_type": "markdown",
   "id": "82d6e6fe",
   "metadata": {},
   "source": [
    "## 43. Swap two elements in a tuple."
   ]
  },
  {
   "cell_type": "code",
   "execution_count": 35,
   "id": "ce9d500c",
   "metadata": {},
   "outputs": [
    {
     "name": "stdout",
     "output_type": "stream",
     "text": [
      "swapped tuples: (1, 5, 3, 4, 2, 6, 7, 8)\n"
     ]
    }
   ],
   "source": [
    "tuples = (1, 2, 3, 4, 5, 6, 7, 8)\n",
    "\n",
    "index1 = 1\n",
    "index2 = 4\n",
    "\n",
    "swap_tuple = tuple(\n",
    "     tuples[i] if i not in (index1, index2)\n",
    "else\n",
    "     tuples[index2] if i == index1\n",
    "else\n",
    "     tuples[index1]\n",
    "     for i in range(len(tuples))\n",
    ")\n",
    "\n",
    "print(\"swapped tuples:\", swap_tuple)"
   ]
  },
  {
   "cell_type": "markdown",
   "id": "6a717290",
   "metadata": {},
   "source": [
    "## 44. Reverse the elements of a tuple."
   ]
  },
  {
   "cell_type": "code",
   "execution_count": 37,
   "id": "7cb31ff9",
   "metadata": {},
   "outputs": [
    {
     "name": "stdout",
     "output_type": "stream",
     "text": [
      "Reversed Tuple: (8, 7, 6, 5, 4, 3, 2, 1)\n"
     ]
    }
   ],
   "source": [
    "my_tuples = (1, 2, 3, 4, 5, 6, 7, 8)\n",
    "\n",
    "rev_tuple = my_tuple[::-1]\n",
    "\n",
    "print(\"Reversed Tuple:\", rev_tuple)"
   ]
  },
  {
   "cell_type": "markdown",
   "id": "dc6f2cd0",
   "metadata": {},
   "source": [
    "## 45. Create a tuple of the first n powers of 2. "
   ]
  },
  {
   "cell_type": "code",
   "execution_count": 38,
   "id": "8bd99a44",
   "metadata": {},
   "outputs": [
    {
     "name": "stdout",
     "output_type": "stream",
     "text": [
      "Tuple of first 10 power of 2: (1, 2, 4, 8, 16, 32, 64, 128, 256, 512)\n"
     ]
    }
   ],
   "source": [
    "n = 10\n",
    "\n",
    "power_2tuple = tuple(2 ** i for i in range(n))\n",
    "\n",
    "print(\"Tuple of first\", n, \"power of 2:\", power_2tuple)"
   ]
  },
  {
   "cell_type": "markdown",
   "id": "27ef184c",
   "metadata": {},
   "source": [
    "## 46. Find the longest string in a tuple of strings."
   ]
  },
  {
   "cell_type": "code",
   "execution_count": 39,
   "id": "5252c477",
   "metadata": {},
   "outputs": [
    {
     "name": "stdout",
     "output_type": "stream",
     "text": [
      "Longest string is: Strawberry\n"
     ]
    }
   ],
   "source": [
    "str_tuple = (\"Mango\", \"Apple\", \"Orange\", \"Strawberry\", \"Kiwi\")\n",
    "# Find lomgest string in tuple\n",
    "long_str = max(str_tuple, key=len)\n",
    "# print longest string\n",
    "print(\"Longest string is:\", long_str)"
   ]
  },
  {
   "cell_type": "markdown",
   "id": "454f3c11",
   "metadata": {},
   "source": [
    "## 47. Find the shortest string in a tuple of strings."
   ]
  },
  {
   "cell_type": "code",
   "execution_count": 40,
   "id": "9c1d9168",
   "metadata": {},
   "outputs": [
    {
     "name": "stdout",
     "output_type": "stream",
     "text": [
      "Shortest string is: Kiwi\n"
     ]
    }
   ],
   "source": [
    "str_tuple = (\"Mango\", \"Apple\", \"Orange\", \"Strawberry\", \"Kiwi\")\n",
    "# find shortest string in tuple\n",
    "short_str = min(str_tuple, key=len)\n",
    "# print shortest string\n",
    "print(\"Shortest string is:\", short_str)"
   ]
  },
  {
   "cell_type": "markdown",
   "id": "f03bf976",
   "metadata": {},
   "source": [
    "### 48. Create a tuple of the first n triangular numbers."
   ]
  },
  {
   "cell_type": "code",
   "execution_count": 42,
   "id": "5140d70f",
   "metadata": {},
   "outputs": [
    {
     "name": "stdout",
     "output_type": "stream",
     "text": [
      "Tuple of first 10 Triangular numbers: (1, 3, 6, 10, 15, 21, 28, 36, 45, 55)\n"
     ]
    }
   ],
   "source": [
    "n = 10\n",
    "# create tuple of first n triangular numbers using list\n",
    "triangular_num_tuple = tuple((i * (i + 1)) // 2 for i in range(1, n+1))\n",
    "# print tuple of triangular numbers\n",
    "print(\"Tuple of first\", n, \"Triangular numbers:\", triangular_num_tuple)"
   ]
  },
  {
   "cell_type": "markdown",
   "id": "b44802ec",
   "metadata": {},
   "source": [
    "## 49. Check if a tuple contains another tuple as a subsequence."
   ]
  },
  {
   "cell_type": "code",
   "execution_count": 45,
   "id": "0340a71f",
   "metadata": {},
   "outputs": [
    {
     "name": "stdout",
     "output_type": "stream",
     "text": [
      "Main tuple contains subsequence tuple: True\n"
     ]
    }
   ],
   "source": [
    "def contains_subseq(main_tuple, sub_tuple):\n",
    "    sub_len = len(sub_tuple)\n",
    "    for i in range(len(main_tuple) - sub_len + 1):\n",
    "        if main_tuple[i:i+sub_len] == sub_tuple:\n",
    "            return True\n",
    "    return False\n",
    "    \n",
    "main_tuple = (1,2,3,4,5,6,7,8,9)\n",
    "    \n",
    "sub_tuple = (3,4,5)\n",
    "    # check main tuple contains subsequent tuple\n",
    "contains_subseq = contains_subseq(main_tuple, sub_tuple)\n",
    "    \n",
    "print(\"Main tuple contains subsequence tuple:\", contains_subseq)"
   ]
  },
  {
   "cell_type": "markdown",
   "id": "198bb2e2",
   "metadata": {},
   "source": [
    "### 50. Create a tuple of alternating 1s and 0s of length `n`."
   ]
  },
  {
   "cell_type": "code",
   "execution_count": 47,
   "id": "f421f76d",
   "metadata": {},
   "outputs": [
    {
     "name": "stdout",
     "output_type": "stream",
     "text": [
      "Tuple of alternating 1s and 0s: (0, 1, 0, 1, 0, 1, 0, 1, 0, 1, 0, 1, 0, 1, 0, 1, 0, 1, 0, 1)\n"
     ]
    }
   ],
   "source": [
    "n = 20\n",
    " \n",
    "alternate_tuple = tuple(i % 2 for i in range(n))\n",
    "\n",
    "print(\"Tuple of alternating 1s and 0s:\", alternate_tuple)"
   ]
  },
  {
   "cell_type": "markdown",
   "id": "4ccb1511",
   "metadata": {},
   "source": [
    "# Set based problems:"
   ]
  },
  {
   "cell_type": "markdown",
   "id": "836d27ce",
   "metadata": {},
   "source": [
    "## 1. Create a set with integers from 1 to 5"
   ]
  },
  {
   "cell_type": "code",
   "execution_count": 48,
   "id": "547df3cf",
   "metadata": {},
   "outputs": [
    {
     "name": "stdout",
     "output_type": "stream",
     "text": [
      "{1, 2, 3, 4, 5}\n"
     ]
    }
   ],
   "source": [
    "my_set = set()\n",
    "# Add integers from 1 to 5\n",
    "my_set.add(1)\n",
    "my_set.add(2)\n",
    "my_set.add(3)\n",
    "my_set.add(4)\n",
    "my_set.add(5)\n",
    "\n",
    "print(my_set)"
   ]
  },
  {
   "cell_type": "markdown",
   "id": "e6fa3366",
   "metadata": {},
   "source": [
    "## 2. Add an element to a set"
   ]
  },
  {
   "cell_type": "code",
   "execution_count": 53,
   "id": "a622f703",
   "metadata": {},
   "outputs": [
    {
     "name": "stdout",
     "output_type": "stream",
     "text": [
      "Original set: {1, 2, 3, 4, 5, 6, 7, 8}\n",
      "Set after adding element: {1, 2, 3, 4, 5, 6, 7, 8, 9}\n"
     ]
    }
   ],
   "source": [
    "my_set = {1,2,3,4,5,6,7,8}\n",
    "# Display original set\n",
    "print(\"Original set:\", my_set)\n",
    "# Add element to set\n",
    "elem_add = 9\n",
    "my_set.add(elem_add)\n",
    "# Display modified element\n",
    "print(\"Set after adding element:\", my_set)"
   ]
  },
  {
   "cell_type": "markdown",
   "id": "6a3907cb",
   "metadata": {},
   "source": [
    "## 3. Remove an element from a set."
   ]
  },
  {
   "cell_type": "code",
   "execution_count": 54,
   "id": "d3ab86b7",
   "metadata": {},
   "outputs": [
    {
     "name": "stdout",
     "output_type": "stream",
     "text": [
      "Original set: {1, 2, 3, 4, 5, 6, 7, 8}\n",
      "Set after removing 3 : {1, 2, 4, 5, 6, 7, 8}\n"
     ]
    }
   ],
   "source": [
    "my_set = {1,2,3,4,5,6,7,8}\n",
    "# print original set\n",
    "print(\"Original set:\", my_set)\n",
    "# element to remove\n",
    "elem_rem = 3\n",
    "\n",
    "my_set.remove(elem_rem)\n",
    "\n",
    "print(\"Set after removing\", elem_rem, \":\", my_set)"
   ]
  },
  {
   "cell_type": "markdown",
   "id": "55983570",
   "metadata": {},
   "source": [
    "## 4. Check if an element exists in a set."
   ]
  },
  {
   "cell_type": "code",
   "execution_count": 57,
   "id": "78b1eb2b",
   "metadata": {},
   "outputs": [
    {
     "name": "stdout",
     "output_type": "stream",
     "text": [
      "Enter element to check:5\n",
      "5 exists in set.\n"
     ]
    }
   ],
   "source": [
    "my_set = {1, 3, 5, 7, 9}\n",
    "\n",
    "elem_check = int(input(\"Enter element to check:\"))\n",
    "\n",
    "if elem_check in my_set:\n",
    "    \n",
    "    print(f\"{elem_check} exists in set.\")\n",
    "else:\n",
    "    print(f\"{elem_check} does not exist in set.\")        "
   ]
  },
  {
   "cell_type": "markdown",
   "id": "3b2cf160",
   "metadata": {},
   "source": [
    "### 5. Find the length of a set without using the len() function"
   ]
  },
  {
   "cell_type": "code",
   "execution_count": 59,
   "id": "85d03661",
   "metadata": {},
   "outputs": [
    {
     "name": "stdout",
     "output_type": "stream",
     "text": [
      "Length of the set: 8\n"
     ]
    }
   ],
   "source": [
    "my_set = {1,2,3,4,5,6,7,8}\n",
    "# Initialize a variable to count elements in a set\n",
    "count = 0\n",
    "# Iterate through each element in set\n",
    "for _ in my_set:\n",
    "  # increase count 1 for each element  \n",
    "    count += 1\n",
    "    # print count which is length of set\n",
    "print(\"Length of the set:\", count)    "
   ]
  },
  {
   "cell_type": "markdown",
   "id": "00c46cdd",
   "metadata": {},
   "source": [
    "## 6. Clear all elements from a set."
   ]
  },
  {
   "cell_type": "code",
   "execution_count": 60,
   "id": "2ef8e971",
   "metadata": {},
   "outputs": [
    {
     "name": "stdout",
     "output_type": "stream",
     "text": [
      "Original set: {1, 2, 3, 4, 5, 6, 7, 8}\n",
      "set after clearing: set()\n"
     ]
    }
   ],
   "source": [
    "my_set = {1,2,3,4,5,6,7,8}\n",
    "# Display original set\n",
    "print(\"Original set:\", my_set)\n",
    "# clear all elements from set using clear() method\n",
    "my_set.clear()\n",
    "\n",
    "print(\"set after clearing:\", my_set)"
   ]
  },
  {
   "cell_type": "markdown",
   "id": "67dccfe1",
   "metadata": {},
   "source": [
    "## 7. Create a set of even numbers from 1 to 10"
   ]
  },
  {
   "cell_type": "code",
   "execution_count": 61,
   "id": "38623c34",
   "metadata": {},
   "outputs": [
    {
     "name": "stdout",
     "output_type": "stream",
     "text": [
      "{2, 4, 6, 8, 10}\n"
     ]
    }
   ],
   "source": [
    "evennumber_set = set()\n",
    "# iterate numbers from 1 to 10\n",
    "for num in range(1, 11):\n",
    "    # check if number is even\n",
    "    if num % 2 == 0:\n",
    "      # Add even number to set  \n",
    "        evennumber_set.add(num)\n",
    "    # print set of even numbers    \n",
    "print(evennumber_set)        "
   ]
  },
  {
   "cell_type": "markdown",
   "id": "8eea978c",
   "metadata": {},
   "source": [
    "## 8. Create a set of odd numbers from 1 to 10"
   ]
  },
  {
   "cell_type": "code",
   "execution_count": 62,
   "id": "f0f734cd",
   "metadata": {},
   "outputs": [
    {
     "name": "stdout",
     "output_type": "stream",
     "text": [
      "{1, 3, 5, 7, 9}\n"
     ]
    }
   ],
   "source": [
    "oddnumber_set = set()\n",
    "# iterate numbers from 1 to 10\n",
    "for num in range(1, 11):\n",
    "  # check  number is odd  \n",
    "    if num % 2 !=0:\n",
    "        # if number is odd add it to the set\n",
    "        oddnumber_set.add(num)\n",
    "        # print final set of odd numbers\n",
    "print(oddnumber_set)        "
   ]
  },
  {
   "cell_type": "markdown",
   "id": "85ca4ab4",
   "metadata": {},
   "source": [
    "## 9. Find the union of two sets"
   ]
  },
  {
   "cell_type": "code",
   "execution_count": 64,
   "id": "58f4f6d4",
   "metadata": {},
   "outputs": [
    {
     "name": "stdout",
     "output_type": "stream",
     "text": [
      "set1: {1, 2, 3, 4, 5}\n",
      "set2: {4, 5, 6, 7, 8}\n",
      "Union of set 1 and set 2: {1, 2, 3, 4, 5, 6, 7, 8}\n"
     ]
    }
   ],
   "source": [
    "set1 = {1, 2, 3, 4, 5}\n",
    "set2 = {4, 5, 6, 7, 8}\n",
    "\n",
    "union_res = set1.union(set2)\n",
    "\n",
    "print(\"set1:\",set1)\n",
    "print(\"set2:\",set2)\n",
    "print(\"Union of set 1 and set 2:\", union_res)"
   ]
  },
  {
   "cell_type": "markdown",
   "id": "ebabc8fe",
   "metadata": {},
   "source": [
    "## 10. Find the intersection of two sets"
   ]
  },
  {
   "cell_type": "code",
   "execution_count": 65,
   "id": "386d1620",
   "metadata": {},
   "outputs": [
    {
     "name": "stdout",
     "output_type": "stream",
     "text": [
      "set 1: {1, 2, 3, 4, 5}\n",
      "set 2: {4, 5, 6, 7, 8}\n",
      "Intersection result is: {4, 5}\n"
     ]
    }
   ],
   "source": [
    "set1 = {1, 2, 3, 4, 5}\n",
    "set2 = {4, 5, 6, 7, 8}\n",
    "# intersection using intersection() method\n",
    "intersection_res = set1.intersection(set2)\n",
    "# print original sets and intersection\n",
    "print(\"set 1:\", set1)\n",
    "print(\"set 2:\", set2)\n",
    "# print intersection results\n",
    "print(\"Intersection result is:\", intersection_res)"
   ]
  },
  {
   "cell_type": "markdown",
   "id": "ad54539c",
   "metadata": {},
   "source": [
    "## 11. Find the difference between two sets."
   ]
  },
  {
   "cell_type": "code",
   "execution_count": 66,
   "id": "057b8293",
   "metadata": {},
   "outputs": [
    {
     "name": "stdout",
     "output_type": "stream",
     "text": [
      "set 1: {1, 2, 3, 4, 5}\n",
      "set 2: {4, 5, 6, 7, 8}\n",
      "Difference: {1, 2, 3}\n"
     ]
    }
   ],
   "source": [
    "set1 = {1, 2, 3, 4, 5}\n",
    "set2 = {4, 5, 6, 7, 8}\n",
    "\n",
    "diff_set = set1.difference(set2)\n",
    "\n",
    "print(\"set 1:\", set1)\n",
    "print(\"set 2:\", set2)\n",
    "print(\"Difference:\", diff_set)"
   ]
  },
  {
   "cell_type": "markdown",
   "id": "69e6aebb",
   "metadata": {},
   "source": [
    "## 12. Check if a set is a subset of another set."
   ]
  },
  {
   "cell_type": "code",
   "execution_count": 68,
   "id": "5af2c730",
   "metadata": {},
   "outputs": [
    {
     "name": "stdout",
     "output_type": "stream",
     "text": [
      "Is sub1 is a subset of set2: True\n"
     ]
    }
   ],
   "source": [
    "set1 = {1, 2, 3, 4}\n",
    "set2 = {1, 2, 3, 4, 5}\n",
    "\n",
    "is_subset = set1.issubset(set2)\n",
    "\n",
    "print(\"Is sub1 is a subset of set2:\", is_subset)"
   ]
  },
  {
   "cell_type": "markdown",
   "id": "4bdddb7c",
   "metadata": {},
   "source": [
    "## 13. Check if a set is a superset of another set."
   ]
  },
  {
   "cell_type": "code",
   "execution_count": 70,
   "id": "08a4b721",
   "metadata": {},
   "outputs": [
    {
     "name": "stdout",
     "output_type": "stream",
     "text": [
      "set1 is a superset of set2.\n"
     ]
    }
   ],
   "source": [
    "set1 = {1, 2, 3, 4, 5, 6, 7, 8}\n",
    "set2 = {3, 4, 5, 6}\n",
    "\n",
    "is_superset = set1.issuperset(set2)\n",
    "\n",
    "if is_superset:\n",
    "    print(\"set1 is a superset of set2.\")\n",
    "else:\n",
    "    print(\"set1 is not a superset of set2.\")"
   ]
  },
  {
   "cell_type": "markdown",
   "id": "7cc3f501",
   "metadata": {},
   "source": [
    "## 14. Create a set from a list"
   ]
  },
  {
   "cell_type": "code",
   "execution_count": 82,
   "id": "81bd686e",
   "metadata": {},
   "outputs": [
    {
     "name": "stdout",
     "output_type": "stream",
     "text": [
      "Original List: [2, 4, 1, 4, 3, 2, 5, 6]\n",
      "set from List: {1, 2, 3, 4, 5, 6}\n"
     ]
    }
   ],
   "source": [
    "my_lst = [2, 4, 1, 4, 3, 2, 5, 6]\n",
    "#use set() constructor to convert list into a set\n",
    "my_set = set(my_lst)\n",
    "# print original list and resulting set\n",
    "print(\"Original List:\", my_lst)\n",
    "print(\"set from List:\", my_set)"
   ]
  },
  {
   "cell_type": "markdown",
   "id": "933cc3cc",
   "metadata": {},
   "source": [
    "## 15. Convert a set to a list."
   ]
  },
  {
   "cell_type": "code",
   "execution_count": 73,
   "id": "8c646f33",
   "metadata": {},
   "outputs": [
    {
     "name": "stdout",
     "output_type": "stream",
     "text": [
      "Original set: {1, 2, 3, 5, 6}\n",
      "Converted List: [1, 2, 3, 5, 6]\n"
     ]
    }
   ],
   "source": [
    "my_set = {3, 1, 5, 1, 2, 6, 2}\n",
    "# convert set to list\n",
    "my_lst = list(my_set)\n",
    "# print original set to converted list\n",
    "print(\"Original set:\", my_set)\n",
    "print(\"Converted List:\", my_lst)"
   ]
  },
  {
   "cell_type": "markdown",
   "id": "2bfc7928",
   "metadata": {},
   "source": [
    "## 16. Remove a random element from a set."
   ]
  },
  {
   "cell_type": "code",
   "execution_count": 78,
   "id": "3e2c69b4",
   "metadata": {},
   "outputs": [
    {
     "name": "stdout",
     "output_type": "stream",
     "text": [
      "Original set is: {1, 2, 3, 4, 5, 6, 7, 8}\n",
      "Updated set after removing 6 : {1, 2, 3, 4, 5, 7, 8}\n"
     ]
    }
   ],
   "source": [
    "import random\n",
    "# Enter some elements in a set\n",
    "n_set = {1, 2, 3, 4, 5, 6, 7, 8}\n",
    "# Display original set\n",
    "print(\"Original set is:\", n_set)\n",
    "# select random element from set using random.choice() function\n",
    "random_element = random.choice(list(n_set))\n",
    " # Remove random element from set using remove() method\n",
    "n_set.remove(random_element)\n",
    "\n",
    "print(\"Updated set after removing\", random_element, \":\", n_set)"
   ]
  },
  {
   "cell_type": "markdown",
   "id": "02aa5c9e",
   "metadata": {},
   "source": [
    "## 17. Pop an element from a set."
   ]
  },
  {
   "cell_type": "code",
   "execution_count": 77,
   "id": "d512a2d8",
   "metadata": {},
   "outputs": [
    {
     "name": "stdout",
     "output_type": "stream",
     "text": [
      "Original set: {1, 2, 3, 4, 5, 6, 7, 8}\n",
      "Popped element is: 1\n",
      "Set after popping is: {2, 3, 4, 5, 6, 7, 8}\n"
     ]
    }
   ],
   "source": [
    "n_set = {1, 2, 3, 4, 5, 6, 7, 8}\n",
    "# print original set\n",
    "print(\"Original set:\", n_set)\n",
    "# pop an element using pop() method\n",
    "popped_element = n_set.pop()\n",
    "# print element to popped\n",
    "print(\"Popped element is:\", popped_element)\n",
    "# print set after popping element\n",
    "print(\"Set after popping is:\", n_set)"
   ]
  },
  {
   "cell_type": "markdown",
   "id": "9e3a8aea",
   "metadata": {},
   "source": [
    "### 18. Check if two sets have no elements in common."
   ]
  },
  {
   "cell_type": "code",
   "execution_count": 85,
   "id": "4f8bb58c",
   "metadata": {},
   "outputs": [
    {
     "name": "stdout",
     "output_type": "stream",
     "text": [
      "The two sets have no elements in common.\n"
     ]
    }
   ],
   "source": [
    "set1 = {1,2,3,4,5}\n",
    "set2 = {6,7,8,9,10}\n",
    "# Intersection is use to compare both sets\n",
    "common_elem = set1.intersection(set2)\n",
    "# Check common elements in set is 0\n",
    "if not common_elem:\n",
    "    print(\"The two sets have no elements in common.\")\n",
    "else:\n",
    "    print(\"The two sets have common elements:\", common_elem)"
   ]
  },
  {
   "cell_type": "markdown",
   "id": "d3205a2f",
   "metadata": {},
   "source": [
    "### 19. Find the symmetric difference between two sets."
   ]
  },
  {
   "cell_type": "code",
   "execution_count": 86,
   "id": "009805e9",
   "metadata": {},
   "outputs": [
    {
     "name": "stdout",
     "output_type": "stream",
     "text": [
      "symmetric difference between two sets is: {1, 2, 3, 6, 7, 8}\n"
     ]
    }
   ],
   "source": [
    "set1 = {1,2,3,4,5}\n",
    "set2 = {4,5,6,7,8}\n",
    "# Calculate both sets using symmetric difference\n",
    "symm_diff = set1 ^ set2\n",
    "# print symmetric difference\n",
    "print(\"symmetric difference between two sets is:\",symm_diff)"
   ]
  },
  {
   "cell_type": "markdown",
   "id": "93f64f83",
   "metadata": {},
   "source": [
    "### 20. Update a set with elements from another set."
   ]
  },
  {
   "cell_type": "code",
   "execution_count": 88,
   "id": "69cbfa28",
   "metadata": {},
   "outputs": [
    {
     "name": "stdout",
     "output_type": "stream",
     "text": [
      "set1: {1, 2, 3, 4, 5}\n",
      "set2: {4, 5, 6, 7, 8}\n",
      "Updated set 1: {1, 2, 3, 4, 5, 6, 7, 8}\n"
     ]
    }
   ],
   "source": [
    "# Enter the values of first set\n",
    "set1 = {1,2,3,4,5}\n",
    "print(\"set1:\", set1)\n",
    "# Enter values for second set\n",
    "set2 = {4,5,6,7,8}\n",
    "print(\"set2:\", set2)\n",
    "# update the values of set1 elements from set2\n",
    "set1.update(set2)\n",
    "print(\"Updated set 1:\",set1)"
   ]
  },
  {
   "cell_type": "markdown",
   "id": "3d782e45",
   "metadata": {},
   "source": [
    "### 21. Create a set of the first 5 prime numbers."
   ]
  },
  {
   "cell_type": "code",
   "execution_count": 89,
   "id": "eab9e289",
   "metadata": {},
   "outputs": [
    {
     "name": "stdout",
     "output_type": "stream",
     "text": [
      "Set of prime numbers: {2, 3, 5, 7, 11}\n"
     ]
    }
   ],
   "source": [
    "def is_prime(num):\n",
    "    if num <= 1:\n",
    "        return False\n",
    "    for i in range(2, int(num ** 0.5) + 1):\n",
    "        if num % i == 0:\n",
    "            return False\n",
    "    return True\n",
    "prime_set = set()\n",
    "\n",
    "num = 2\n",
    "while len(prime_set) < 5:\n",
    "    if is_prime(num):\n",
    "        prime_set.add(num)\n",
    "        \n",
    "    num += 1\n",
    "print(\"Set of prime numbers:\", prime_set)    "
   ]
  },
  {
   "cell_type": "markdown",
   "id": "94cd5492",
   "metadata": {},
   "source": [
    "## 22. Check if two sets are identical."
   ]
  },
  {
   "cell_type": "code",
   "execution_count": 90,
   "id": "a9f912cd",
   "metadata": {},
   "outputs": [
    {
     "name": "stdout",
     "output_type": "stream",
     "text": [
      "The given sets are identical.\n"
     ]
    }
   ],
   "source": [
    "set1 = {1, 2, 3, 4, 5}\n",
    "# order of elements are not mandatory in sets\n",
    "set2 = {3, 1, 5, 2, 4}\n",
    "# check two sets are equal or not\n",
    "if set1 == set2:\n",
    "    print(\"The given sets are identical.\")\n",
    "else:\n",
    "    print(\"The given sets are not identical.\")"
   ]
  },
  {
   "cell_type": "markdown",
   "id": "566c5275",
   "metadata": {},
   "source": [
    "## 23. Create a frozen set"
   ]
  },
  {
   "cell_type": "code",
   "execution_count": 91,
   "id": "2ea3c398",
   "metadata": {},
   "outputs": [
    {
     "name": "stdout",
     "output_type": "stream",
     "text": [
      "Frozen Sets are: frozenset({1, 2, 3, 4, 5, 6, 7, 8})\n"
     ]
    }
   ],
   "source": [
    "elements = [1, 2, 3, 4, 5, 6, 7, 8]\n",
    "# create frozensets using constructor and passing elements in frozen set\n",
    "frozensets = frozenset(elements)\n",
    "\n",
    "print(\"Frozen Sets are:\", frozensets)"
   ]
  },
  {
   "cell_type": "markdown",
   "id": "98800fb9",
   "metadata": {},
   "source": [
    "## 24. Check if a set is disjoint with another set."
   ]
  },
  {
   "cell_type": "code",
   "execution_count": 92,
   "id": "89ed4e31",
   "metadata": {},
   "outputs": [
    {
     "name": "stdout",
     "output_type": "stream",
     "text": [
      "Are the sets disjoint? False\n"
     ]
    }
   ],
   "source": [
    "set1 = {1, 2, 3, 4, 5}\n",
    "set2 = {6, 7, 8, 9, 10}\n",
    "\n",
    "disjoint_status = set1.isdisjoint(set2)\n",
    "\n",
    "print(\"Are the sets disjoint?\", disjoint_status)"
   ]
  },
  {
   "cell_type": "markdown",
   "id": "af980048",
   "metadata": {},
   "source": [
    "### 25. Create a set of squares of numbers from 1 to 5."
   ]
  },
  {
   "cell_type": "code",
   "execution_count": 93,
   "id": "9932b97c",
   "metadata": {},
   "outputs": [
    {
     "name": "stdout",
     "output_type": "stream",
     "text": [
      "{1, 4, 9, 16, 25}\n"
     ]
    }
   ],
   "source": [
    "squ_set = set()\n",
    "# use loop to iterate through numbers from 1 to 5\n",
    "for num in range(1, 6):\n",
    "    # calculate square of current number\n",
    "    square = num ** 2\n",
    "    # Add square to set\n",
    "    squ_set.add(square)\n",
    "    \n",
    "print(squ_set)    "
   ]
  },
  {
   "cell_type": "markdown",
   "id": "77b17c2f",
   "metadata": {},
   "source": [
    "### 26. Filter out all even numbers from a set."
   ]
  },
  {
   "cell_type": "code",
   "execution_count": 96,
   "id": "edb9f054",
   "metadata": {},
   "outputs": [
    {
     "name": "stdout",
     "output_type": "stream",
     "text": [
      "Original set is: {1, 2, 3, 4, 5, 6, 7, 8}\n",
      "Even number set is: {8, 2, 4, 6}\n"
     ]
    }
   ],
   "source": [
    "orig_set = {1, 2, 3, 4, 5, 6, 7, 8}\n",
    "# Initialize an empty set to store filtered even numbers\n",
    "evennum_set = set()\n",
    "# Iterate through each element in original set\n",
    "for num in orig_set:\n",
    "    # check current number is even(%2)\n",
    "    if num%2 == 0:\n",
    "        # if even, add it to evennum_set\n",
    "        evennum_set.add(num)\n",
    "        # print original set and set contaiing even numbers\n",
    "print(\"Original set is:\", orig_set)\n",
    "print(\"Even number set is:\", evennum_set)"
   ]
  },
  {
   "cell_type": "markdown",
   "id": "12ff9287",
   "metadata": {},
   "source": [
    "## 27. Multiply all elements in a set by 2."
   ]
  },
  {
   "cell_type": "code",
   "execution_count": 97,
   "id": "9acc1840",
   "metadata": {},
   "outputs": [
    {
     "name": "stdout",
     "output_type": "stream",
     "text": [
      "Original set is: {1, 2, 3, 4, 5}\n",
      "Multiplied set is: {2, 4, 6, 8, 10}\n"
     ]
    }
   ],
   "source": [
    "orig_set = {1, 2, 3, 4, 5}\n",
    "\n",
    "mult_set = set()\n",
    "\n",
    "for num in orig_set:\n",
    "    \n",
    "    mult_num = num * 2\n",
    "    \n",
    "    mult_set.add(mult_num)\n",
    "    \n",
    "print(\"Original set is:\", orig_set)\n",
    "\n",
    "print(\"Multiplied set is:\", mult_set)"
   ]
  },
  {
   "cell_type": "markdown",
   "id": "98e920bb",
   "metadata": {},
   "source": [
    "## 28. Create a set of random numbers."
   ]
  },
  {
   "cell_type": "code",
   "execution_count": 104,
   "id": "ad2c6bfe",
   "metadata": {},
   "outputs": [
    {
     "name": "stdout",
     "output_type": "stream",
     "text": [
      "generated set of random numbers is: {33, 2, 34, 7, 28}\n"
     ]
    }
   ],
   "source": [
    "import random\n",
    "# Define number of random number in set\n",
    "num_random_numbers = 5\n",
    "# Initialize empty set to store random numbers\n",
    "random_number_set = set()\n",
    "# use loop to generate random numbers and add to set\n",
    "for _ in range(num_random_numbers):\n",
    "    # Generate random numbers between 1 and 50\n",
    "    random_num = random.randint(1, 50)\n",
    "    # Add random number to set\n",
    "    random_number_set.add(random_num)\n",
    "    # print generated set of random numbers\n",
    "print(\"generated set of random numbers is:\", random_number_set)    "
   ]
  },
  {
   "cell_type": "markdown",
   "id": "333968fd",
   "metadata": {},
   "source": [
    "### 29. Check if a set is empty."
   ]
  },
  {
   "cell_type": "code",
   "execution_count": 105,
   "id": "f522fb0a",
   "metadata": {},
   "outputs": [
    {
     "name": "stdout",
     "output_type": "stream",
     "text": [
      "The set is empty.\n"
     ]
    }
   ],
   "source": [
    "n_set = set()\n",
    "# check if set is empty using 'if' function\n",
    "if not n_set:\n",
    "    print(\"The set is empty.\")\n",
    "else:    \n",
    "    print(\"The set is not empty.\")"
   ]
  },
  {
   "cell_type": "markdown",
   "id": "326e370b",
   "metadata": {},
   "source": [
    "## 30. Create a nested set (hint: use frozenset)."
   ]
  },
  {
   "cell_type": "code",
   "execution_count": 106,
   "id": "ce42da8b",
   "metadata": {},
   "outputs": [
    {
     "name": "stdout",
     "output_type": "stream",
     "text": [
      "Nested set is: {frozenset({1, 2, 3, 4, 5}), frozenset({6, 7, 8, 9, 10})}\n"
     ]
    }
   ],
   "source": [
    "set1 = {1, 2, 3, 4, 5}\n",
    "set2 = {6, 7, 8, 9, 10}\n",
    "# create frozensets from innersets\n",
    "frozen_set1 = frozenset(set1)\n",
    "frozen_set2 = frozenset(set2)\n",
    "# create nested set using frozensets\n",
    "nested_set = {frozen_set1, frozen_set2}\n",
    "\n",
    "print(\"Nested set is:\", nested_set)"
   ]
  },
  {
   "cell_type": "markdown",
   "id": "dd5cefc6",
   "metadata": {},
   "source": [
    "### 31. Remove an element from a set using the discard method."
   ]
  },
  {
   "cell_type": "code",
   "execution_count": 108,
   "id": "9de1c5cf",
   "metadata": {},
   "outputs": [
    {
     "name": "stdout",
     "output_type": "stream",
     "text": [
      "Initial set: {1, 2, 3, 4, 5, 6, 7, 8}\n",
      "Set after removing 5 : {1, 2, 3, 4, 6, 7, 8}\n"
     ]
    }
   ],
   "source": [
    "n_set = {1, 2, 3, 4, 5, 6, 7, 8}\n",
    "\n",
    "print(\"Initial set:\", n_set)\n",
    "\n",
    "elem_to_remove = 5\n",
    "\n",
    "n_set.discard(elem_to_remove)\n",
    "\n",
    "print(\"Set after removing\", elem_to_remove, \":\", n_set)"
   ]
  },
  {
   "cell_type": "markdown",
   "id": "639fae5d",
   "metadata": {},
   "source": [
    "## 32. Compare two sets."
   ]
  },
  {
   "cell_type": "code",
   "execution_count": 109,
   "id": "698eb546",
   "metadata": {},
   "outputs": [
    {
     "name": "stdout",
     "output_type": "stream",
     "text": [
      "Set1: {1, 2, 3, 4, 5}\n",
      "Set2: {4, 5, 6, 7, 8}\n",
      "Is set1 a subset of set2: False\n",
      "Is set2 a subset of set1: False\n",
      "Intersection: {4, 5}\n",
      "Union: {1, 2, 3, 4, 5, 6, 7, 8}\n",
      "Elements in set1 but not in set2: {1, 2, 3}\n",
      "Elements in set2 but not in set1: {8, 6, 7}\n"
     ]
    }
   ],
   "source": [
    "set1 = {1, 2, 3, 4, 5}\n",
    "set2 = {4, 5, 6, 7, 8}\n",
    "\n",
    "is_subset = set1.issubset(set2)\n",
    "\n",
    "is_superset = set1.issuperset(set2)\n",
    "\n",
    "intersection = set1.intersection(set2)\n",
    "\n",
    "union = set1.union(set2)\n",
    "\n",
    "difference1 = set1.difference(set2)\n",
    "\n",
    "difference2 = set2.difference(set1)\n",
    "\n",
    "print(\"Set1:\", set1)\n",
    "print(\"Set2:\", set2)\n",
    "print(\"Is set1 a subset of set2:\", is_subset)\n",
    "print(\"Is set2 a subset of set1:\", is_superset)\n",
    "print(\"Intersection:\", intersection)\n",
    "print(\"Union:\", union)\n",
    "print(\"Elements in set1 but not in set2:\", difference1)\n",
    "print(\"Elements in set2 but not in set1:\", difference2)"
   ]
  },
  {
   "cell_type": "markdown",
   "id": "0b4044c5",
   "metadata": {},
   "source": [
    "## 33. Create a set from a string."
   ]
  },
  {
   "cell_type": "code",
   "execution_count": 110,
   "id": "23e701d6",
   "metadata": {},
   "outputs": [
    {
     "name": "stdout",
     "output_type": "stream",
     "text": [
      "{'e', 'C', 'r', 'a'}\n"
     ]
    }
   ],
   "source": [
    "input_string = \"Career\"\n",
    "# use set() constructor to create a set from characters in string\n",
    "char_set = set(input_string)\n",
    "# print result\n",
    "print(char_set)"
   ]
  },
  {
   "cell_type": "markdown",
   "id": "71f3539c",
   "metadata": {},
   "source": [
    "## 34. Convert a set of strings to a set of integers."
   ]
  },
  {
   "cell_type": "code",
   "execution_count": 112,
   "id": "27c6f242",
   "metadata": {},
   "outputs": [
    {
     "name": "stdout",
     "output_type": "stream",
     "text": [
      "Original string set: {'78910', '4567', '1234'}\n",
      "Converted integer set: {1234, 78910, 4567}\n"
     ]
    }
   ],
   "source": [
    "str_set = {\"1234\",\"4567\",\"78910\"}\n",
    "# Initialize empty set to store integers\n",
    "int_set = set()\n",
    "# Iterate each string in string set\n",
    "for string in str_set:\n",
    "    # convert string io an integer using int() function\n",
    "    int_value = int(string)\n",
    "    # Add integer to integer set\n",
    "    int_set.add(int_value)\n",
    "    \n",
    "print(\"Original string set:\", str_set)\n",
    "print(\"Converted integer set:\", int_set)"
   ]
  },
  {
   "cell_type": "markdown",
   "id": "74db8215",
   "metadata": {},
   "source": [
    "### 35. Convert a set of integers to a set of strings."
   ]
  },
  {
   "cell_type": "code",
   "execution_count": 113,
   "id": "a53d92bd",
   "metadata": {},
   "outputs": [
    {
     "name": "stdout",
     "output_type": "stream",
     "text": [
      "Original int_set: {1, 2, 3, 4, 5, 6, 7, 8}\n",
      "Converted strings_set: {'3', '1', '2', '7', '8', '6', '5', '4'}\n"
     ]
    }
   ],
   "source": [
    "int_set = {1, 2, 3, 4, 5, 6, 7, 8}\n",
    "# Initialize empty set to store integers\n",
    "str_set = set()\n",
    "# Iterate through each integer in integer set\n",
    "for num in int_set:\n",
    "    #convert integer to string using str() function\n",
    "    num_str = str(num)\n",
    "    # Add string representation to string_set\n",
    "    str_set.add(num_str)\n",
    "    \n",
    "print(\"Original int_set:\", int_set)\n",
    "print(\"Converted strings_set:\",str_set)"
   ]
  },
  {
   "cell_type": "markdown",
   "id": "c6a0a778",
   "metadata": {},
   "source": [
    "## 36. Create a set from a tuple."
   ]
  },
  {
   "cell_type": "code",
   "execution_count": 115,
   "id": "a2cec49f",
   "metadata": {},
   "outputs": [
    {
     "name": "stdout",
     "output_type": "stream",
     "text": [
      "{1, 2, 3, 4}\n"
     ]
    }
   ],
   "source": [
    "input_tuple = (1, 2, 3, 4, 3, 1, 2)\n",
    "# convert tuple to set\n",
    "output_set = set(input_tuple)\n",
    "# print result\n",
    "print(output_set)"
   ]
  },
  {
   "cell_type": "markdown",
   "id": "55ecc4b0",
   "metadata": {},
   "source": [
    "## 37. Convert a set to a tuple."
   ]
  },
  {
   "cell_type": "code",
   "execution_count": 117,
   "id": "f8f1527a",
   "metadata": {},
   "outputs": [
    {
     "name": "stdout",
     "output_type": "stream",
     "text": [
      "Original set: {1, 2, 3, 4, 5}\n",
      "Converted tuple: (1, 2, 3, 4, 5)\n"
     ]
    }
   ],
   "source": [
    "input_set = {1, 2, 3, 4, 5}\n",
    "# convert set to tuple\n",
    "output_tuple = tuple(input_set)\n",
    "# print original and converted tuple\n",
    "print(\"Original set:\", input_set)\n",
    "print(\"Converted tuple:\", output_tuple)"
   ]
  },
  {
   "cell_type": "markdown",
   "id": "001303f7",
   "metadata": {},
   "source": [
    "## 38. Find the maximum value in a set."
   ]
  },
  {
   "cell_type": "code",
   "execution_count": 120,
   "id": "f47e3709",
   "metadata": {},
   "outputs": [
    {
     "name": "stdout",
     "output_type": "stream",
     "text": [
      "Maximum value: 55\n"
     ]
    }
   ],
   "source": [
    "n_set = {15, 7, 22, 13, 55, 8, 11}\n",
    "# Initialize a variable to store maximum value\n",
    "max_val = None\n",
    "# Iterate through each element in set\n",
    "for num in n_set:\n",
    "    # check if max value is None or if number greater than maximum value\n",
    "    if max_val is None or num > max_val:\n",
    "        max_val = num\n",
    "        \n",
    "print(\"Maximum value:\", max_val)        "
   ]
  },
  {
   "cell_type": "markdown",
   "id": "5f68684a",
   "metadata": {},
   "source": [
    "## 39. Find the minimum value in a set."
   ]
  },
  {
   "cell_type": "code",
   "execution_count": 121,
   "id": "eb38da08",
   "metadata": {},
   "outputs": [
    {
     "name": "stdout",
     "output_type": "stream",
     "text": [
      "Minimum value: 7\n"
     ]
    }
   ],
   "source": [
    "n_set = {15, 7, 22, 13, 55, 8, 11}\n",
    "# Initialize a variable to store minimum value\n",
    "min_val = None\n",
    "# Iterate through each element in set\n",
    "for num in n_set:\n",
    "    # check if min value is None or if number smaller than current minimum value\n",
    "    if min_val is None or num < min_val:\n",
    "        min_val = num\n",
    "        \n",
    "print(\"Minimum value:\", min_val)        "
   ]
  },
  {
   "cell_type": "markdown",
   "id": "853c9855",
   "metadata": {},
   "source": [
    "## 40. Create a set from user input."
   ]
  },
  {
   "cell_type": "code",
   "execution_count": 122,
   "id": "e4cac392",
   "metadata": {},
   "outputs": [
    {
     "name": "stdout",
     "output_type": "stream",
     "text": [
      "Enter elements for the set(type 'done' to finish):\n",
      ">Data Science, Career, done\n",
      ">done\n",
      "Final set: {'Data Science, Career, done'}\n"
     ]
    }
   ],
   "source": [
    "user_set = set()\n",
    "\n",
    "print(\"Enter elements for the set(type 'done' to finish):\")\n",
    "while True:\n",
    "    \n",
    "    user_input = input(\">\")\n",
    "    if user_input.lower() == 'done':\n",
    "        # Exit loop if user enters done\n",
    "        break\n",
    "       # Add user input to set \n",
    "    user_set.add(user_input)\n",
    "    \n",
    "print(\"Final set:\", user_set)    "
   ]
  },
  {
   "cell_type": "markdown",
   "id": "f0f757a5",
   "metadata": {},
   "source": [
    "## 41. Check if the intersection of two sets is empty."
   ]
  },
  {
   "cell_type": "code",
   "execution_count": 123,
   "id": "d849bf5b",
   "metadata": {},
   "outputs": [
    {
     "name": "stdout",
     "output_type": "stream",
     "text": [
      "The intersection of two sets is not empty.\n"
     ]
    }
   ],
   "source": [
    "set1 = {1,2,3,4,5}\n",
    "set2 = {4,5,6,7,8}\n",
    "# intersectio of two sets using intersection method\n",
    "intersection_res = set1.intersection(set2)\n",
    "# chek if intersection result is empty\n",
    "if not intersection_res:\n",
    "    \n",
    "    print(\"The intersection of two sets is empty.\")\n",
    "else:\n",
    "    print(\"The intersection of two sets is not empty.\")"
   ]
  },
  {
   "cell_type": "markdown",
   "id": "698efb7b",
   "metadata": {},
   "source": [
    "## 42. Create a set of the first 5 Fibonacci numbers."
   ]
  },
  {
   "cell_type": "code",
   "execution_count": 124,
   "id": "1461b94e",
   "metadata": {},
   "outputs": [
    {
     "name": "stdout",
     "output_type": "stream",
     "text": [
      "Set of first 5 Fibonacci numbers: {0, 1, 2, 3, 5}\n"
     ]
    }
   ],
   "source": [
    "fibonacci_set = set()\n",
    "# Initialize two fibonacci numbers\n",
    "a,b = 0,1\n",
    "# Loop to generate 5 fibonacci numbers\n",
    "for _ in range(6):\n",
    "    # Add current fibonacci series to set\n",
    "    fibonacci_set.add(a)\n",
    "    # calculate next Fibonacci number\n",
    "    a,b =b, a + b\n",
    "    \n",
    "print(\"Set of first 5 Fibonacci numbers:\", fibonacci_set)"
   ]
  },
  {
   "cell_type": "markdown",
   "id": "8265e750",
   "metadata": {},
   "source": [
    "## 43. Remove duplicates from a list using sets."
   ]
  },
  {
   "cell_type": "code",
   "execution_count": 1,
   "id": "68228d4b",
   "metadata": {},
   "outputs": [
    {
     "name": "stdout",
     "output_type": "stream",
     "text": [
      "Original List: [1, 2, 3, 4, 5, 6, 5, 7, 8, 9, 10, 4]\n",
      "List with Duplicates Removed: [1, 2, 3, 4, 5, 6, 7, 8, 9, 10]\n"
     ]
    }
   ],
   "source": [
    "orig_list = [1, 2, 3, 4, 5, 6, 5, 7, 8, 9, 10, 4]\n",
    "# convert list into set\n",
    "uniq_set = set(orig_list)\n",
    "# convert set back to list\n",
    "uniq_list = list(uniq_set)\n",
    "\n",
    "print(\"Original List:\", orig_list)\n",
    "print(\"List with Duplicates Removed:\", uniq_list)"
   ]
  },
  {
   "cell_type": "markdown",
   "id": "09531a20",
   "metadata": {},
   "source": [
    "### 44. Check if two sets have the same elements, regardless of their count."
   ]
  },
  {
   "cell_type": "code",
   "execution_count": 5,
   "id": "44008e68",
   "metadata": {},
   "outputs": [
    {
     "name": "stdout",
     "output_type": "stream",
     "text": [
      "The sets have same elements.\n"
     ]
    }
   ],
   "source": [
    "def have_some_elem(set1, set2):\n",
    "# convert set into lista dn sort them\n",
    "    \n",
    "    sorted_list1 = sorted(list(set1))\n",
    "    sorted_list2 = sorted(list(set2))\n",
    "# convert sorted lists to check if they are equal\n",
    "    return sorted_list1 == sorted_list2\n",
    "# check sets ahave same elements\n",
    "set1 = {1, 2, 3, 2, 1}\n",
    "set2 = {3, 1, 2}\n",
    "\n",
    "result = have_some_elem(set1, set2)\n",
    "\n",
    "if result:\n",
    "    print(\"The sets have same elements.\")\n",
    "else:\n",
    "    print(\"The sets do not have same elements.\")\n",
    "    "
   ]
  },
  {
   "cell_type": "markdown",
   "id": "160d6da0",
   "metadata": {},
   "source": [
    "## 45. Create a set of the first n powers of 2"
   ]
  },
  {
   "cell_type": "code",
   "execution_count": 4,
   "id": "61d474e1",
   "metadata": {},
   "outputs": [
    {
     "name": "stdout",
     "output_type": "stream",
     "text": [
      "{1, 2, 4, 8, 16}\n"
     ]
    }
   ],
   "source": [
    "def gen_power_of_2(n):\n",
    "    # Enter an empty set into the power of 2\n",
    "    power_of_2 = set()\n",
    "    #Loop from 0 to n-1\n",
    "    for i in range(n):\n",
    "        # calculate current power of 2 using exponential operator\n",
    "        power = 2 ** i\n",
    "        # Add current power 2 in the set\n",
    "        power_of_2.add(power)\n",
    "       # return set power 2 \n",
    "    return power_of_2   \n",
    "# enter value of n\n",
    "n = 5\n",
    "\n",
    "powers_set = gen_power_of_2(n)\n",
    "\n",
    "print(powers_set)"
   ]
  },
  {
   "cell_type": "markdown",
   "id": "ce8e4df9",
   "metadata": {},
   "source": [
    "### 46. Find the common elements between a set and a list."
   ]
  },
  {
   "cell_type": "code",
   "execution_count": 7,
   "id": "121d9a12",
   "metadata": {},
   "outputs": [
    {
     "name": "stdout",
     "output_type": "stream",
     "text": [
      "Common element is: [1, 3, 5]\n"
     ]
    }
   ],
   "source": [
    "sets = {1, 2, 3, 4, 5}\n",
    "lists = [1, 3, 5]\n",
    "# convert list of set to set list\n",
    "list_to_set = set(lists)\n",
    "# Enter empty list to store common elements\n",
    "common_elem = []\n",
    "# Iterate through elements in set\n",
    "for element in sets:\n",
    "  # check if element is available in the set  \n",
    "    if element in list_to_set:\n",
    "        # check if element is present and add it to the common element\n",
    "        common_elem.append(element)\n",
    "        \n",
    "print(\"Common element is:\", common_elem)        "
   ]
  },
  {
   "cell_type": "markdown",
   "id": "d8427c6d",
   "metadata": {},
   "source": [
    "## 47. Create a set of the first n triangular numbers."
   ]
  },
  {
   "cell_type": "code",
   "execution_count": 12,
   "id": "30dd9ea0",
   "metadata": {},
   "outputs": [
    {
     "name": "stdout",
     "output_type": "stream",
     "text": [
      "Enter the value of n:15\n",
      "The set of the first (n) triangular numbers is: {1, 66, 3, 36, 6, 105, 10, 45, 78, 15, 21, 55, 120, 91, 28}\n"
     ]
    }
   ],
   "source": [
    "def gen_triangular_numbers(n):\n",
    "    triangular_numbers = set()\n",
    "    for i in range(1, n + 1):\n",
    "        triangular_number = i * (i + 1)//2\n",
    "        triangular_numbers.add(triangular_number)\n",
    "    return triangular_numbers\n",
    "n = int(input(\"Enter the value of n:\"))\n",
    "# call function to generate first 'n' triangular numbers\n",
    "triangular_set = gen_triangular_numbers(n)\n",
    "# Display triangular numbers\n",
    "print(f\"The set of the first (n) triangular numbers is:\", triangular_set)"
   ]
  },
  {
   "cell_type": "markdown",
   "id": "1c22585f",
   "metadata": {},
   "source": [
    "## 48. Check if a set contains another set as a subset."
   ]
  },
  {
   "cell_type": "code",
   "execution_count": 13,
   "id": "c19f02f8",
   "metadata": {},
   "outputs": [
    {
     "name": "stdout",
     "output_type": "stream",
     "text": [
      "Set2 is a subset of set1\n"
     ]
    }
   ],
   "source": [
    "set1 = {1, 2, 3, 4, 5}\n",
    "set2 = {3, 4}\n",
    "# check set2 is subset of set1\n",
    "is_subset = set2.issubset(set1)\n",
    "\n",
    "if is_subset:\n",
    "    print(\"Set2 is a subset of set1\")\n",
    "else:\n",
    "    print(\"Set2 is not a subset of set1\")"
   ]
  },
  {
   "cell_type": "markdown",
   "id": "e27b91a6",
   "metadata": {},
   "source": [
    "### 49. Create a set of alternating 1s and 0s of length n."
   ]
  },
  {
   "cell_type": "code",
   "execution_count": 15,
   "id": "65f5ad76",
   "metadata": {},
   "outputs": [
    {
     "name": "stdout",
     "output_type": "stream",
     "text": [
      "{0, 1}\n"
     ]
    }
   ],
   "source": [
    "def create_alternate_set(n):\n",
    "    alternating_set = set()\n",
    "    \n",
    "    for i in range(n):\n",
    "        if i % 2 == 0:\n",
    "            alternating_set.add(1)\n",
    "        else:\n",
    "            alternating_set.add(0)\n",
    "    return alternating_set\n",
    "length_n = 10\n",
    "\n",
    "result = create_alternate_set(length_n)\n",
    "print(result)"
   ]
  },
  {
   "cell_type": "markdown",
   "id": "085067be",
   "metadata": {},
   "source": [
    "## 50. Merge multiple sets into one."
   ]
  },
  {
   "cell_type": "code",
   "execution_count": 17,
   "id": "e4ad9d1e",
   "metadata": {},
   "outputs": [
    {
     "name": "stdout",
     "output_type": "stream",
     "text": [
      "Merged sort is: {1, 2, 3, 4, 5, 6, 7}\n"
     ]
    }
   ],
   "source": [
    "set1 = {1, 2, 3}\n",
    "set2 = {3, 4, 5}\n",
    "set3 = {5, 6, 7}\n",
    "# use union() to merge set2 & set3\n",
    "merge_set = set1.union(set2, set3)\n",
    "\n",
    "print(\"Merged sort is:\",merge_set)"
   ]
  }
 ],
 "metadata": {
  "kernelspec": {
   "display_name": "Python 3 (ipykernel)",
   "language": "python",
   "name": "python3"
  },
  "language_info": {
   "codemirror_mode": {
    "name": "ipython",
    "version": 3
   },
   "file_extension": ".py",
   "mimetype": "text/x-python",
   "name": "python",
   "nbconvert_exporter": "python",
   "pygments_lexer": "ipython3",
   "version": "3.10.9"
  }
 },
 "nbformat": 4,
 "nbformat_minor": 5
}
