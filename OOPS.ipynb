{
 "cells": [
  {
   "cell_type": "markdown",
   "id": "95fd4894",
   "metadata": {},
   "source": [
    "### 1. Bank Account Create a class representing a bank account with attributes like account number, account holder name, and balance. Implement methods to deposit and withdraw money from the account"
   ]
  },
  {
   "cell_type": "code",
   "execution_count": 19,
   "id": "4b657bdc",
   "metadata": {},
   "outputs": [
    {
     "name": "stdout",
     "output_type": "stream",
     "text": [
      "Account Number :  2178514584\n",
      "Account Name :  Chaitanya\n",
      "Account Balance :  2600  $\n"
     ]
    }
   ],
   "source": [
    "class BankAccount:\n",
    "    def __init__(self,accountNumber, name, balance):\n",
    "        self.accountNumber = accountNumber\n",
    "        self.name = name\n",
    "        self.balance = balance\n",
    "        \n",
    "    # create Deposit() method\n",
    "    def Deposit(self , d ):\n",
    "        self.balance = self.balance + d\n",
    "        \n",
    "    # create Withdraw() method\n",
    "    def Withdrawal(self , w):\n",
    "        if (self.balance < w):\n",
    "            print(\"impossible operation! Insufficient funds\")\n",
    "        else:\n",
    "            self.balance = self.balance - w\n",
    "    # create bankfees() method\n",
    "    def bankfees(self):\n",
    "        self.balance(95/100)*self.balance\n",
    "    # create display() method\n",
    "    def Display(self):\n",
    "        print(\"Account Number : \" , self.accountNumber)\n",
    "        print(\"Account Name : \" , self.name)\n",
    "        print(\"Account Balance : \" , self.balance , \" $\") \n",
    "# Testing the code :\n",
    "newAccount = BankAccount(2178514584, \"Chaitanya\", 2700)\n",
    "# Creating Withdrawal Test\n",
    "newAccount.Withdrawal(300)\n",
    "# Create deposit test\n",
    "newAccount.Deposit(200)\n",
    "# Display account informations\n",
    "newAccount.Display()        "
   ]
  },
  {
   "cell_type": "markdown",
   "id": "64a71938",
   "metadata": {},
   "source": [
    "### 2.Employee Management Create a class representing an employee with attributes like employee ID, name, and salary. Implement methods to calculate the yearly bonus and display employee details"
   ]
  },
  {
   "cell_type": "code",
   "execution_count": 23,
   "id": "835cd3ef",
   "metadata": {},
   "outputs": [],
   "source": [
    "class Employee:\n",
    "    def __init__(self, emp_id, name, salary):\n",
    "        self.emp_id = emp_id\n",
    "        self.name = name\n",
    "        self.salary = salary\n",
    "        \n",
    "    def calculate_yearly_bonus(self, bonus_percentage):\n",
    "        \"\"\"\n",
    "        Calculate yearly bonus for the employee based on a given bonus\n",
    "        \"\"\"\n",
    "        if bonus_percentage < 0:\n",
    "            raise ValueError(\"Bonus percentage cannot be negative.\")\n",
    "        return (bonus_percentage/100)*self.salary\n",
    "    def display_details(self):\n",
    "        \"\"\"\n",
    "        Display employee details, including employee ID, name, salary and employee details\n",
    "        \"\"\"\n",
    "        print(\"Employee ID:\", self.emp_id)\n",
    "        print(\"Name:\", self.name)\n",
    "        print(\"Salary:\", self.salary)\n",
    "        print(\"Yearly Bonus:\", self.calculate_yearly_bonus(10))\n",
    "    "
   ]
  },
  {
   "cell_type": "code",
   "execution_count": 24,
   "id": "f7205657",
   "metadata": {},
   "outputs": [
    {
     "name": "stdout",
     "output_type": "stream",
     "text": [
      "Employee ID: 101\n",
      "Name: Chaitanya\n",
      "Salary: 100000\n",
      "Yearly Bonus: 10000.0\n",
      "Yearly Bonus(15%): $15000.00\n"
     ]
    }
   ],
   "source": [
    "if __name__==\"__main__\":\n",
    "    # create an employee object\n",
    "    emp = Employee(101, \"Chaitanya\", 100000)\n",
    "    # Display employee details\n",
    "    emp.display_details()\n",
    "    # Calculate and display yearly bonus with a 15% bonus rate\n",
    "    bonus_percentage = 15\n",
    "    yearly_bonus = emp.calculate_yearly_bonus(bonus_percentage)\n",
    "    print(f\"Yearly Bonus({bonus_percentage}%): ${yearly_bonus:.2f}\")"
   ]
  },
  {
   "cell_type": "markdown",
   "id": "890eaee8",
   "metadata": {},
   "source": [
    "### 3.Vehicle Rental Create a class representing a vehicle rental system. Implement methods to rent a vehicle, return a vehicle, and display available vehicles"
   ]
  },
  {
   "cell_type": "code",
   "execution_count": 25,
   "id": "35d0eff4",
   "metadata": {},
   "outputs": [],
   "source": [
    "class VehicleRentalSystem:\n",
    "    def __init__(self):\n",
    "    # Initilaize an empty list to store available vehicles \n",
    "        self.available_vehicles = []\n",
    "    def rent_vehicle(self, vehicle):\n",
    "        \"\"\"\n",
    "        Rent a vehicle and remove it from the list of available vehicles\n",
    "        \"\"\"\n",
    "        if vehicle in self.available_vehicles:\n",
    "            self.available_vehicles.remove(vehicle)\n",
    "            print(f\"Rented {vehicle}\")\n",
    "        else:\n",
    "            print(f\"{vehicle} is not available for rent.\")\n",
    "            \n",
    "    def return_vehicle(self, vehicle):\n",
    "        \"\"\"\n",
    "        Return a rented vehicle and add it back to the list of available vehicles\n",
    "        \"\"\"\n",
    "    def display_available_vehicles(self):\n",
    "        \"\"\"\n",
    "        Display the list of available vehicles.\n",
    "        \"\"\"\n",
    "        if self.available_vehicles:\n",
    "            print(\"Available vehicles:\")\n",
    "            for vehicle in self.available_vehicles:\n",
    "                print(vehicle)\n",
    "        else:\n",
    "            print(\"No vehicle available for rent.\")"
   ]
  },
  {
   "cell_type": "code",
   "execution_count": 27,
   "id": "fd94ca05",
   "metadata": {},
   "outputs": [
    {
     "name": "stdout",
     "output_type": "stream",
     "text": [
      "Available vehicles:\n",
      "car\n",
      "Motorcycle\n",
      "Bicycle\n",
      "Car is not available for rent.\n",
      "Available vehicles:\n",
      "car\n",
      "Motorcycle\n",
      "Bicycle\n"
     ]
    }
   ],
   "source": [
    "if __name__ == \"__main__\":\n",
    "    rental_system = VehicleRentalSystem()\n",
    "    rental_system.available_vehicles.extend([\"car\",\"Motorcycle\",\"Bicycle\"])\n",
    "    rental_system.display_available_vehicles()\n",
    "    rental_system.rent_vehicle(\"Car\")\n",
    "    rental_system.display_available_vehicles()"
   ]
  },
  {
   "cell_type": "markdown",
   "id": "e323d6dd",
   "metadata": {},
   "source": [
    "### 4.Library Catalog Create classes representing a library and a book. Implement methods to add books to the library, borrow books, and display available books"
   ]
  },
  {
   "cell_type": "code",
   "execution_count": 36,
   "id": "d8d44c83",
   "metadata": {},
   "outputs": [],
   "source": [
    "class Book:\n",
    "    def __init__(self,title,author,book_id):\n",
    "        self.title = title\n",
    "        self.author = author\n",
    "        self.book_id = book_id\n",
    "        self.is_available = True\n",
    "        \n",
    "    def __str__(self):\n",
    "        availability = \"Available\" if self.is_available else \"Not available\"\n",
    "        return f\"Title: {self.title}, Author:{self.author}, Book ID:{self.book_id}\"\n",
    "        \n",
    "    def borrow(self):\n",
    "        if self.is_available:\n",
    "            self.is_available = False\n",
    "            return True\n",
    "        else:\n",
    "            return False\n",
    "    def return_book(self):\n",
    "        self.is_availbale = True\n",
    "        \n",
    "class Library:\n",
    "    def __init__(self):\n",
    "        self.books={}\n",
    "       \n",
    "    def add_book(self, book):\n",
    "        if book.book_id not in self.books:\n",
    "            self.books[book.book_id] = book\n",
    "            print(f\"Added book: {book.title}\")\n",
    "        else:\n",
    "            print(f\"Book with ID{book.book_id} already exists in the library.\")\n",
    "    def borrow_book(self, book_id):\n",
    "        if book_id in self.books:\n",
    "            book = self.books[book_id]\n",
    "            if book.borrow():\n",
    "                print(f\"Borrowed book:{book.title}\")\n",
    "            else:\n",
    "                print(f\"Book {book.title} is not available for borrowing.\")\n",
    "        else:\n",
    "            print(f\"Book with ID{book_id} not found in the library.\")\n",
    "            \n",
    "    def display_available_books(self):\n",
    "        available_books= [book for book in self.books.values() if book.is_available]\n",
    "        if available_books:\n",
    "            print(\"Available books in the library:\")\n",
    "            for book in available_books:\n",
    "                print(book)\n",
    "        else:\n",
    "            print(\"No books are available in the library.\")"
   ]
  },
  {
   "cell_type": "code",
   "execution_count": 38,
   "id": "23b968ef",
   "metadata": {},
   "outputs": [
    {
     "name": "stdout",
     "output_type": "stream",
     "text": [
      "Added book: Srimad Bhagavad Gita\n",
      "Added book: Rich Dad Poor Dad\n",
      "Added book: Python for Data Analysis\n",
      "Available books in the library:\n",
      "Title: Srimad Bhagavad Gita, Author:Maharishi Veda Vyasa, Book ID:1\n",
      "Title: Rich Dad Poor Dad, Author:Robert Kiyosaki , Book ID:2\n",
      "Title: Python for Data Analysis, Author:Wes McKinney, Book ID:3\n",
      "Borrowed book:Rich Dad Poor Dad\n",
      "Available books in the library:\n",
      "Title: Srimad Bhagavad Gita, Author:Maharishi Veda Vyasa, Book ID:1\n",
      "Title: Python for Data Analysis, Author:Wes McKinney, Book ID:3\n",
      "Available books in the library:\n",
      "Title: Srimad Bhagavad Gita, Author:Maharishi Veda Vyasa, Book ID:1\n",
      "Title: Python for Data Analysis, Author:Wes McKinney, Book ID:3\n"
     ]
    }
   ],
   "source": [
    "if __name__ == \"__main__\":\n",
    "    library = Library()\n",
    "    book1 = Book(\"Srimad Bhagavad Gita\", \"Maharishi Veda Vyasa\",1)\n",
    "    book2 = Book(\"Rich Dad Poor Dad\", \"Robert Kiyosaki \",2)\n",
    "    book3 = Book(\"Python for Data Analysis\", \"Wes McKinney\", 3)\n",
    "    library.add_book(book1)\n",
    "    library.add_book(book2)\n",
    "    library.add_book(book3)\n",
    "    \n",
    "    library.display_available_books()\n",
    "    library.borrow_book(2)\n",
    "    library.display_available_books()\n",
    "    book1.return_book()\n",
    "    library.display_available_books()"
   ]
  },
  {
   "cell_type": "markdown",
   "id": "36e9b802",
   "metadata": {},
   "source": [
    "### 5.Product Inventory Create classes representing a product and an inventory system. Implement methods to add products to the inventory, update product quantity, and display available products"
   ]
  },
  {
   "cell_type": "code",
   "execution_count": 43,
   "id": "c39ffe66",
   "metadata": {},
   "outputs": [],
   "source": [
    "class Product:\n",
    "    def __init__(self, product_id, name, price, quantity):\n",
    "        self.product_id = product_id\n",
    "        self.name = name\n",
    "        self.price = price\n",
    "        self.quantity = quantity\n",
    "    def __str__(self):\n",
    "        return f\"Product ID: {self.product_id},name:{self.name}, Price:${self.price:.2f}, Quantity:{self.quantity}\"\n",
    "    def update_quantity(self, quantity_change):\n",
    "        self.quantity += quantity_change\n",
    "        \n",
    "class InventorySystem:\n",
    "    def __init__(self):\n",
    "        self.inventory = {}\n",
    "    def add_product(self, product):\n",
    "        if product.product_id not in self.inventory:\n",
    "            self.inventory[product.product_id] = product\n",
    "            print(f\"Added product:{product.name}\")\n",
    "        else:\n",
    "            print(f\"Product with ID{product_id} not found in the inventory.\")\n",
    "    \n",
    "    def update_product_quantity(self, product_id, quantity_change):\n",
    "        if product_id in self.inventory:\n",
    "            product = self.inventory[product_id]\n",
    "            product.update_quantity(quantity_change)\n",
    "            print(f\"Updated quantity for product:{product.name}(Product ID:{product_id})\")\n",
    "        else:\n",
    "            print(f\"Product with ID{product_id} not found in the inventory.\")\n",
    "    def display_available_products(self):\n",
    "        available_products = [product for product in self.inventory.values()]\n",
    "        if available_products:\n",
    "            print(\"Available products in the inventory:\")\n",
    "            for product in available_products:\n",
    "                print(product)\n",
    "        else:\n",
    "            print(\"No products are available in the inventory.\")"
   ]
  },
  {
   "cell_type": "code",
   "execution_count": 45,
   "id": "37919321",
   "metadata": {},
   "outputs": [
    {
     "name": "stdout",
     "output_type": "stream",
     "text": [
      "Added product:Mobile\n",
      "Added product:Tablet\n",
      "Added product:Laptop\n",
      "Available products in the inventory:\n",
      "Product ID: 1,name:Mobile, Price:$299.99, Quantity:10\n",
      "Product ID: 2,name:Tablet, Price:$399.99, Quantity:5\n",
      "Product ID: 3,name:Laptop, Price:$499.99, Quantity:8\n",
      "Updated quantity for product:Mobile(Product ID:1)\n",
      "Updated quantity for product:Tablet(Product ID:2)\n",
      "Available products in the inventory:\n",
      "Product ID: 1,name:Mobile, Price:$299.99, Quantity:8\n",
      "Product ID: 2,name:Tablet, Price:$399.99, Quantity:4\n",
      "Product ID: 3,name:Laptop, Price:$499.99, Quantity:8\n"
     ]
    }
   ],
   "source": [
    "if __name__ ==\"__main__\":\n",
    "    # create an inventory system\n",
    "    inventory_system = InventorySystem()\n",
    "    # Add some products in the inventory\n",
    "    product1 = Product(1, \"Mobile\", 299.99, 10)\n",
    "    product2 = Product(2, \"Tablet\", 399.99, 5)\n",
    "    product3 = Product(3, \"Laptop\", 499.99, 8)\n",
    "    inventory_system.add_product(product1)\n",
    "    inventory_system.add_product(product2)\n",
    "    inventory_system.add_product(product3)\n",
    "    \n",
    "    # Show the available Products\n",
    "    inventory_system.display_available_products()\n",
    "    # update product quantity\n",
    "    inventory_system.update_product_quantity(1, -2)\n",
    "    inventory_system.update_product_quantity(2,-1)\n",
    "    # Show available products after updating quantity\n",
    "    inventory_system.display_available_products()"
   ]
  },
  {
   "cell_type": "markdown",
   "id": "8e7c3f15",
   "metadata": {},
   "source": [
    "### 6.Shape Calculation Create a class representing a shape with attributes like length, width, and height. Implement methods to calculate the area and perimeter of the shape"
   ]
  },
  {
   "cell_type": "code",
   "execution_count": 52,
   "id": "d8cecc02",
   "metadata": {},
   "outputs": [],
   "source": [
    "class Shape:\n",
    "    def __init__(self, length, width, height):\n",
    "        self.length = length\n",
    "        self.height = height\n",
    "        self.width = width\n",
    "        \n",
    "    def calculate_area(self):\n",
    "        raise NotImplementedError(\"Subclasses should implement the calculate_area method.\")\n",
    "        \n",
    "    def calculate_perimeter(self):\n",
    "        raise NotImplementedError(\"Subclasses should implement the calculate_perimeter_method.\")\n",
    "        \n",
    "class Rectangle(Shape):\n",
    "    def calculate_area(self):\n",
    "        return self.length * self.width\n",
    "    \n",
    "    def calculate_perimeter(self):\n",
    "        return 2 * (self.length + self.width)\n",
    "\n",
    "class Circle(Shape):\n",
    "    def calculate_area(self):\n",
    "        import math\n",
    "        return math.pi*(self.radius**2)\n",
    "    def calculate_perimeter(self):\n",
    "        import math\n",
    "        return 2 * math.pi * self.radius\n",
    "    def __init__(self, radius):\n",
    "        super().__init__(length = None,width=None,height=None)\n",
    "        self.radius = radius\n",
    "        \n",
    "class Triangle(Shape):\n",
    "    def calculate_area(self):\n",
    "        return 0.5 * self.base *self.height\n",
    "    \n",
    "    def calculate_perimeter(self):\n",
    "        return self.base +self.side1 + self.side2\n",
    "    \n",
    "    def __init__(self, base, side1, side2, height):\n",
    "        super().__init__(length=None, width=None, height=None)\n",
    "        self.base = base\n",
    "        self.side1 = side1\n",
    "        self.side2 = side2\n",
    "        self.height = height"
   ]
  },
  {
   "cell_type": "code",
   "execution_count": 54,
   "id": "696d5ae4",
   "metadata": {},
   "outputs": [
    {
     "name": "stdout",
     "output_type": "stream",
     "text": [
      "rectangle:\n",
      "Area: 20\n",
      "parameter:18\n",
      "\n",
      "Circle:\n",
      "Area:28.274333882308138\n",
      "Circumference: 18.84955592153876\n",
      "\n",
      "Triangle:\n",
      "Area:9.0\n",
      "Perimeter:14\n"
     ]
    }
   ],
   "source": [
    "if __name__==\"__main__\":\n",
    "    rectangle = Rectangle(5, 4, None)\n",
    "    circle = Circle(3)\n",
    "    triangle = Triangle(6, 4, 4, 3)\n",
    "    \n",
    "    print(\"rectangle:\")\n",
    "    print(f\"Area: {rectangle.calculate_area()}\")\n",
    "    print(f\"parameter:{rectangle.calculate_perimeter()}\")\n",
    "    \n",
    "    print(\"\\nCircle:\")\n",
    "    print(f\"Area:{circle.calculate_area()}\")\n",
    "    print(f\"Circumference: {circle.calculate_perimeter()}\")\n",
    "    \n",
    "    print(\"\\nTriangle:\")\n",
    "    print(f\"Area:{triangle.calculate_area()}\")\n",
    "    print(f\"Perimeter:{triangle.calculate_perimeter()}\")"
   ]
  },
  {
   "cell_type": "markdown",
   "id": "43934aae",
   "metadata": {},
   "source": [
    "### 7.Student Management Create a class representing a student with attributes like student ID, name, and grades. Implement methods to calculate the average grade and display student details"
   ]
  },
  {
   "cell_type": "code",
   "execution_count": 57,
   "id": "65f39132",
   "metadata": {},
   "outputs": [],
   "source": [
    "class Student:\n",
    "    def __init__(self, student_id, name, grades):\n",
    "        self.student_id = student_id\n",
    "        self.name = name\n",
    "        self.grades = grades\n",
    "        \n",
    "    def calculate_average_grade(self):\n",
    "        if not self.grades:\n",
    "            return 0\n",
    "        return sum(self.grades)/len(self.grades)\n",
    "    def display_student_details(self):\n",
    "        print(f\"Student ID:{self.student_id}\")\n",
    "        print(f\"Name:{self.name}\")\n",
    "        print(\"Grades:\", \",\".join(map(str, self.grades)))\n",
    "        print(f\"Average Grade:{self.calculate_average_grade():.2f}\")\n",
    "        "
   ]
  },
  {
   "cell_type": "code",
   "execution_count": 58,
   "id": "e31e7788",
   "metadata": {},
   "outputs": [
    {
     "name": "stdout",
     "output_type": "stream",
     "text": [
      "Student ID:101\n",
      "Name:Chaitanya\n",
      "Grades: 85,90,75,88,94\n",
      "Average Grade:86.40\n",
      "Student ID:202\n",
      "Name:Ravi\n",
      "Grades: 88,90,75,98,91\n",
      "Average Grade:88.40\n"
     ]
    }
   ],
   "source": [
    "if __name__ ==\"__main__\":\n",
    "    student1 = Student(101,\"Chaitanya\", [85,90,75,88,94])\n",
    "    \n",
    "    student1.display_student_details()\n",
    "    \n",
    "    student2 = Student(202, \"Ravi\", [88,90,75,98,91])\n",
    "    student2.display_student_details()"
   ]
  },
  {
   "cell_type": "markdown",
   "id": "97dee361",
   "metadata": {},
   "source": [
    "### 8.Email Management Create a class representing an email with attributes like sender, recipient, and subject. Implement methods to send an email and display email details"
   ]
  },
  {
   "cell_type": "code",
   "execution_count": 59,
   "id": "f3a35380",
   "metadata": {},
   "outputs": [],
   "source": [
    "class Email:\n",
    "    def __init__(self, sender, recipient, subject, message):\n",
    "        self.sender = sender\n",
    "        self.recipient = recipient\n",
    "        self.subject = subject\n",
    "        self.message = message\n",
    "        self.sent = False\n",
    "        \n",
    "    def send_email(self):\n",
    "        if not self.sent:\n",
    "            print(\"Sending email...\")\n",
    "            self.sent = True\n",
    "            print(\"Email sent successfully.\")\n",
    "        else:\n",
    "            print(\"Email has already been sent.\")\n",
    "            \n",
    "    def display_email_details(self):\n",
    "        print(\"Email Details:\")\n",
    "        print(f\"Sender:{self.sender}\")\n",
    "        print(f\"Recipient:{self.recipient}\")\n",
    "        print(f\"Subject:{self.subject}\")\n",
    "        print(\"Message:\")\n",
    "        print(self.message)        "
   ]
  },
  {
   "cell_type": "code",
   "execution_count": 61,
   "id": "5680d4d4",
   "metadata": {},
   "outputs": [
    {
     "name": "stdout",
     "output_type": "stream",
     "text": [
      "Email Details:\n",
      "Sender:chaitanya@gmail.com\n",
      "Recipient:chanikya@gmail.com\n",
      "Subject:Greetings from Chaitanya\n",
      "Message:\n",
      "Hi this is Chaitanya from DataScience.\n",
      "Sending email...\n",
      "Email sent successfully.\n",
      "Email has already been sent.\n"
     ]
    }
   ],
   "source": [
    "if __name__ == \"__main__\":\n",
    "    email = Email(\n",
    "    sender=\"chaitanya@gmail.com\",\n",
    "    recipient=\"chanikya@gmail.com\",\n",
    "    subject=\"Greetings from Chaitanya\",\n",
    "    message=\"Hi this is Chaitanya from DataScience.\"\n",
    "    )\n",
    "    email.display_email_details()\n",
    "    email.send_email()\n",
    "    email.send_email()"
   ]
  },
  {
   "cell_type": "markdown",
   "id": "7138c361",
   "metadata": {},
   "source": [
    "### 9.Social Media Profile Create a class representing a social media profile with attributes like username and posts. Implement methods to add posts, display posts, and search for posts by keyword"
   ]
  },
  {
   "cell_type": "code",
   "execution_count": 62,
   "id": "1798362c",
   "metadata": {},
   "outputs": [],
   "source": [
    "class SocialMediaProfile:\n",
    "    def __init__(self, username):\n",
    "        self.username = username\n",
    "        self.posts = []\n",
    "    def add_post(self, post_text):\n",
    "        self.posts.append(post_text)\n",
    "    \n",
    "    def display_posts(self):\n",
    "        if self.posts:\n",
    "            print(f\"Posts by {self.username}:\")\n",
    "            for i, post in enumerate(self.posts, start=1):\n",
    "                print(f\"{i}.{post}\")\n",
    "        else:\n",
    "            print(f\"{self.username} has no posts yet.\")\n",
    "            \n",
    "    def search_posts_by_keyword(self, keyword):\n",
    "        matching_posts = [post for post in self.posts if keyword.lower() in post.lower()]\n",
    "        if matching_posts:\n",
    "            print(f\"Posts by {self.username} containing '{keyword}':\")\n",
    "            for i, post in enumerate(matching_posts, start=1):\n",
    "                print(f\"{i}.{post}\")\n",
    "        else:\n",
    "            print(f\"No posts by {self.username} contain'{keyword}'.\")"
   ]
  },
  {
   "cell_type": "code",
   "execution_count": 65,
   "id": "488da222",
   "metadata": {},
   "outputs": [
    {
     "name": "stdout",
     "output_type": "stream",
     "text": [
      "Posts by Chaitanya:\n",
      "1.Hello, everyone! How's it going?\n",
      "2.I had a meeting today.\n",
      "3.Successfully complete the scenarios!\n",
      "No posts by Chaitanya contain'restaurant'.\n"
     ]
    }
   ],
   "source": [
    "if __name__==\"__main__\":\n",
    "    profile = SocialMediaProfile(\"Chaitanya\")\n",
    "    \n",
    "    profile.add_post(\"Hello, everyone! How's it going?\")\n",
    "    profile.add_post(\"I had a meeting today.\")\n",
    "    profile.add_post(\"Successfully complete the scenarios!\")\n",
    "    \n",
    "    profile.display_posts()\n",
    "    \n",
    "    keyword = \"restaurant\"\n",
    "    profile.search_posts_by_keyword(keyword)"
   ]
  },
  {
   "cell_type": "markdown",
   "id": "982efaa5",
   "metadata": {},
   "source": [
    "### 10.ToDo List Create a class representing a ToDo list with attributes like tasks and due dates. Implement methods to add tasks, mark tasks as completed, and display pending tasks"
   ]
  },
  {
   "cell_type": "code",
   "execution_count": 66,
   "id": "4168eaad",
   "metadata": {},
   "outputs": [],
   "source": [
    "class ToDoList:\n",
    "    def __init__(self):\n",
    "        self.tasks = {}\n",
    "        \n",
    "    def add_task(self, task, due_date):\n",
    "        self.tasks[task] = due_date\n",
    "        \n",
    "    def mark_task_completed(self, task):\n",
    "        if task in self.tasks:\n",
    "            del self.tasks[task]\n",
    "            print(f\"Task '{task}' marked as completed.\")\n",
    "        else:\n",
    "            print(f\"Task '{task}' not found in the TODO list.\")\n",
    "            \n",
    "    def display_pending_tasks(self):\n",
    "        if self.tasks:\n",
    "            print(\"PEnding Tasks:\")\n",
    "            for task, due_date in self.tasks.items():\n",
    "                print(f\"-{task} (Due on: {due_date})\")\n",
    "            else:\n",
    "                print(\"No pending tasks in the ToDo list.\")   \n",
    "                "
   ]
  },
  {
   "cell_type": "code",
   "execution_count": 68,
   "id": "60c7e3a6",
   "metadata": {},
   "outputs": [
    {
     "name": "stdout",
     "output_type": "stream",
     "text": [
      "PEnding Tasks:\n",
      "-Complete Assignment (Due on: 2023-10-15)\n",
      "-Buy Shoes (Due on: 2023-10-12)\n",
      "-Call Naveen (Due on: 2023-10-11)\n",
      "No pending tasks in the ToDo list.\n",
      "Task 'Buy groceries' not found in the TODO list.\n",
      "PEnding Tasks:\n",
      "-Complete Assignment (Due on: 2023-10-15)\n",
      "-Buy Shoes (Due on: 2023-10-12)\n",
      "-Call Naveen (Due on: 2023-10-11)\n",
      "No pending tasks in the ToDo list.\n"
     ]
    }
   ],
   "source": [
    "if __name__ == \"__main__\":\n",
    "    todo_list = ToDoList()\n",
    "    \n",
    "    todo_list.add_task(\"Complete Assignment\", \"2023-10-15\")\n",
    "    todo_list.add_task(\"Buy Shoes\", \"2023-10-12\")\n",
    "    todo_list.add_task(\"Call Naveen\", \"2023-10-11\")\n",
    "    todo_list.display_pending_tasks()\n",
    "    todo_list.mark_task_completed(\"Buy groceries\")\n",
    "    todo_list.display_pending_tasks()"
   ]
  }
 ],
 "metadata": {
  "kernelspec": {
   "display_name": "Python 3 (ipykernel)",
   "language": "python",
   "name": "python3"
  },
  "language_info": {
   "codemirror_mode": {
    "name": "ipython",
    "version": 3
   },
   "file_extension": ".py",
   "mimetype": "text/x-python",
   "name": "python",
   "nbconvert_exporter": "python",
   "pygments_lexer": "ipython3",
   "version": "3.10.9"
  }
 },
 "nbformat": 4,
 "nbformat_minor": 5
}
