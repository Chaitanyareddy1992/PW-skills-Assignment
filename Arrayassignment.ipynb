{
  "nbformat": 4,
  "nbformat_minor": 0,
  "metadata": {
    "colab": {
      "provenance": []
    },
    "kernelspec": {
      "name": "python3",
      "display_name": "Python 3"
    },
    "language_info": {
      "name": "python"
    }
  },
  "cells": [
    {
      "cell_type": "markdown",
      "source": [
        "1. Given an array, check if it contains any duplicates or not.\n",
        "arr = [1, 2, 4, 2, 5, 9]\n",
        "Output = True"
      ],
      "metadata": {
        "id": "Y1e_zXcw0MHJ"
      }
    },
    {
      "cell_type": "code",
      "source": [
        "## Search Algorithm\n",
        "## time Complexity:O(n)\n",
        "## space complexity:O(1)\n",
        "def has_duplicates(arr):\n",
        "  hash_set = set()\n",
        "  for i in arr:\n",
        "    if i in hash_set:\n",
        "      return True\n",
        "    hash_set.add(i)\n",
        "  return False\n",
        "\n",
        "    ## Driver code\n",
        "arr = [1, 2, 4, 2, 5, 9]\n",
        "result = has_duplicates(arr)\n",
        "print(result)"
      ],
      "metadata": {
        "colab": {
          "base_uri": "https://localhost:8080/"
        },
        "id": "8SpM8yK70GD7",
        "outputId": "bbb29890-06ba-4734-ad0f-f0c2680eb89f"
      },
      "execution_count": 20,
      "outputs": [
        {
          "output_type": "stream",
          "name": "stdout",
          "text": [
            "True\n"
          ]
        }
      ]
    },
    {
      "cell_type": "markdown",
      "source": [
        "2. Given an array and an integer k, rotate the array to the right by k steps.\n",
        "arr = [1, 2, 3, 4, 5, 6, 7] k = 3\n",
        "Output = [5, 6, 7, 1, 2, 3, 4]"
      ],
      "metadata": {
        "id": "jlo7JRXO8KH2"
      }
    },
    {
      "cell_type": "code",
      "source": [
        "## Search Algorithm\n",
        "## time complexity:O(n)\n",
        "## space complexity:O(1)\n",
        "\n",
        "def rotate_array(arr, k):\n",
        "  n = len(arr)\n",
        "  k = k % n\n",
        "\n",
        "  # Reverse the entire array\n",
        "  reverse_array(arr, 0, n-1)\n",
        "  # Reverse the first key elements\n",
        "  reverse_array(arr, 0, k-1)\n",
        "  # Reverse the remaining elements\n",
        "  reverse_array(arr, k, n-1)\n",
        "\n",
        "def reverse_array(arr, start, end):\n",
        "  while start < end:\n",
        "    arr[start], arr[end] = arr[end], arr[start]\n",
        "    start+= 1\n",
        "    end -= 1\n",
        "## Driver code\n",
        "arr = [1, 2, 3, 4, 5, 6, 7]\n",
        "k = 3\n",
        "rotate_array(arr, k)\n",
        "print(arr)"
      ],
      "metadata": {
        "colab": {
          "base_uri": "https://localhost:8080/"
        },
        "id": "gB3QK7yc4fRx",
        "outputId": "0ca52316-16fa-4ac8-e28b-c697b1c0b266"
      },
      "execution_count": 26,
      "outputs": [
        {
          "output_type": "stream",
          "name": "stdout",
          "text": [
            "[5, 6, 7, 1, 2, 3, 4]\n"
          ]
        }
      ]
    },
    {
      "cell_type": "markdown",
      "source": [
        "3. Reverse the given array in-place, means without using any extra data structure.\n",
        "arr = [2, 4, 5, 7, 9, 12]\n",
        "Output = [12, 9, 7, 5, 4, 2]"
      ],
      "metadata": {
        "id": "WQlUSm9GG_L_"
      }
    },
    {
      "cell_type": "code",
      "source": [
        "## time complexity:O(n)\n",
        "## space complexity:O(1)\n",
        "\n",
        "\n",
        "def reverse_array(arr):\n",
        "  start = 0\n",
        "  end = len(arr) - 1\n",
        "  while start < end:\n",
        "    ## swap the elements from start to end\n",
        "    arr[start], arr[end] = arr[end], arr[start]\n",
        "    start += 1\n",
        "    end -= 1\n",
        "\n",
        "## Driver code\n",
        "arr = [2, 4, 5, 7, 9, 12]\n",
        "reverse_array(arr)\n",
        "print(arr)"
      ],
      "metadata": {
        "colab": {
          "base_uri": "https://localhost:8080/"
        },
        "id": "CIAT4ep6EJtw",
        "outputId": "5009515a-4758-470b-d51b-972ce122f3c1"
      },
      "execution_count": 31,
      "outputs": [
        {
          "output_type": "stream",
          "name": "stdout",
          "text": [
            "[12, 9, 7, 5, 4, 2]\n"
          ]
        }
      ]
    },
    {
      "cell_type": "markdown",
      "source": [
        "4. Given an array of integers, find the maximum element in an array\n",
        "arr = [10, 5, 20, 8, 15]\n",
        "Output = 20"
      ],
      "metadata": {
        "id": "KOFer4tKO7e8"
      }
    },
    {
      "cell_type": "code",
      "source": [
        "## time complexity: O(n)\n",
        "## space complexity: O(1)\n",
        "def find_max_element(arr):\n",
        "  max_element = arr[0]\n",
        "\n",
        "  for i in arr:\n",
        "    if i > max_element:\n",
        "      max_element = i\n",
        "  return max_element\n",
        "\n",
        "arr = [10, 5, 20, 8, 15]\n",
        "result = find_max_element(arr)\n",
        "print(result)\n"
      ],
      "metadata": {
        "colab": {
          "base_uri": "https://localhost:8080/"
        },
        "id": "8Pqao7XaIVR6",
        "outputId": "db2915a8-69f0-4d41-a7ec-ecdf8e15f856"
      },
      "execution_count": 35,
      "outputs": [
        {
          "output_type": "stream",
          "name": "stdout",
          "text": [
            "20\n"
          ]
        }
      ]
    },
    {
      "cell_type": "markdown",
      "source": [
        "5. Given a sorted array, remove the duplicate element without using any extra data structure.\n",
        "arr = [1, 1, 2, 2, 2, 3, 3, 4, 4, 4, 5, 5]\n",
        "Output = [1, 2, 3, 4, 5]"
      ],
      "metadata": {
        "id": "ERdx87vdSxQY"
      }
    },
    {
      "cell_type": "code",
      "source": [
        "## time complexity : O(n)\n",
        "## space complexity : O(1)\n",
        "\n",
        "def remove_duplicates(arr):\n",
        "  unique = 0\n",
        "  for i in range(1, len(arr)):\n",
        "    if arr[i] != arr[unique]:\n",
        "      unique += 1\n",
        "      arr[unique] = arr[i]\n",
        "\n",
        "  return unique + 1\n",
        "\n",
        "arr = [1, 1, 2, 2, 2, 3, 3, 4, 4, 4, 5, 5]\n",
        "new_length = remove_duplicates(arr)\n",
        "result = arr[:new_length]\n",
        "print(result)"
      ],
      "metadata": {
        "colab": {
          "base_uri": "https://localhost:8080/"
        },
        "id": "U9zi2XfNQpsb",
        "outputId": "4c762b62-fe0e-4353-b6f6-1955dd041602"
      },
      "execution_count": 5,
      "outputs": [
        {
          "output_type": "stream",
          "name": "stdout",
          "text": [
            "[1, 2, 3, 4, 5]\n"
          ]
        }
      ]
    },
    {
      "cell_type": "code",
      "source": [
        "\n"
      ],
      "metadata": {
        "id": "yJlwPwIzuhS3"
      },
      "execution_count": null,
      "outputs": []
    }
  ]
}