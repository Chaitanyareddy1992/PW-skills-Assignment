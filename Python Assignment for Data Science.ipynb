{
 "cells": [
  {
   "cell_type": "markdown",
   "id": "9e3624ef",
   "metadata": {},
   "source": [
    "## 1. Declare two variables, `x` and `y`, and assign them integer values.Swap the values of these variables with out using any temporary variables."
   ]
  },
  {
   "cell_type": "code",
   "execution_count": 1,
   "id": "2001e624",
   "metadata": {},
   "outputs": [],
   "source": [
    "# given the Values for x and y for swapping\n",
    "x = 20\n",
    "y = 10"
   ]
  },
  {
   "cell_type": "code",
   "execution_count": 2,
   "id": "875655a0",
   "metadata": {},
   "outputs": [],
   "source": [
    "# Addition the values for x and y in x\n",
    "x = x+y"
   ]
  },
  {
   "cell_type": "code",
   "execution_count": 3,
   "id": "5255155f",
   "metadata": {},
   "outputs": [
    {
     "name": "stdout",
     "output_type": "stream",
     "text": [
      "30\n"
     ]
    }
   ],
   "source": [
    "print(x)"
   ]
  },
  {
   "cell_type": "code",
   "execution_count": 4,
   "id": "62d58916",
   "metadata": {},
   "outputs": [],
   "source": [
    "# subtract the values for x and y in y\n",
    "y = x-y"
   ]
  },
  {
   "cell_type": "code",
   "execution_count": 5,
   "id": "9bf2c013",
   "metadata": {},
   "outputs": [
    {
     "name": "stdout",
     "output_type": "stream",
     "text": [
      "20\n"
     ]
    }
   ],
   "source": [
    "print(y)"
   ]
  },
  {
   "cell_type": "code",
   "execution_count": 6,
   "id": "3fb657a9",
   "metadata": {},
   "outputs": [],
   "source": [
    "# After subtraction of y values again subtract the values of x to get exact swapping results\n",
    "x = x-y"
   ]
  },
  {
   "cell_type": "code",
   "execution_count": 7,
   "id": "fa34bc78",
   "metadata": {},
   "outputs": [
    {
     "name": "stdout",
     "output_type": "stream",
     "text": [
      "x= 10 y= 20\n"
     ]
    }
   ],
   "source": [
    "# After swapping\n",
    "print(\"x=\",x,\"y=\",y)"
   ]
  },
  {
   "cell_type": "markdown",
   "id": "cec1a9b2",
   "metadata": {},
   "source": [
    "## 2. Create a program that calculates the area of a rectangle. Take the length and width as inputs from the user and store them in variables.Calculate and display the area."
   ]
  },
  {
   "cell_type": "code",
   "execution_count": 54,
   "id": "4d0824b3",
   "metadata": {},
   "outputs": [],
   "source": [
    "Length = x\n",
    "width = y"
   ]
  },
  {
   "cell_type": "code",
   "execution_count": 55,
   "id": "db9f4dd3",
   "metadata": {},
   "outputs": [],
   "source": [
    "x = 50\n",
    "y = 100"
   ]
  },
  {
   "cell_type": "code",
   "execution_count": 56,
   "id": "8682356f",
   "metadata": {},
   "outputs": [],
   "source": [
    "## Area is the calculation of length and width\n",
    "Area = x * y"
   ]
  },
  {
   "cell_type": "code",
   "execution_count": 58,
   "id": "30528018",
   "metadata": {},
   "outputs": [
    {
     "name": "stdout",
     "output_type": "stream",
     "text": [
      "The Total Area of the Rectangle x and y is:= 5000\n"
     ]
    }
   ],
   "source": [
    "print(\"The Total Area of the Rectangle\",\"x and y is:=\",Area)"
   ]
  },
  {
   "cell_type": "code",
   "execution_count": null,
   "id": "8eac0350",
   "metadata": {},
   "outputs": [],
   "source": []
  },
  {
   "cell_type": "markdown",
   "id": "82bce033",
   "metadata": {},
   "source": [
    "## 3.3. Write a Python program that converts temperature from Celsius toFahrenheit. Take the temperature in Celsius as input, store it in avariable, convert it to Fahrenheit, and display the result."
   ]
  },
  {
   "cell_type": "code",
   "execution_count": 45,
   "id": "67374064",
   "metadata": {},
   "outputs": [],
   "source": [
    "celsius = x"
   ]
  },
  {
   "cell_type": "code",
   "execution_count": 46,
   "id": "dc8f60cf",
   "metadata": {},
   "outputs": [],
   "source": [
    "# Assigning the value of x\n",
    "x = 58"
   ]
  },
  {
   "cell_type": "code",
   "execution_count": 47,
   "id": "fff427bc",
   "metadata": {},
   "outputs": [],
   "source": [
    "# Fahrenheit = (celsius * 1.8)+32\n",
    "# celsius = (Fahrenheit * 32)/1.8\n",
    "Fahrenheit = (x * 1.8)+32"
   ]
  },
  {
   "cell_type": "code",
   "execution_count": 53,
   "id": "03a860d3",
   "metadata": {},
   "outputs": [
    {
     "name": "stdout",
     "output_type": "stream",
     "text": [
      "136.4\n"
     ]
    }
   ],
   "source": [
    "print(Fahrenheit)"
   ]
  },
  {
   "cell_type": "code",
   "execution_count": null,
   "id": "14cac957",
   "metadata": {},
   "outputs": [],
   "source": []
  },
  {
   "cell_type": "markdown",
   "id": "f0502a44",
   "metadata": {},
   "source": [
    "# 1. Write a Python program that takes a string as input and prints the length of the string."
   ]
  },
  {
   "cell_type": "code",
   "execution_count": 88,
   "id": "c824df2b",
   "metadata": {},
   "outputs": [
    {
     "name": "stdout",
     "output_type": "stream",
     "text": [
      "Enter a string value: pwskills\n",
      "The length of the string is: 8\n"
     ]
    }
   ],
   "source": [
    "string = input(\"Enter a string value: \")\n",
    "str_length = len(string)\n",
    "print(\"The length of the string is:\",str_length)"
   ]
  },
  {
   "cell_type": "markdown",
   "id": "1ff2ea66",
   "metadata": {},
   "source": [
    "## Create a program that takes a sentence from the user and counts the number of vowels (a, e, i, o, u) in the string."
   ]
  },
  {
   "cell_type": "code",
   "execution_count": 87,
   "id": "b85f4818",
   "metadata": {},
   "outputs": [
    {
     "name": "stdout",
     "output_type": "stream",
     "text": [
      "Enter a string value: Datascience\n",
      "The number of vowels for a given string is: 5\n"
     ]
    }
   ],
   "source": [
    "# Input the values for a string\n",
    "string = input(\"Enter a string value: \")\n",
    "#  Put values into a lower string\n",
    "string = string.lower()\n",
    "vowelsvalue = 0\n",
    "vowelsdata = {'a', 'e', 'i', 'o', 'u'}\n",
    "for char in input_string:\n",
    "    if char in vowelsdata:\n",
    "        vowelsvalue += 1\n",
    "print(\"The number of vowels for a given string is:\", vowelsvalue)"
   ]
  },
  {
   "cell_type": "markdown",
   "id": "14173da3",
   "metadata": {},
   "source": [
    "## Given a string, reverse the order of characters using string slicing and print the reversed string."
   ]
  },
  {
   "cell_type": "code",
   "execution_count": 85,
   "id": "8c369c0f",
   "metadata": {},
   "outputs": [
    {
     "name": "stdout",
     "output_type": "stream",
     "text": [
      "Enter a string: Data Science\n",
      "ecneicS ataD\n"
     ]
    }
   ],
   "source": [
    "#Input the values of a string\n",
    "string = input(\"Enter a string: \")\n",
    "#  reverse the string values using slicing\n",
    "rev_string = string[::-1]\n",
    "# Print the values for a reversed string\n",
    "print(rev_string)"
   ]
  },
  {
   "cell_type": "markdown",
   "id": "0a9ebb63",
   "metadata": {},
   "source": [
    "## Write a program that takes a string as input and checks if it is a palindrome (reads the same forwards and backwards)."
   ]
  },
  {
   "cell_type": "code",
   "execution_count": 86,
   "id": "608d5a92",
   "metadata": {},
   "outputs": [
    {
     "name": "stdout",
     "output_type": "stream",
     "text": [
      "Enter a string: chaitanya\n",
      "The string is not a palindrome.\n"
     ]
    }
   ],
   "source": [
    "# Get input from the user\n",
    "string = input(\"Enter a string: \")\n",
    "\n",
    "# Remove spaces and convert the string to lowercase for comparison\n",
    "string = string.replace(\" \", \"\").lower()\n",
    "\n",
    "# Reverse the string using slicing\n",
    "rev_string = string[::-1]\n",
    "\n",
    "# Check if the input string is equal to its reversed version\n",
    "if string == rev_string:\n",
    "    print(\"The string is a palindrome.\")\n",
    "else:\n",
    "    print(\"The string is not a palindrome.\")\n"
   ]
  },
  {
   "cell_type": "markdown",
   "id": "d386bd00",
   "metadata": {},
   "source": [
    "## Create a program that takes a string as input and removes all thespaces from it. Print the modified string without spaces"
   ]
  },
  {
   "cell_type": "code",
   "execution_count": 90,
   "id": "053c8cba",
   "metadata": {},
   "outputs": [
    {
     "name": "stdout",
     "output_type": "stream",
     "text": [
      "Enter a string: The Data Science is best career\n",
      "Modified string: TheDataScienceisbestcareer\n"
     ]
    }
   ],
   "source": [
    "# Get input from the user\n",
    "string = input(\"Enter a string: \")\n",
    "\n",
    "# Removing spaces from the string\n",
    "modified_string = string.replace(\" \", \"\")\n",
    "\n",
    "# Print the modified string with out spaces\n",
    "print(\"Modified string:\", modified_string)"
   ]
  },
  {
   "cell_type": "code",
   "execution_count": null,
   "id": "c8e0bec2",
   "metadata": {},
   "outputs": [],
   "source": []
  }
 ],
 "metadata": {
  "kernelspec": {
   "display_name": "Python 3 (ipykernel)",
   "language": "python",
   "name": "python3"
  },
  "language_info": {
   "codemirror_mode": {
    "name": "ipython",
    "version": 3
   },
   "file_extension": ".py",
   "mimetype": "text/x-python",
   "name": "python",
   "nbconvert_exporter": "python",
   "pygments_lexer": "ipython3",
   "version": "3.10.9"
  }
 },
 "nbformat": 4,
 "nbformat_minor": 5
}
